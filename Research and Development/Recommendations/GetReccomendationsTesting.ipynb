{
 "cells": [
  {
   "cell_type": "code",
   "execution_count": 1,
   "metadata": {},
   "outputs": [],
   "source": [
    "import spotipy\n",
    "from spotipy.oauth2 import SpotifyClientCredentials\n",
    "import pandas as pd\n",
    "import warnings\n",
    "import os\n",
    "#ignoring the warning that the DataFrame.append() method is deprecated and will eventually be removed.\n",
    "warnings.filterwarnings(action='ignore', category=FutureWarning)\n",
    "\n",
    "\n",
    "#need to have credentials to access API\n",
    "sp = spotipy.Spotify(client_credentials_manager=SpotifyClientCredentials('bf1ba68423404778a60bcf3dee58d199','7365dc611a2d4ddba4ad61343f0b64d7'))\n"
   ]
  },
  {
   "cell_type": "code",
   "execution_count": 9,
   "metadata": {},
   "outputs": [
    {
     "data": {
      "text/plain": [
       "{'danceability': 0.732,\n",
       " 'energy': 0.435,\n",
       " 'key': 8,\n",
       " 'acousticness': 0.68,\n",
       " 'valence': 0.422,\n",
       " 'tempo': 92.015}"
      ]
     },
     "execution_count": 9,
     "metadata": {},
     "output_type": "execute_result"
    }
   ],
   "source": [
    "song = 'https://open.spotify.com/track/4Bhdiu8zhwQR3tXy8YMbCj?si=7eccaf2ba764444d'\n",
    "songFeatures = sp.audio_features(song)[0]\n",
    "songFeatures\n",
    "#make a subdict of the songFeatures dict that only contains the keys danceability, energy, key, acousticness, valence, tempo\n",
    "songFeaturesSubDict = {key: songFeatures[key] for key in ['danceability', 'energy', 'key', 'acousticness', 'valence', 'tempo']}\n",
    "songFeaturesSubDict"
   ]
  },
  {
   "cell_type": "code",
   "execution_count": 2,
   "metadata": {},
   "outputs": [],
   "source": [
    "happyHitsList = ['https://open.spotify.com/track/4N5s8lPTsjI9EGP7K4SXzB?si=d42fb49ce8554ec6','https://open.spotify.com/track/0QHEIqNKsMoOY5urbzN48u?si=1a781d2c110e4359','https://open.spotify.com/track/7d4lvIqCYS2DGTCZAjmCHu?si=192e37042cd849be','https://open.spotify.com/track/6sZo5nJIsFWXefRCCexpx0?si=9257be0565a74ddd', 'https://open.spotify.com/track/3UEOT0hD60yGB1OMWJxLQ8?si=f51cd32f497f4776','https://open.spotify.com/track/5mfGEs5n647v4WE3K5YmBy?si=1e6c7e3943f54ef6','https://open.spotify.com/track/6UN73IYd0hZxLi8wFPMQij?si=ced742fe431949d4','https://open.spotify.com/track/10xV5l9nhLvFpR8mqzs0bL?si=791d6b2cb9c04df4','https://open.spotify.com/track/4h4QlmocP3IuwYEj2j14p8?si=efe24705976e481b','https://open.spotify.com/track/2rmwqU7yzTvzkiaRV53DpT?si=1e92ce64df7641f2']"
   ]
  },
  {
   "cell_type": "code",
   "execution_count": 3,
   "metadata": {},
   "outputs": [
    {
     "name": "stdout",
     "output_type": "stream",
     "text": [
      "{'danceability': 0.685, 'energy': 0.738, 'key': 8, 'acousticness': 0.0695, 'valence': 0.8, 'tempo': 112.972}\n",
      "{'danceability': 0.838, 'energy': 0.525, 'key': 10, 'acousticness': 0.345, 'valence': 0.884, 'tempo': 144.981}\n",
      "{'danceability': 0.69, 'energy': 0.816, 'key': 7, 'acousticness': 0.0169, 'valence': 0.905, 'tempo': 134.014}\n",
      "{'danceability': 0.668, 'energy': 0.802, 'key': 5, 'acousticness': 0.0273, 'valence': 0.769, 'tempo': 113.796}\n",
      "{'danceability': 0.692, 'energy': 0.758, 'key': 3, 'acousticness': 0.158, 'valence': 0.701, 'tempo': 94.058}\n",
      "{'danceability': 0.682, 'energy': 0.762, 'key': 4, 'acousticness': 0.143, 'valence': 0.797, 'tempo': 87.032}\n",
      "{'danceability': 0.954, 'energy': 0.516, 'key': 6, 'acousticness': 0.03, 'valence': 0.624, 'tempo': 105.001}\n",
      "{'danceability': 0.912, 'energy': 0.774, 'key': 0, 'acousticness': 0.121, 'valence': 0.632, 'tempo': 119.966}\n",
      "{'danceability': 0.768, 'energy': 0.714, 'key': 10, 'acousticness': 0.352, 'valence': 0.842, 'tempo': 131.443}\n",
      "{'danceability': 0.721, 'energy': 0.769, 'key': 7, 'acousticness': 0.0922, 'valence': 0.915, 'tempo': 155.932}\n"
     ]
    }
   ],
   "source": [
    "for song in happyHitsList:\n",
    "    songFeatures = sp.audio_features(song)[0]\n",
    "    songFeaturesSubDict = {key: songFeatures[key] for key in ['danceability', 'energy', 'key', 'acousticness', 'valence', 'tempo']}\n",
    "    print(songFeaturesSubDict)"
   ]
  },
  {
   "cell_type": "code",
   "execution_count": 15,
   "metadata": {},
   "outputs": [
    {
     "name": "stdout",
     "output_type": "stream",
     "text": [
      "Late in the Evening\n",
      "spotify:track:3Itz6Ki6IPtLDuKvqSbREv\n",
      "{'danceability': 0.528, 'energy': 0.725, 'key': 0, 'acousticness': 0.192, 'valence': 0.336, 'tempo': 120.876}\n",
      "Candyfloss\n",
      "spotify:track:4qMcXVzphY85iKSxYYrtoq\n",
      "{'danceability': 0.696, 'energy': 0.818, 'key': 0, 'acousticness': 0.0155, 'valence': 0.861, 'tempo': 125.01}\n",
      "Charlie\n",
      "spotify:track:7aRSNPr2LpTl8v8jQnfWmD\n",
      "{'danceability': 0.734, 'energy': 0.655, 'key': 5, 'acousticness': 0.00405, 'valence': 0.803, 'tempo': 107.043}\n",
      "What Makes You Beautiful\n",
      "spotify:track:4cluDES4hQEUhmXj6TXkSo\n",
      "{'danceability': 0.726, 'energy': 0.787, 'key': 4, 'acousticness': 0.009, 'valence': 0.888, 'tempo': 124.99}\n",
      "Cate’s Brother\n",
      "spotify:track:7uHJpostAYqNJ8nZM1tp78\n",
      "{'danceability': 0.735, 'energy': 0.648, 'key': 1, 'acousticness': 0.0114, 'valence': 0.395, 'tempo': 97.985}\n"
     ]
    }
   ],
   "source": [
    "#https://open.spotify.com/track/4Bhdiu8zhwQR3tXy8YMbCj?si=7eccaf2ba764444d\n",
    "for track in sp.recommendations(seed_tracks=happyHitsList[:5], limit=5)['tracks']:\n",
    "    print(track['name'])\n",
    "    trackID = track['uri']\n",
    "    print(trackID)\n",
    "    songFeatures2 = sp.audio_features(trackID)[0]\n",
    "    songFeaturesSubDict2={key: songFeatures2[key] for key in ['danceability', 'energy', 'key', 'acousticness', 'valence', 'tempo']}\n",
    "    print(songFeaturesSubDict2)"
   ]
  },
  {
   "cell_type": "code",
   "execution_count": null,
   "metadata": {},
   "outputs": [],
   "source": [
    "song = 'spotify:track:4hJ66Ebt5fh6xSWoqGrZCC'\n",
    "songFeatures = sp.audio_features(song)[0]\n",
    "songFeatures\n",
    "#make a subdict of the songFeatures dict that only contains the keys danceability, energy, key, acousticness, valence, tempo\n",
    "songFeaturesSubDict = {key: songFeatures[key] for key in ['danceability', 'energy', 'key', 'acousticness', 'valence', 'tempo']}\n",
    "songFeaturesSubDict"
   ]
  }
 ],
 "metadata": {
  "kernelspec": {
   "display_name": "CudaTest",
   "language": "python",
   "name": "python3"
  },
  "language_info": {
   "codemirror_mode": {
    "name": "ipython",
    "version": 3
   },
   "file_extension": ".py",
   "mimetype": "text/x-python",
   "name": "python",
   "nbconvert_exporter": "python",
   "pygments_lexer": "ipython3",
   "version": "3.9.16"
  },
  "orig_nbformat": 4,
  "vscode": {
   "interpreter": {
    "hash": "e2fa8f4dd4130559c9bb206ea5c1e5e62ed157dfd2663e7fcefd868ad60d1c17"
   }
  }
 },
 "nbformat": 4,
 "nbformat_minor": 2
}
