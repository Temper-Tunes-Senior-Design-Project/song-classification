{
 "cells": [
  {
   "cell_type": "code",
   "execution_count": 2,
   "id": "85b7d39a",
   "metadata": {},
   "outputs": [],
   "source": [
    "#import firebase_firestore\n",
    "import numpy as np\n",
    "from numpy.linalg import norm\n",
    "import firebase_admin\n",
    "from firebase_admin import credentials\n",
    "from firebase_admin import firestore"
   ]
  },
  {
   "cell_type": "code",
   "execution_count": 4,
   "id": "0526b201",
   "metadata": {},
   "outputs": [],
   "source": [
    "#Initialize credentials to database\n",
    "cred = None\n",
    "def firestoreConnection():\n",
    "    global cred\n",
    "    cred = credentials.Certificate(\"mood-swing-6c9d0-firebase-adminsdk-9cm02-66f39cc0dd.json\")\n",
    "    firebase_admin.initialize_app(cred)"
   ]
  },
  {
   "cell_type": "code",
   "execution_count": 5,
   "id": "aa857f70",
   "metadata": {},
   "outputs": [],
   "source": [
    "#CONSTANTS\n",
    "#may need to be used if mood_index is passed instead of the mood itself\n",
    "moods = ['sad','angry','energetic','excited','happy','content','calm','depressed'] "
   ]
  },
  {
   "cell_type": "code",
   "execution_count": 29,
   "id": "6bd7666b",
   "metadata": {},
   "outputs": [],
   "source": [
    "#Function to store centroid values and the 5 closest songs to that centroid\n",
    "\n",
    "#Parameters: user, dict of song names and their list of metadata values, the mood for the centroid to retrieve\n",
    "def closestSongs(user_id, songs, mood):\n",
    "    if cred == None:\n",
    "        firestoreConnection()\n",
    "    centroid = retrieveCentroid(user_id, mood)\n",
    "    if len(songs) <= 5: return songs.keys()\n",
    "    distances = []\n",
    "    for (name, score) in songs.items():\n",
    "        calculated_distance = cosineSimilarity(centroid, score)\n",
    "        distances.append((name,calculated_distance))\n",
    "    #sort the distances by value\n",
    "    distances = sorted(distances, key=lambda x: x[1])\n",
    "    print(distances[:5])\n",
    "    print([pair[0] for pair in distances[:5]])\n",
    "    #return the song names of the 5 smallest distances\n",
    "    return [pair[0] for pair in distances[:5]]\n",
    "\n",
    "def cosineSimilarity(arr1, arr2):\n",
    "    return np.dot(arr1, arr2)/(norm(arr1)*norm(arr2))\n",
    "        \n",
    "def retrieveCentroid(user_id, mood):\n",
    "    # Get a reference to the users collection\n",
    "    users_ref = firestore.client().collection(\"users\")\n",
    "    # Get a reference to the specific user's document\n",
    "    user_doc_ref = users_ref.document(user_id)\n",
    "    # Get a reference to the \"mood\" document in the centroids subcollection\n",
    "    mood_doc_ref = user_doc_ref.collection(\"centroids\").document(mood) \n",
    "    return list(mood_doc_ref.get().to_dict().values()) #Centroid"
   ]
  },
  {
   "cell_type": "code",
   "execution_count": 30,
   "id": "2298463a",
   "metadata": {},
   "outputs": [
    {
     "name": "stdout",
     "output_type": "stream",
     "text": [
      "[('name0', 0.5928846502375861), ('name6', 0.6277662881590378), ('name3', 0.6503277463365955), ('name2', 0.6671520770405042), ('name1', 0.684620328809726)]\n",
      "['name0', 'name6', 'name3', 'name2', 'name1']\n"
     ]
    }
   ],
   "source": [
    "import random\n",
    "user_id = \"0Lol0ym3tAahQZDjetO7C5i1VFJ3\"\n",
    "songs = {f\"name{i}\": [random.random() for j in range(13)] for i in range(10)}\n",
    "mood = \"angry\"\n",
    "song_list = closestSongs(user_id, songs, mood)"
   ]
  },
  {
   "cell_type": "code",
   "execution_count": null,
   "id": "9922a87b",
   "metadata": {},
   "outputs": [],
   "source": [
    "# def calculateCentroid(songs):\n",
    "#     if len(songs) == 0: return None\n",
    "#     #get scores for the mood\n",
    "#     num_fields = len(songs[0][1]) #(- 1? if last field is label?)\n",
    "#     num_songs = len(songs)\n",
    "#     weight = 1/num_songs\n",
    "#     cumulative_score = [0 for element in range(num_fields)]\n",
    "#     for (_,scores) in songs:\n",
    "#         cumulative_score = np.add(scores, cumulative_score)\n",
    "#     return np.multiply(weight, cumulative_score) #Centroid"
   ]
  }
 ],
 "metadata": {
  "kernelspec": {
   "display_name": "Python 3 (ipykernel)",
   "language": "python",
   "name": "python3"
  },
  "language_info": {
   "codemirror_mode": {
    "name": "ipython",
    "version": 3
   },
   "file_extension": ".py",
   "mimetype": "text/x-python",
   "name": "python",
   "nbconvert_exporter": "python",
   "pygments_lexer": "ipython3",
   "version": "3.9.13"
  }
 },
 "nbformat": 4,
 "nbformat_minor": 5
}
