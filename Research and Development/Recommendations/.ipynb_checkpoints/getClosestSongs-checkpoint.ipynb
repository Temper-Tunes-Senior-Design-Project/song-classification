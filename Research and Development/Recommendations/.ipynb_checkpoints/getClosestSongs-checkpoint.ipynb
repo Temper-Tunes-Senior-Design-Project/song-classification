{
 "cells": [
  {
   "cell_type": "code",
   "execution_count": 1,
   "id": "d69c83c3",
   "metadata": {},
   "outputs": [],
   "source": [
    "#import firebase_firestore\n",
    "import numpy as np\n",
    "from numpy.linalg import norm\n",
    "import firebase_admin\n",
    "from firebase_admin import credentials\n",
    "from firebase_admin import firestore"
   ]
  },
  {
   "cell_type": "code",
   "execution_count": 2,
   "id": "0556ec75",
   "metadata": {},
   "outputs": [],
   "source": [
    "#Initialize credentials to database\n",
    "cred = None\n",
    "def firestoreConnection():\n",
    "    global cred\n",
    "    cred = credentials.Certificate(\"mood-swing-6c9d0-firebase-adminsdk-9cm02-66f39cc0dd.json\")\n",
    "    firebase_admin.initialize_app(cred)"
   ]
  },
  {
   "cell_type": "code",
   "execution_count": 3,
   "id": "00f0f060",
   "metadata": {},
   "outputs": [],
   "source": [
    "#CONSTANTS\n",
    "#may need to be used if mood_index is passed instead of the mood itself\n",
    "moods = ['sad','angry','energetic','excited','happy','content','calm','depressed']"
   ]
  },
  {
   "cell_type": "code",
   "execution_count": 7,
   "id": "6ff81389",
   "metadata": {},
   "outputs": [],
   "source": [
    "#Function to store centroid values and the 5 closest songs to that centroid\n",
    "\n",
    "#Parameters: user, dict of song names and their list of metadata values, the mood for the centroid to retrieve\n",
    "def closestSongs(user_id, songs, mood):\n",
    "    if cred == None:\n",
    "        firestoreConnection()\n",
    "    centroid = retrieveCentroid(user_id, mood)\n",
    "    print(f\"centroid: {centroid}\")\n",
    "    if len(songs) <= 5: return songs.keys()\n",
    "    distances = []\n",
    "    for (name, score) in songs.items():\n",
    "        calculated_distance = cosineSimilarity(centroid, score)\n",
    "        distances.append((name,calculated_distance))\n",
    "    #sort the distances by value\n",
    "    distances = sorted(distances, key=lambda x: x[1], reverse=True)\n",
    "    \n",
    "    print(distances[:5])\n",
    "    #return the song names of the 5 smallest distances\n",
    "    return [pair[0] for pair in distances[:5]]\n",
    "\n",
    "def cosineSimilarity(arr1, arr2):\n",
    "    return np.dot(arr1, arr2)/(norm(arr1)*norm(arr2))\n",
    "        \n",
    "def retrieveCentroid(user_id, mood):\n",
    "    # Get a reference to the users collection\n",
    "    users_ref = firestore.client().collection(\"users\")\n",
    "    # Get a reference to the specific user's document\n",
    "    user_doc_ref = users_ref.document(user_id)\n",
    "    # Get a reference to the \"mood\" document in the centroids subcollection\n",
    "    mood_doc_ref = user_doc_ref.collection(\"centroids\").document(mood)\n",
    "    # Get the centroid in dict format\n",
    "    centroid_dict = mood_doc_ref.get().to_dict()\n",
    "    sorted_dict = sorted(centroid_dict.items(), key=lambda x: x[0])\n",
    "    centroid = [v[1] for v in sorted_dict]\n",
    "    return centroid"
   ]
  },
  {
   "cell_type": "code",
   "execution_count": 8,
   "id": "5ec7ac50",
   "metadata": {},
   "outputs": [
    {
     "name": "stdout",
     "output_type": "stream",
     "text": [
      "centroid: [0.75, 0.35, 0.2, 0.1, 1, 0.45, 0.65, 0.1, 0.33, 0.22, 0.37, 1, 0.87]\n",
      "[('name6', 0.6051591412095967), ('name8', 0.6207983451502211), ('name5', 0.7212052895370636), ('name9', 0.7638329885432341), ('name2', 0.7779399693260745)]\n"
     ]
    }
   ],
   "source": [
    "import random\n",
    "user_id = \"0Lol0ym3tAahQZDjetO7C5i1VFJ3\"\n",
    "songs = {f\"name{i}\": [random.random() for j in range(13)] for i in range(10)}\n",
    "mood = \"angry\"\n",
    "song_list = closestSongs(user_id, songs, mood)"
   ]
  },
  {
   "cell_type": "code",
   "execution_count": 6,
   "id": "b22f8ad5",
   "metadata": {},
   "outputs": [
    {
     "name": "stdout",
     "output_type": "stream",
     "text": [
      "centroid: [0.87, 1, 0.37, 0.22, 0.33, 0.1, 0.65, 0.45, 1, 0.1, 0.2, 0.35, 0.75]\n",
      "[('name2', 0.6144197588114274), ('name8', 0.6335198083518363), ('name5', 0.6688140690165874), ('name9', 0.7406920928006016), ('name1', 0.7685253118843483)]\n"
     ]
    }
   ],
   "source": [
    "song_list = closestSongs(user_id, songs, mood)"
   ]
  },
  {
   "cell_type": "code",
   "execution_count": null,
   "id": "12d3fe69",
   "metadata": {},
   "outputs": [],
   "source": [
    "centroid = [0.37, 0.1, 0.87, 0.35, 0.75, 0.22, 1, 0.1, 0.65, 0.33, 1, 0.45, 0.2]\n",
    "cosineSimilarity(songs[])"
   ]
  },
  {
   "cell_type": "code",
   "execution_count": 65,
   "id": "f02a5ce3",
   "metadata": {},
   "outputs": [
    {
     "data": {
      "text/plain": [
       "[0.75, 0.35, 0.2, 0.1, 1, 0.45, 0.65, 0.1, 0.33, 0.22, 0.37, 1, 0.87]"
      ]
     },
     "execution_count": 65,
     "metadata": {},
     "output_type": "execute_result"
    }
   ],
   "source": [
    "d = {'instrumentalness': 1, 'valence': 0.87, 'key': 0.45, 'mode': 0.33, 'liveness': 0.65, 'duration_ms': 0.2, 'danceability': 0.35, 'acousticness': 0.75, 'energy': 0.1, 'speechiness': 0.22, 'time_signature': 1, 'tempo': 0.37, 'loudness': 0.1}\n",
    "sorted_dict = sorted(d.items(), key=lambda x: x[0])\n",
    "centroid = [v[1] for v in sorted_dict]"
   ]
  },
  {
   "cell_type": "code",
   "execution_count": null,
   "id": "3f406422",
   "metadata": {},
   "outputs": [],
   "source": [
    "# def calculateCentroid(songs):\n",
    "#     if len(songs) == 0: return None\n",
    "#     #get scores for the mood\n",
    "#     num_fields = len(songs[0][1]) #(- 1? if last field is label?)\n",
    "#     num_songs = len(songs)\n",
    "#     weight = 1/num_songs\n",
    "#     cumulative_score = [0 for element in range(num_fields)]\n",
    "#     for (_,scores) in songs:\n",
    "#         cumulative_score = np.add(scores, cumulative_score)\n",
    "#     return np.multiply(weight, cumulative_score) #Centroid"
   ]
  }
 ],
 "metadata": {
  "kernelspec": {
   "display_name": "Python 3 (ipykernel)",
   "language": "python",
   "name": "python3"
  },
  "language_info": {
   "codemirror_mode": {
    "name": "ipython",
    "version": 3
   },
   "file_extension": ".py",
   "mimetype": "text/x-python",
   "name": "python",
   "nbconvert_exporter": "python",
   "pygments_lexer": "ipython3",
   "version": "3.9.13"
  }
 },
 "nbformat": 4,
 "nbformat_minor": 5
}
