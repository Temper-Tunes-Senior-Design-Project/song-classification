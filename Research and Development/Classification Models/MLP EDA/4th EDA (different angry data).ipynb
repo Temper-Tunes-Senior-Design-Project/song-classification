{
 "cells": [
  {
   "cell_type": "code",
   "execution_count": 44,
   "metadata": {},
   "outputs": [],
   "source": [
    "import pandas as pd\n",
    "import matplotlib.pyplot as plt\n",
    "import seaborn as sns\n",
    "from sklearn.model_selection import train_test_split\n",
    "from imblearn.over_sampling import RandomOverSampler\n",
    "from sklearn.neural_network import MLPClassifier\n",
    "from sklearn.metrics import classification_report\n",
    "from sklearn.preprocessing import MinMaxScaler\n",
    "from sklearn.preprocessing import StandardScaler\n",
    "from sklearn.svm import SVC\n",
    "from os import chdir\n",
    "import numpy as np\n",
    "import pickle"
   ]
  },
  {
   "cell_type": "code",
   "execution_count": 45,
   "metadata": {},
   "outputs": [],
   "source": [
    "def clipAndNormalize(features):\n",
    "    #clip the features to the range of the training data\n",
    "    #clip outliers to 1st and 99th percentile\n",
    "    features['danceability'] = features['danceability'].clip(lower=features['danceability'].quantile(0.01), upper=features['danceability'].quantile(0.99))\n",
    "    features['energy'] = features['energy'].clip(lower=features['energy'].quantile(0.01), upper=features['energy'].quantile(0.99))\n",
    "    features['loudness'] = features['loudness'].clip(lower=features['loudness'].quantile(0.01), upper=features['loudness'].quantile(0.99))\n",
    "    features['speechiness'] = features['speechiness'].clip(lower=features['speechiness'].quantile(0.01), upper=features['speechiness'].quantile(0.99))\n",
    "    features['acousticness'] = features['acousticness'].clip(lower=features['acousticness'].quantile(0.01), upper=features['acousticness'].quantile(0.99))\n",
    "    features['instrumentalness'] = features['instrumentalness'].clip(lower=features['instrumentalness'].quantile(0.01), upper=features['instrumentalness'].quantile(0.99))\n",
    "    features['liveness'] = features['liveness'].clip(lower=features['liveness'].quantile(0.01), upper=features['liveness'].quantile(0.99))\n",
    "    features['valence'] = features['valence'].clip(lower=features['valence'].quantile(0.01), upper=features['valence'].quantile(0.99))\n",
    "    features['tempo'] = features['tempo'].clip(lower=features['tempo'].quantile(0.01), upper=features['tempo'].quantile(0.99))\n",
    "    features['duration_ms'] = features['duration_ms'].clip(lower=features['duration_ms'].quantile(0.01), upper=features['duration_ms'].quantile(0.99))\n",
    "    features['time_signature'] = features['time_signature'].clip(lower=features['time_signature'].quantile(0.01), upper=features['time_signature'].quantile(0.99))\n",
    "\n",
    "\n",
    "    \n",
    "    #normalize the data\n",
    "    scaler = StandardScaler()\n",
    "\n",
    "    #if id is a column, drop it\n",
    "    if 'id' in features.columns:\n",
    "        #fit on all columns except the track id\n",
    "        rawfeatures = features.drop(['id'], axis=1)\n",
    "    else:\n",
    "        rawfeatures = features\n",
    "    preprocessedFeatures = scaler.fit_transform(rawfeatures)\n",
    "    preprocessedFeaturesDF = pd.DataFrame(preprocessedFeatures, columns=rawfeatures.columns)\n",
    "\n",
    "    '''#convert to dictionary, with track id as key\n",
    "    preprocessedFeatures = pd.DataFrame(preprocessedFeatures, columns=rawfeatures.columns)\n",
    "    preprocessedFeatures['id']= features['id']\n",
    "    preprocessedFeatures = preprocessedFeatures.set_index('id').T.to_dict('list')'''\n",
    "    return preprocessedFeaturesDF, preprocessedFeatures"
   ]
  },
  {
   "cell_type": "code",
   "execution_count": 46,
   "metadata": {},
   "outputs": [],
   "source": [
    "def makeCategorical(df):\n",
    "    mood_order=['sad','angry','energetic','excited','happy','content','calm','depressed']\n",
    "    mood_codes, mood_categories = pd.factorize(mood_order)\n",
    "    \n",
    "    # Create a categorical object with the desired order\n",
    "    cat = pd.Categorical(df['mood'], categories=mood_order, ordered=True)\n",
    "\n",
    "    # Get the integer codes of the categories\n",
    "    codes = cat.codes\n",
    "\n",
    "    # Add the codes as a new column to the dataframe\n",
    "    df['mood_code'] = codes\n",
    "    return df\n",
    "\n"
   ]
  },
  {
   "cell_type": "code",
   "execution_count": 47,
   "metadata": {},
   "outputs": [],
   "source": [
    "chdir('C:/Users/mlar5/OneDrive/Desktop/Code Folder/Python Projects/IRL projects/Aspire - Affective Computing Project/Playlists Data/Audio Features/emotion joint data')"
   ]
  },
  {
   "cell_type": "code",
   "execution_count": 48,
   "metadata": {},
   "outputs": [],
   "source": [
    "emotionsDF = pd.read_csv('Merged Emotions Data3.csv')"
   ]
  },
  {
   "cell_type": "code",
   "execution_count": 49,
   "metadata": {},
   "outputs": [],
   "source": [
    "emotionsDF = makeCategorical(emotionsDF)"
   ]
  },
  {
   "cell_type": "code",
   "execution_count": 50,
   "metadata": {},
   "outputs": [
    {
     "data": {
      "text/plain": [
       "7    3783\n",
       "6    1218\n",
       "0    1020\n",
       "5     773\n",
       "3     720\n",
       "1     694\n",
       "2     631\n",
       "4     405\n",
       "Name: mood_code, dtype: int64"
      ]
     },
     "execution_count": 50,
     "metadata": {},
     "output_type": "execute_result"
    }
   ],
   "source": [
    "emotionsDF['mood_code'].value_counts()"
   ]
  },
  {
   "cell_type": "code",
   "execution_count": 51,
   "metadata": {},
   "outputs": [
    {
     "data": {
      "text/plain": [
       "1    500\n",
       "6    500\n",
       "5    500\n",
       "7    500\n",
       "2    500\n",
       "3    500\n",
       "0    500\n",
       "4    405\n",
       "Name: mood_code, dtype: int64"
      ]
     },
     "execution_count": 51,
     "metadata": {},
     "output_type": "execute_result"
    }
   ],
   "source": [
    "# create a new df with only up to 500 songs per mood_code\n",
    "# this is to balance the data\n",
    "\n",
    "balancedDF = pd.DataFrame(columns=emotionsDF.columns)\n",
    "\n",
    "for i in emotionsDF['mood_code'].unique():\n",
    "    df = emotionsDF[emotionsDF['mood_code']==i]\n",
    "    #if the value count of the mood_code is larger than 500, sample 500\n",
    "    if df['mood_code'].value_counts()[i] > 500:\n",
    "        df = df.sample(n=500, random_state=42)\n",
    "    #if the value count of the mood_code is less than 500, sample the value count\n",
    "    else:\n",
    "        df = df.sample(n=df['mood_code'].value_counts()[i])\n",
    "    balancedDF = pd.concat([balancedDF, df])\n",
    "\n",
    "balancedDF['mood_code'].value_counts()"
   ]
  },
  {
   "cell_type": "code",
   "execution_count": 52,
   "metadata": {},
   "outputs": [
    {
     "data": {
      "text/html": [
       "<div>\n",
       "<style scoped>\n",
       "    .dataframe tbody tr th:only-of-type {\n",
       "        vertical-align: middle;\n",
       "    }\n",
       "\n",
       "    .dataframe tbody tr th {\n",
       "        vertical-align: top;\n",
       "    }\n",
       "\n",
       "    .dataframe thead th {\n",
       "        text-align: right;\n",
       "    }\n",
       "</style>\n",
       "<table border=\"1\" class=\"dataframe\">\n",
       "  <thead>\n",
       "    <tr style=\"text-align: right;\">\n",
       "      <th></th>\n",
       "      <th>danceability</th>\n",
       "      <th>energy</th>\n",
       "      <th>key</th>\n",
       "      <th>loudness</th>\n",
       "      <th>mode</th>\n",
       "      <th>speechiness</th>\n",
       "      <th>acousticness</th>\n",
       "      <th>instrumentalness</th>\n",
       "      <th>liveness</th>\n",
       "      <th>valence</th>\n",
       "      <th>tempo</th>\n",
       "      <th>uri</th>\n",
       "      <th>duration_ms</th>\n",
       "      <th>time_signature</th>\n",
       "      <th>song</th>\n",
       "      <th>mood</th>\n",
       "      <th>genre</th>\n",
       "      <th>mood_code</th>\n",
       "    </tr>\n",
       "  </thead>\n",
       "  <tbody>\n",
       "    <tr>\n",
       "      <th>381</th>\n",
       "      <td>0.848</td>\n",
       "      <td>0.520</td>\n",
       "      <td>5</td>\n",
       "      <td>-10.663</td>\n",
       "      <td>0</td>\n",
       "      <td>0.5010</td>\n",
       "      <td>0.002250</td>\n",
       "      <td>0.000799</td>\n",
       "      <td>0.679</td>\n",
       "      <td>0.304</td>\n",
       "      <td>149.996</td>\n",
       "      <td>spotify:track:2XSrt1dcuOXPgl3B4bxmBz</td>\n",
       "      <td>203897</td>\n",
       "      <td>4</td>\n",
       "      <td>Carrollton</td>\n",
       "      <td>angry</td>\n",
       "      <td>rap</td>\n",
       "      <td>1</td>\n",
       "    </tr>\n",
       "    <tr>\n",
       "      <th>666</th>\n",
       "      <td>0.713</td>\n",
       "      <td>0.698</td>\n",
       "      <td>10</td>\n",
       "      <td>-7.435</td>\n",
       "      <td>0</td>\n",
       "      <td>0.1680</td>\n",
       "      <td>0.180000</td>\n",
       "      <td>0.000001</td>\n",
       "      <td>0.304</td>\n",
       "      <td>0.480</td>\n",
       "      <td>124.973</td>\n",
       "      <td>spotify:track:1SSv8SA2OHfOUwLgb8yOum</td>\n",
       "      <td>180062</td>\n",
       "      <td>4</td>\n",
       "      <td>Cheat Cxdes</td>\n",
       "      <td>angry</td>\n",
       "      <td>rap</td>\n",
       "      <td>1</td>\n",
       "    </tr>\n",
       "    <tr>\n",
       "      <th>257</th>\n",
       "      <td>0.757</td>\n",
       "      <td>0.423</td>\n",
       "      <td>1</td>\n",
       "      <td>-2.311</td>\n",
       "      <td>1</td>\n",
       "      <td>0.0527</td>\n",
       "      <td>0.000004</td>\n",
       "      <td>0.897000</td>\n",
       "      <td>0.118</td>\n",
       "      <td>0.125</td>\n",
       "      <td>130.058</td>\n",
       "      <td>spotify:track:0A8Mrg7ButLr17K3A0R61D</td>\n",
       "      <td>133308</td>\n",
       "      <td>4</td>\n",
       "      <td>TOTALITARIANISM</td>\n",
       "      <td>angry</td>\n",
       "      <td>EDM</td>\n",
       "      <td>1</td>\n",
       "    </tr>\n",
       "    <tr>\n",
       "      <th>338</th>\n",
       "      <td>0.516</td>\n",
       "      <td>0.515</td>\n",
       "      <td>1</td>\n",
       "      <td>-13.005</td>\n",
       "      <td>1</td>\n",
       "      <td>0.2790</td>\n",
       "      <td>0.033600</td>\n",
       "      <td>0.000002</td>\n",
       "      <td>0.119</td>\n",
       "      <td>0.396</td>\n",
       "      <td>95.971</td>\n",
       "      <td>spotify:track:583TaS41X2JJGKoGXnTY3l</td>\n",
       "      <td>107159</td>\n",
       "      <td>4</td>\n",
       "      <td>KILLTHEPHARAOH</td>\n",
       "      <td>angry</td>\n",
       "      <td>rap</td>\n",
       "      <td>1</td>\n",
       "    </tr>\n",
       "    <tr>\n",
       "      <th>319</th>\n",
       "      <td>0.618</td>\n",
       "      <td>0.836</td>\n",
       "      <td>6</td>\n",
       "      <td>-4.750</td>\n",
       "      <td>0</td>\n",
       "      <td>0.0813</td>\n",
       "      <td>0.002400</td>\n",
       "      <td>0.000000</td>\n",
       "      <td>0.363</td>\n",
       "      <td>0.397</td>\n",
       "      <td>175.060</td>\n",
       "      <td>spotify:track:7CMy59461Q3pgsPZ4Cj8CP</td>\n",
       "      <td>89143</td>\n",
       "      <td>4</td>\n",
       "      <td>EASE</td>\n",
       "      <td>angry</td>\n",
       "      <td>rap</td>\n",
       "      <td>1</td>\n",
       "    </tr>\n",
       "  </tbody>\n",
       "</table>\n",
       "</div>"
      ],
      "text/plain": [
       "     danceability  energy key  loudness mode  speechiness  acousticness  \\\n",
       "381         0.848   0.520   5   -10.663    0       0.5010      0.002250   \n",
       "666         0.713   0.698  10    -7.435    0       0.1680      0.180000   \n",
       "257         0.757   0.423   1    -2.311    1       0.0527      0.000004   \n",
       "338         0.516   0.515   1   -13.005    1       0.2790      0.033600   \n",
       "319         0.618   0.836   6    -4.750    0       0.0813      0.002400   \n",
       "\n",
       "     instrumentalness  liveness  valence    tempo  \\\n",
       "381          0.000799     0.679    0.304  149.996   \n",
       "666          0.000001     0.304    0.480  124.973   \n",
       "257          0.897000     0.118    0.125  130.058   \n",
       "338          0.000002     0.119    0.396   95.971   \n",
       "319          0.000000     0.363    0.397  175.060   \n",
       "\n",
       "                                      uri duration_ms time_signature  \\\n",
       "381  spotify:track:2XSrt1dcuOXPgl3B4bxmBz      203897              4   \n",
       "666  spotify:track:1SSv8SA2OHfOUwLgb8yOum      180062              4   \n",
       "257  spotify:track:0A8Mrg7ButLr17K3A0R61D      133308              4   \n",
       "338  spotify:track:583TaS41X2JJGKoGXnTY3l      107159              4   \n",
       "319  spotify:track:7CMy59461Q3pgsPZ4Cj8CP       89143              4   \n",
       "\n",
       "                song   mood genre mood_code  \n",
       "381       Carrollton  angry   rap         1  \n",
       "666      Cheat Cxdes  angry   rap         1  \n",
       "257  TOTALITARIANISM  angry   EDM         1  \n",
       "338   KILLTHEPHARAOH  angry   rap         1  \n",
       "319             EASE  angry   rap         1  "
      ]
     },
     "execution_count": 52,
     "metadata": {},
     "output_type": "execute_result"
    }
   ],
   "source": [
    "balancedDF.head()"
   ]
  },
  {
   "cell_type": "code",
   "execution_count": 53,
   "metadata": {},
   "outputs": [],
   "source": [
    "rawfeatures = balancedDF.drop(['uri', 'song','mood','genre','mood_code'], axis=1)"
   ]
  },
  {
   "cell_type": "code",
   "execution_count": 54,
   "metadata": {},
   "outputs": [],
   "source": [
    "rawfeaturesDF, rawfeatures = clipAndNormalize(rawfeatures)"
   ]
  },
  {
   "cell_type": "code",
   "execution_count": 55,
   "metadata": {},
   "outputs": [
    {
     "data": {
      "text/html": [
       "<div>\n",
       "<style scoped>\n",
       "    .dataframe tbody tr th:only-of-type {\n",
       "        vertical-align: middle;\n",
       "    }\n",
       "\n",
       "    .dataframe tbody tr th {\n",
       "        vertical-align: top;\n",
       "    }\n",
       "\n",
       "    .dataframe thead th {\n",
       "        text-align: right;\n",
       "    }\n",
       "</style>\n",
       "<table border=\"1\" class=\"dataframe\">\n",
       "  <thead>\n",
       "    <tr style=\"text-align: right;\">\n",
       "      <th></th>\n",
       "      <th>danceability</th>\n",
       "      <th>energy</th>\n",
       "      <th>key</th>\n",
       "      <th>loudness</th>\n",
       "      <th>mode</th>\n",
       "      <th>speechiness</th>\n",
       "      <th>acousticness</th>\n",
       "      <th>instrumentalness</th>\n",
       "      <th>liveness</th>\n",
       "      <th>valence</th>\n",
       "      <th>tempo</th>\n",
       "      <th>duration_ms</th>\n",
       "      <th>time_signature</th>\n",
       "    </tr>\n",
       "  </thead>\n",
       "  <tbody>\n",
       "    <tr>\n",
       "      <th>0</th>\n",
       "      <td>1.486461</td>\n",
       "      <td>-0.406225</td>\n",
       "      <td>-0.063089</td>\n",
       "      <td>-0.627609</td>\n",
       "      <td>-1.299055</td>\n",
       "      <td>3.624754</td>\n",
       "      <td>-0.881714</td>\n",
       "      <td>-0.490927</td>\n",
       "      <td>3.691332</td>\n",
       "      <td>-0.539255</td>\n",
       "      <td>0.943321</td>\n",
       "      <td>0.265175</td>\n",
       "      <td>0.176728</td>\n",
       "    </tr>\n",
       "    <tr>\n",
       "      <th>1</th>\n",
       "      <td>0.550314</td>\n",
       "      <td>0.321131</td>\n",
       "      <td>1.327226</td>\n",
       "      <td>0.058458</td>\n",
       "      <td>-1.299055</td>\n",
       "      <td>0.551285</td>\n",
       "      <td>-0.331506</td>\n",
       "      <td>-0.493447</td>\n",
       "      <td>0.904795</td>\n",
       "      <td>0.207345</td>\n",
       "      <td>0.070628</td>\n",
       "      <td>-0.194902</td>\n",
       "      <td>0.176728</td>\n",
       "    </tr>\n",
       "    <tr>\n",
       "      <th>2</th>\n",
       "      <td>0.855429</td>\n",
       "      <td>-0.802593</td>\n",
       "      <td>-1.175342</td>\n",
       "      <td>1.147494</td>\n",
       "      <td>0.769791</td>\n",
       "      <td>-0.512892</td>\n",
       "      <td>-0.888230</td>\n",
       "      <td>2.341344</td>\n",
       "      <td>-0.477327</td>\n",
       "      <td>-1.298581</td>\n",
       "      <td>0.247971</td>\n",
       "      <td>-1.097375</td>\n",
       "      <td>0.176728</td>\n",
       "    </tr>\n",
       "    <tr>\n",
       "      <th>3</th>\n",
       "      <td>-0.815767</td>\n",
       "      <td>-0.426657</td>\n",
       "      <td>-1.175342</td>\n",
       "      <td>-1.125369</td>\n",
       "      <td>0.769791</td>\n",
       "      <td>1.575774</td>\n",
       "      <td>-0.784673</td>\n",
       "      <td>-0.493447</td>\n",
       "      <td>-0.469896</td>\n",
       "      <td>-0.148987</td>\n",
       "      <td>-0.940835</td>\n",
       "      <td>-1.602118</td>\n",
       "      <td>0.176728</td>\n",
       "    </tr>\n",
       "    <tr>\n",
       "      <th>4</th>\n",
       "      <td>-0.108456</td>\n",
       "      <td>0.885036</td>\n",
       "      <td>0.214974</td>\n",
       "      <td>0.629118</td>\n",
       "      <td>-1.299055</td>\n",
       "      <td>-0.248925</td>\n",
       "      <td>-0.881250</td>\n",
       "      <td>-0.493452</td>\n",
       "      <td>1.343210</td>\n",
       "      <td>-0.144745</td>\n",
       "      <td>1.817443</td>\n",
       "      <td>-1.949873</td>\n",
       "      <td>0.176728</td>\n",
       "    </tr>\n",
       "  </tbody>\n",
       "</table>\n",
       "</div>"
      ],
      "text/plain": [
       "   danceability    energy       key  loudness      mode  speechiness  \\\n",
       "0      1.486461 -0.406225 -0.063089 -0.627609 -1.299055     3.624754   \n",
       "1      0.550314  0.321131  1.327226  0.058458 -1.299055     0.551285   \n",
       "2      0.855429 -0.802593 -1.175342  1.147494  0.769791    -0.512892   \n",
       "3     -0.815767 -0.426657 -1.175342 -1.125369  0.769791     1.575774   \n",
       "4     -0.108456  0.885036  0.214974  0.629118 -1.299055    -0.248925   \n",
       "\n",
       "   acousticness  instrumentalness  liveness   valence     tempo  duration_ms  \\\n",
       "0     -0.881714         -0.490927  3.691332 -0.539255  0.943321     0.265175   \n",
       "1     -0.331506         -0.493447  0.904795  0.207345  0.070628    -0.194902   \n",
       "2     -0.888230          2.341344 -0.477327 -1.298581  0.247971    -1.097375   \n",
       "3     -0.784673         -0.493447 -0.469896 -0.148987 -0.940835    -1.602118   \n",
       "4     -0.881250         -0.493452  1.343210 -0.144745  1.817443    -1.949873   \n",
       "\n",
       "   time_signature  \n",
       "0        0.176728  \n",
       "1        0.176728  \n",
       "2        0.176728  \n",
       "3        0.176728  \n",
       "4        0.176728  "
      ]
     },
     "execution_count": 55,
     "metadata": {},
     "output_type": "execute_result"
    }
   ],
   "source": [
    "rawfeaturesDF.head()"
   ]
  },
  {
   "cell_type": "code",
   "execution_count": 56,
   "metadata": {},
   "outputs": [],
   "source": [
    "y = balancedDF['mood_code']"
   ]
  },
  {
   "cell_type": "code",
   "execution_count": 57,
   "metadata": {},
   "outputs": [],
   "source": [
    "#set it to categorical\n",
    "y = y.astype('category')"
   ]
  },
  {
   "cell_type": "code",
   "execution_count": 58,
   "metadata": {},
   "outputs": [],
   "source": [
    "X_train_standard, X_test_standard, y_train_standard, y_test_standard = train_test_split(rawfeatures, y, test_size=0.2, random_state=42, stratify=y)\n"
   ]
  },
  {
   "cell_type": "code",
   "execution_count": 77,
   "metadata": {},
   "outputs": [],
   "source": [
    "\n",
    "# Initialize the MLP classifier\n",
    "mlp = MLPClassifier(hidden_layer_sizes=(256,128),random_state=42,early_stopping=True)"
   ]
  },
  {
   "cell_type": "code",
   "execution_count": 78,
   "metadata": {},
   "outputs": [
    {
     "name": "stdout",
     "output_type": "stream",
     "text": [
      "              precision    recall  f1-score   support\n",
      "\n",
      "           0       0.34      0.50      0.41       100\n",
      "           1       0.59      0.57      0.58       100\n",
      "           2       0.51      0.56      0.53       100\n",
      "           3       0.42      0.43      0.42       100\n",
      "           4       0.46      0.41      0.43        81\n",
      "           5       0.34      0.22      0.27       100\n",
      "           6       0.52      0.71      0.60       100\n",
      "           7       0.36      0.19      0.25       100\n",
      "\n",
      "    accuracy                           0.45       781\n",
      "   macro avg       0.44      0.45      0.44       781\n",
      "weighted avg       0.44      0.45      0.44       781\n",
      "\n"
     ]
    }
   ],
   "source": [
    "# Train the model on the resampled data\n",
    "mlp.fit(X_train_standard, y_train_standard)\n",
    "\n",
    "# Make predictions on the test set\n",
    "y_pred = mlp.predict(X_test_standard)\n",
    "\n",
    "# Evaluate the model performance of micro-averaged F1 score\n",
    "\n",
    "print(classification_report(y_test_standard, y_pred))\n"
   ]
  },
  {
   "cell_type": "code",
   "execution_count": 61,
   "metadata": {},
   "outputs": [],
   "source": [
    "def offByOne(y_test_standard, y_pred):\n",
    "    #compare y_test_standard with y_pred_list. If y_pred_list is +-1 from y_test_standard, then it change it to be the same as y_test_standard\n",
    "    y_test_standard_list=list(y_test_standard)\n",
    "    y_pred_list = list(y_pred)\n",
    "    for id in range(len(y_test_standard_list)):\n",
    "        if y_test_standard_list[id] != 0 and y_test_standard_list[id] != 7:\n",
    "            if y_pred_list[id] == y_test_standard_list[id] - 1 or y_pred_list[id] == y_test_standard_list[id] + 1:\n",
    "                y_pred_list[id] = y_test_standard_list[id]\n",
    "        elif y_test_standard_list[id] == 0:\n",
    "            if y_pred_list[id] ==  1 or y_pred_list[id] == 7:\n",
    "                y_pred_list[id] = y_test_standard_list[id]\n",
    "        elif y_test_standard_list[id] == 7:\n",
    "            if y_pred_list[id] ==  0 or y_pred_list[id] == 6:\n",
    "                y_pred_list[id] = y_test_standard_list[id]\n",
    "    print(classification_report(y_test_standard_list, y_pred_list))\n",
    "    return"
   ]
  },
  {
   "cell_type": "code",
   "execution_count": 62,
   "metadata": {},
   "outputs": [
    {
     "name": "stdout",
     "output_type": "stream",
     "text": [
      "              precision    recall  f1-score   support\n",
      "\n",
      "           0       0.47      0.60      0.53       100\n",
      "           1       0.76      0.79      0.77       100\n",
      "           2       0.71      0.80      0.75       100\n",
      "           3       0.59      0.58      0.58       100\n",
      "           4       0.66      0.56      0.60        81\n",
      "           5       0.60      0.49      0.54       100\n",
      "           6       0.80      0.82      0.81       100\n",
      "           7       0.75      0.64      0.69       100\n",
      "\n",
      "    accuracy                           0.66       781\n",
      "   macro avg       0.67      0.66      0.66       781\n",
      "weighted avg       0.67      0.66      0.66       781\n",
      "\n"
     ]
    }
   ],
   "source": [
    "offByOne(y_test_standard, y_pred)"
   ]
  },
  {
   "cell_type": "code",
   "execution_count": 63,
   "metadata": {},
   "outputs": [],
   "source": [
    "#svm = SVC(kernel='linear', class_weight='balanced', random_state=42)\n",
    "svm =SVC(kernel='poly', degree=3,class_weight='balanced', random_state=42)\n"
   ]
  },
  {
   "cell_type": "code",
   "execution_count": 64,
   "metadata": {},
   "outputs": [
    {
     "name": "stdout",
     "output_type": "stream",
     "text": [
      "              precision    recall  f1-score   support\n",
      "\n",
      "           0       0.33      0.48      0.39       100\n",
      "           1       0.65      0.49      0.56       100\n",
      "           2       0.50      0.54      0.52       100\n",
      "           3       0.39      0.41      0.40       100\n",
      "           4       0.30      0.57      0.39        81\n",
      "           5       0.41      0.25      0.31       100\n",
      "           6       0.58      0.53      0.55       100\n",
      "           7       0.43      0.19      0.26       100\n",
      "\n",
      "    accuracy                           0.43       781\n",
      "   macro avg       0.45      0.43      0.42       781\n",
      "weighted avg       0.45      0.43      0.43       781\n",
      "\n"
     ]
    }
   ],
   "source": [
    "# Train the model\n",
    "svm.fit(X_train_standard, y_train_standard)\n",
    "\n",
    "# Make predictions on the test set\n",
    "y_pred_SVM = svm.predict(X_test_standard)\n",
    "\n",
    "# Evaluate the model performance\n",
    "print(classification_report(y_test_standard, y_pred_SVM))"
   ]
  },
  {
   "cell_type": "code",
   "execution_count": 65,
   "metadata": {},
   "outputs": [
    {
     "name": "stdout",
     "output_type": "stream",
     "text": [
      "              precision    recall  f1-score   support\n",
      "\n",
      "           0       0.45      0.53      0.49       100\n",
      "           1       0.82      0.70      0.76       100\n",
      "           2       0.69      0.74      0.71       100\n",
      "           3       0.60      0.69      0.64       100\n",
      "           4       0.46      0.68      0.55        81\n",
      "           5       0.73      0.56      0.63       100\n",
      "           6       0.88      0.71      0.78       100\n",
      "           7       0.80      0.63      0.70       100\n",
      "\n",
      "    accuracy                           0.65       781\n",
      "   macro avg       0.68      0.65      0.66       781\n",
      "weighted avg       0.68      0.65      0.66       781\n",
      "\n"
     ]
    }
   ],
   "source": [
    "offByOne(y_test_standard, y_pred_SVM)"
   ]
  }
 ],
 "metadata": {
  "kernelspec": {
   "display_name": "TextMining",
   "language": "python",
   "name": "python3"
  },
  "language_info": {
   "codemirror_mode": {
    "name": "ipython",
    "version": 3
   },
   "file_extension": ".py",
   "mimetype": "text/x-python",
   "name": "python",
   "nbconvert_exporter": "python",
   "pygments_lexer": "ipython3",
   "version": "3.9.13"
  },
  "orig_nbformat": 4
 },
 "nbformat": 4,
 "nbformat_minor": 2
}
