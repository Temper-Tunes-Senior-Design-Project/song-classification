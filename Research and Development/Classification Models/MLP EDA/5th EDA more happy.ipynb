{
 "cells": [
  {
   "cell_type": "code",
   "execution_count": 1,
   "metadata": {},
   "outputs": [],
   "source": [
    "import pandas as pd\n",
    "import matplotlib.pyplot as plt\n",
    "import seaborn as sns\n",
    "from sklearn.model_selection import train_test_split\n",
    "from imblearn.over_sampling import RandomOverSampler\n",
    "from sklearn.neural_network import MLPClassifier\n",
    "from sklearn.metrics import classification_report\n",
    "from sklearn.preprocessing import MinMaxScaler\n",
    "from sklearn.preprocessing import StandardScaler\n",
    "from sklearn.svm import SVC\n",
    "from os import chdir\n",
    "import numpy as np\n",
    "import pickle\n",
    "import scipy.stats as stats\n",
    "import os\n"
   ]
  },
  {
   "cell_type": "code",
   "execution_count": 2,
   "metadata": {},
   "outputs": [],
   "source": [
    "def clipAndNormalize(features, saveScalerPath = None):\n",
    "    #clip the features to the range of the training data\n",
    "    #clip outliers to 1st and 99th percentile\n",
    "    features['danceability'] = features['danceability'].clip(lower=features['danceability'].quantile(0.01), upper=features['danceability'].quantile(0.99))\n",
    "    features['energy'] = features['energy'].clip(lower=features['energy'].quantile(0.01), upper=features['energy'].quantile(0.99))\n",
    "    features['loudness'] = features['loudness'].clip(lower=features['loudness'].quantile(0.01), upper=features['loudness'].quantile(0.99))\n",
    "    features['speechiness'] = features['speechiness'].clip(lower=features['speechiness'].quantile(0.01), upper=features['speechiness'].quantile(0.99))\n",
    "    features['acousticness'] = features['acousticness'].clip(lower=features['acousticness'].quantile(0.01), upper=features['acousticness'].quantile(0.99))\n",
    "    features['instrumentalness'] = features['instrumentalness'].clip(lower=features['instrumentalness'].quantile(0.01), upper=features['instrumentalness'].quantile(0.99))\n",
    "    features['liveness'] = features['liveness'].clip(lower=features['liveness'].quantile(0.01), upper=features['liveness'].quantile(0.99))\n",
    "    features['valence'] = features['valence'].clip(lower=features['valence'].quantile(0.01), upper=features['valence'].quantile(0.99))\n",
    "    features['tempo'] = features['tempo'].clip(lower=features['tempo'].quantile(0.01), upper=features['tempo'].quantile(0.99))\n",
    "    features['duration_ms'] = features['duration_ms'].clip(lower=features['duration_ms'].quantile(0.01), upper=features['duration_ms'].quantile(0.99))\n",
    "    features['time_signature'] = features['time_signature'].clip(lower=features['time_signature'].quantile(0.01), upper=features['time_signature'].quantile(0.99))\n",
    "\n",
    "    columns_to_log=['liveness', 'instrumentalness', 'acousticness', 'speechiness','loudness','energy']\n",
    "\n",
    "    for i in columns_to_log:\n",
    "        if i == 'loudness':\n",
    "            features[i] = features[i] + 60\n",
    "        features[i] = np.log(features[i]+1)\n",
    "\n",
    "    \n",
    "    #normalize the data\n",
    "    scaler = StandardScaler()\n",
    "\n",
    "    #if id is a column, drop it\n",
    "    if 'id' in features.columns:\n",
    "        #fit on all columns except the track id\n",
    "        rawfeatures = features.drop(['id'], axis=1)\n",
    "    else:\n",
    "        rawfeatures = features\n",
    "    preprocessedFeatures = scaler.fit_transform(rawfeatures)\n",
    "\n",
    "    preprocessedFeaturesDF = pd.DataFrame(preprocessedFeatures, columns=rawfeatures.columns)\n",
    "\n",
    "    #apply z-score normalization\n",
    "    for i in columns_to_log:\n",
    "        preprocessedFeaturesDF[i] = stats.zscore(preprocessedFeaturesDF[i])\n",
    "        preprocessedFeaturesDF.clip(lower=-2.7, upper=2.7, inplace=True)\n",
    "\n",
    "\n",
    "    if saveScalerPath is not None:\n",
    "        pickle.dump(scaler, open(saveScalerPath, 'wb'))\n",
    "    #preprocessedFeaturesDF = pd.DataFrame(preprocessedFeatures, columns=rawfeatures.columns)\n",
    "\n",
    "    return preprocessedFeaturesDF, preprocessedFeatures"
   ]
  },
  {
   "cell_type": "code",
   "execution_count": 3,
   "metadata": {},
   "outputs": [],
   "source": [
    "def makeCategorical(df):\n",
    "    mood_order=['sad','angry','energetic','excited','happy','content','calm','depressed']\n",
    "    mood_codes, mood_categories = pd.factorize(mood_order)\n",
    "    \n",
    "    # Create a categorical object with the desired order\n",
    "    cat = pd.Categorical(df['mood'], categories=mood_order, ordered=True)\n",
    "\n",
    "    # Get the integer codes of the categories\n",
    "    codes = cat.codes\n",
    "\n",
    "    # Add the codes as a new column to the dataframe\n",
    "    df['mood_code'] = codes\n",
    "    return df\n",
    "\n"
   ]
  },
  {
   "cell_type": "code",
   "execution_count": 4,
   "metadata": {},
   "outputs": [],
   "source": [
    "chdir('C:/Users/mlar5/OneDrive/Desktop/Code Folder/Python Projects/IRL projects/Aspire - Affective Computing Project/Playlists Data/Audio Features/emotion joint data')"
   ]
  },
  {
   "cell_type": "code",
   "execution_count": 5,
   "metadata": {},
   "outputs": [],
   "source": [
    "emotionsDF = pd.read_csv('Merged Emotions Data4.csv')"
   ]
  },
  {
   "cell_type": "code",
   "execution_count": 6,
   "metadata": {},
   "outputs": [],
   "source": [
    "emotionsDF = makeCategorical(emotionsDF)"
   ]
  },
  {
   "cell_type": "code",
   "execution_count": 7,
   "metadata": {},
   "outputs": [
    {
     "data": {
      "text/plain": [
       "7    3781\n",
       "6    1218\n",
       "0    1020\n",
       "5     773\n",
       "1     694\n",
       "3     678\n",
       "2     631\n",
       "4     519\n",
       "Name: mood_code, dtype: int64"
      ]
     },
     "execution_count": 7,
     "metadata": {},
     "output_type": "execute_result"
    }
   ],
   "source": [
    "emotionsDF['mood_code'].value_counts()"
   ]
  },
  {
   "cell_type": "code",
   "execution_count": 8,
   "metadata": {},
   "outputs": [
    {
     "data": {
      "text/plain": [
       "1    600\n",
       "6    600\n",
       "5    600\n",
       "7    600\n",
       "2    600\n",
       "3    600\n",
       "0    600\n",
       "4    519\n",
       "Name: mood_code, dtype: int64"
      ]
     },
     "execution_count": 8,
     "metadata": {},
     "output_type": "execute_result"
    }
   ],
   "source": [
    "# create a new df with only up to 500 songs per mood_code\n",
    "# this is to balance the data\n",
    "\n",
    "balancedDF = pd.DataFrame(columns=emotionsDF.columns)\n",
    "\n",
    "for i in emotionsDF['mood_code'].unique():\n",
    "    df = emotionsDF[emotionsDF['mood_code']==i]\n",
    "    #if the value count of the mood_code is larger than 500, sample 500\n",
    "    if df['mood_code'].value_counts()[i] > 600:\n",
    "        df = df.sample(n=600, random_state=42)\n",
    "    #if the value count of the mood_code is less than 500, sample the value count\n",
    "    else:\n",
    "        df = df.sample(n=df['mood_code'].value_counts()[i], random_state=42)\n",
    "    balancedDF = pd.concat([balancedDF, df])\n",
    "\n",
    "balancedDF['mood_code'].value_counts()"
   ]
  },
  {
   "cell_type": "code",
   "execution_count": 9,
   "metadata": {},
   "outputs": [
    {
     "data": {
      "text/html": [
       "<div>\n",
       "<style scoped>\n",
       "    .dataframe tbody tr th:only-of-type {\n",
       "        vertical-align: middle;\n",
       "    }\n",
       "\n",
       "    .dataframe tbody tr th {\n",
       "        vertical-align: top;\n",
       "    }\n",
       "\n",
       "    .dataframe thead th {\n",
       "        text-align: right;\n",
       "    }\n",
       "</style>\n",
       "<table border=\"1\" class=\"dataframe\">\n",
       "  <thead>\n",
       "    <tr style=\"text-align: right;\">\n",
       "      <th></th>\n",
       "      <th>danceability</th>\n",
       "      <th>energy</th>\n",
       "      <th>key</th>\n",
       "      <th>loudness</th>\n",
       "      <th>mode</th>\n",
       "      <th>speechiness</th>\n",
       "      <th>acousticness</th>\n",
       "      <th>instrumentalness</th>\n",
       "      <th>liveness</th>\n",
       "      <th>valence</th>\n",
       "      <th>tempo</th>\n",
       "      <th>uri</th>\n",
       "      <th>duration_ms</th>\n",
       "      <th>time_signature</th>\n",
       "      <th>song</th>\n",
       "      <th>mood</th>\n",
       "      <th>genre</th>\n",
       "      <th>mood_code</th>\n",
       "    </tr>\n",
       "  </thead>\n",
       "  <tbody>\n",
       "    <tr>\n",
       "      <th>381</th>\n",
       "      <td>0.848</td>\n",
       "      <td>0.520</td>\n",
       "      <td>5</td>\n",
       "      <td>-10.663</td>\n",
       "      <td>0</td>\n",
       "      <td>0.5010</td>\n",
       "      <td>0.002250</td>\n",
       "      <td>0.000799</td>\n",
       "      <td>0.679</td>\n",
       "      <td>0.304</td>\n",
       "      <td>149.996</td>\n",
       "      <td>spotify:track:2XSrt1dcuOXPgl3B4bxmBz</td>\n",
       "      <td>203897</td>\n",
       "      <td>4</td>\n",
       "      <td>Carrollton</td>\n",
       "      <td>angry</td>\n",
       "      <td>rap</td>\n",
       "      <td>1</td>\n",
       "    </tr>\n",
       "    <tr>\n",
       "      <th>666</th>\n",
       "      <td>0.713</td>\n",
       "      <td>0.698</td>\n",
       "      <td>10</td>\n",
       "      <td>-7.435</td>\n",
       "      <td>0</td>\n",
       "      <td>0.1680</td>\n",
       "      <td>0.180000</td>\n",
       "      <td>0.000001</td>\n",
       "      <td>0.304</td>\n",
       "      <td>0.480</td>\n",
       "      <td>124.973</td>\n",
       "      <td>spotify:track:1SSv8SA2OHfOUwLgb8yOum</td>\n",
       "      <td>180062</td>\n",
       "      <td>4</td>\n",
       "      <td>Cheat Cxdes</td>\n",
       "      <td>angry</td>\n",
       "      <td>rap</td>\n",
       "      <td>1</td>\n",
       "    </tr>\n",
       "    <tr>\n",
       "      <th>257</th>\n",
       "      <td>0.757</td>\n",
       "      <td>0.423</td>\n",
       "      <td>1</td>\n",
       "      <td>-2.311</td>\n",
       "      <td>1</td>\n",
       "      <td>0.0527</td>\n",
       "      <td>0.000004</td>\n",
       "      <td>0.897000</td>\n",
       "      <td>0.118</td>\n",
       "      <td>0.125</td>\n",
       "      <td>130.058</td>\n",
       "      <td>spotify:track:0A8Mrg7ButLr17K3A0R61D</td>\n",
       "      <td>133308</td>\n",
       "      <td>4</td>\n",
       "      <td>TOTALITARIANISM</td>\n",
       "      <td>angry</td>\n",
       "      <td>EDM</td>\n",
       "      <td>1</td>\n",
       "    </tr>\n",
       "    <tr>\n",
       "      <th>338</th>\n",
       "      <td>0.516</td>\n",
       "      <td>0.515</td>\n",
       "      <td>1</td>\n",
       "      <td>-13.005</td>\n",
       "      <td>1</td>\n",
       "      <td>0.2790</td>\n",
       "      <td>0.033600</td>\n",
       "      <td>0.000002</td>\n",
       "      <td>0.119</td>\n",
       "      <td>0.396</td>\n",
       "      <td>95.971</td>\n",
       "      <td>spotify:track:583TaS41X2JJGKoGXnTY3l</td>\n",
       "      <td>107159</td>\n",
       "      <td>4</td>\n",
       "      <td>KILLTHEPHARAOH</td>\n",
       "      <td>angry</td>\n",
       "      <td>rap</td>\n",
       "      <td>1</td>\n",
       "    </tr>\n",
       "    <tr>\n",
       "      <th>319</th>\n",
       "      <td>0.618</td>\n",
       "      <td>0.836</td>\n",
       "      <td>6</td>\n",
       "      <td>-4.750</td>\n",
       "      <td>0</td>\n",
       "      <td>0.0813</td>\n",
       "      <td>0.002400</td>\n",
       "      <td>0.000000</td>\n",
       "      <td>0.363</td>\n",
       "      <td>0.397</td>\n",
       "      <td>175.060</td>\n",
       "      <td>spotify:track:7CMy59461Q3pgsPZ4Cj8CP</td>\n",
       "      <td>89143</td>\n",
       "      <td>4</td>\n",
       "      <td>EASE</td>\n",
       "      <td>angry</td>\n",
       "      <td>rap</td>\n",
       "      <td>1</td>\n",
       "    </tr>\n",
       "  </tbody>\n",
       "</table>\n",
       "</div>"
      ],
      "text/plain": [
       "     danceability  energy key  loudness mode  speechiness  acousticness  \\\n",
       "381         0.848   0.520   5   -10.663    0       0.5010      0.002250   \n",
       "666         0.713   0.698  10    -7.435    0       0.1680      0.180000   \n",
       "257         0.757   0.423   1    -2.311    1       0.0527      0.000004   \n",
       "338         0.516   0.515   1   -13.005    1       0.2790      0.033600   \n",
       "319         0.618   0.836   6    -4.750    0       0.0813      0.002400   \n",
       "\n",
       "     instrumentalness  liveness  valence    tempo  \\\n",
       "381          0.000799     0.679    0.304  149.996   \n",
       "666          0.000001     0.304    0.480  124.973   \n",
       "257          0.897000     0.118    0.125  130.058   \n",
       "338          0.000002     0.119    0.396   95.971   \n",
       "319          0.000000     0.363    0.397  175.060   \n",
       "\n",
       "                                      uri duration_ms time_signature  \\\n",
       "381  spotify:track:2XSrt1dcuOXPgl3B4bxmBz      203897              4   \n",
       "666  spotify:track:1SSv8SA2OHfOUwLgb8yOum      180062              4   \n",
       "257  spotify:track:0A8Mrg7ButLr17K3A0R61D      133308              4   \n",
       "338  spotify:track:583TaS41X2JJGKoGXnTY3l      107159              4   \n",
       "319  spotify:track:7CMy59461Q3pgsPZ4Cj8CP       89143              4   \n",
       "\n",
       "                song   mood genre mood_code  \n",
       "381       Carrollton  angry   rap         1  \n",
       "666      Cheat Cxdes  angry   rap         1  \n",
       "257  TOTALITARIANISM  angry   EDM         1  \n",
       "338   KILLTHEPHARAOH  angry   rap         1  \n",
       "319             EASE  angry   rap         1  "
      ]
     },
     "execution_count": 9,
     "metadata": {},
     "output_type": "execute_result"
    }
   ],
   "source": [
    "balancedDF.head()"
   ]
  },
  {
   "cell_type": "code",
   "execution_count": 10,
   "metadata": {},
   "outputs": [],
   "source": [
    "rawfeatures = balancedDF.drop(['uri', 'song','mood','genre','mood_code'], axis=1)"
   ]
  },
  {
   "cell_type": "code",
   "execution_count": 11,
   "metadata": {},
   "outputs": [],
   "source": [
    "rawfeaturesDF, rawfeatures = clipAndNormalize(rawfeatures,saveScalerPath=\"C:/Users/mlar5/OneDrive/Desktop/Code Folder/198 Senior Design/Models/Spotipy v2/scaler4.pkl\" )"
   ]
  },
  {
   "cell_type": "code",
   "execution_count": 12,
   "metadata": {},
   "outputs": [
    {
     "data": {
      "text/html": [
       "<div>\n",
       "<style scoped>\n",
       "    .dataframe tbody tr th:only-of-type {\n",
       "        vertical-align: middle;\n",
       "    }\n",
       "\n",
       "    .dataframe tbody tr th {\n",
       "        vertical-align: top;\n",
       "    }\n",
       "\n",
       "    .dataframe thead th {\n",
       "        text-align: right;\n",
       "    }\n",
       "</style>\n",
       "<table border=\"1\" class=\"dataframe\">\n",
       "  <thead>\n",
       "    <tr style=\"text-align: right;\">\n",
       "      <th></th>\n",
       "      <th>danceability</th>\n",
       "      <th>energy</th>\n",
       "      <th>key</th>\n",
       "      <th>loudness</th>\n",
       "      <th>mode</th>\n",
       "      <th>speechiness</th>\n",
       "      <th>acousticness</th>\n",
       "      <th>instrumentalness</th>\n",
       "      <th>liveness</th>\n",
       "      <th>valence</th>\n",
       "      <th>tempo</th>\n",
       "      <th>duration_ms</th>\n",
       "      <th>time_signature</th>\n",
       "    </tr>\n",
       "  </thead>\n",
       "  <tbody>\n",
       "    <tr>\n",
       "      <th>0</th>\n",
       "      <td>1.488028</td>\n",
       "      <td>-0.324204</td>\n",
       "      <td>-0.078631</td>\n",
       "      <td>-0.664186</td>\n",
       "      <td>-1.272304</td>\n",
       "      <td>2.700000</td>\n",
       "      <td>-0.952933</td>\n",
       "      <td>-0.493081</td>\n",
       "      <td>2.700000</td>\n",
       "      <td>-0.541971</td>\n",
       "      <td>0.926476</td>\n",
       "      <td>0.264184</td>\n",
       "      <td>0.172931</td>\n",
       "    </tr>\n",
       "    <tr>\n",
       "      <th>1</th>\n",
       "      <td>0.553962</td>\n",
       "      <td>0.367703</td>\n",
       "      <td>1.309033</td>\n",
       "      <td>0.061950</td>\n",
       "      <td>-1.272304</td>\n",
       "      <td>0.661370</td>\n",
       "      <td>-0.244509</td>\n",
       "      <td>-0.496604</td>\n",
       "      <td>1.016053</td>\n",
       "      <td>0.209154</td>\n",
       "      <td>0.062095</td>\n",
       "      <td>-0.200122</td>\n",
       "      <td>0.172931</td>\n",
       "    </tr>\n",
       "    <tr>\n",
       "      <th>2</th>\n",
       "      <td>0.858399</td>\n",
       "      <td>-0.736215</td>\n",
       "      <td>-1.188763</td>\n",
       "      <td>1.129228</td>\n",
       "      <td>0.785976</td>\n",
       "      <td>-0.530739</td>\n",
       "      <td>-0.962075</td>\n",
       "      <td>2.332466</td>\n",
       "      <td>-0.475501</td>\n",
       "      <td>-1.305900</td>\n",
       "      <td>0.237749</td>\n",
       "      <td>-1.110890</td>\n",
       "      <td>0.172931</td>\n",
       "    </tr>\n",
       "    <tr>\n",
       "      <th>3</th>\n",
       "      <td>-0.809082</td>\n",
       "      <td>-0.344790</td>\n",
       "      <td>-1.188763</td>\n",
       "      <td>-1.220784</td>\n",
       "      <td>0.785976</td>\n",
       "      <td>1.702663</td>\n",
       "      <td>-0.819289</td>\n",
       "      <td>-0.496603</td>\n",
       "      <td>-0.466836</td>\n",
       "      <td>-0.149338</td>\n",
       "      <td>-0.939734</td>\n",
       "      <td>-1.620273</td>\n",
       "      <td>0.172931</td>\n",
       "    </tr>\n",
       "    <tr>\n",
       "      <th>4</th>\n",
       "      <td>-0.103343</td>\n",
       "      <td>0.855909</td>\n",
       "      <td>0.198902</td>\n",
       "      <td>0.633346</td>\n",
       "      <td>-1.272304</td>\n",
       "      <td>-0.223283</td>\n",
       "      <td>-0.952284</td>\n",
       "      <td>-0.496610</td>\n",
       "      <td>1.444942</td>\n",
       "      <td>-0.145070</td>\n",
       "      <td>1.792274</td>\n",
       "      <td>-1.971225</td>\n",
       "      <td>0.172931</td>\n",
       "    </tr>\n",
       "  </tbody>\n",
       "</table>\n",
       "</div>"
      ],
      "text/plain": [
       "   danceability    energy       key  loudness      mode  speechiness  \\\n",
       "0      1.488028 -0.324204 -0.078631 -0.664186 -1.272304     2.700000   \n",
       "1      0.553962  0.367703  1.309033  0.061950 -1.272304     0.661370   \n",
       "2      0.858399 -0.736215 -1.188763  1.129228  0.785976    -0.530739   \n",
       "3     -0.809082 -0.344790 -1.188763 -1.220784  0.785976     1.702663   \n",
       "4     -0.103343  0.855909  0.198902  0.633346 -1.272304    -0.223283   \n",
       "\n",
       "   acousticness  instrumentalness  liveness   valence     tempo  duration_ms  \\\n",
       "0     -0.952933         -0.493081  2.700000 -0.541971  0.926476     0.264184   \n",
       "1     -0.244509         -0.496604  1.016053  0.209154  0.062095    -0.200122   \n",
       "2     -0.962075          2.332466 -0.475501 -1.305900  0.237749    -1.110890   \n",
       "3     -0.819289         -0.496603 -0.466836 -0.149338 -0.939734    -1.620273   \n",
       "4     -0.952284         -0.496610  1.444942 -0.145070  1.792274    -1.971225   \n",
       "\n",
       "   time_signature  \n",
       "0        0.172931  \n",
       "1        0.172931  \n",
       "2        0.172931  \n",
       "3        0.172931  \n",
       "4        0.172931  "
      ]
     },
     "execution_count": 12,
     "metadata": {},
     "output_type": "execute_result"
    }
   ],
   "source": [
    "rawfeaturesDF.head()"
   ]
  },
  {
   "cell_type": "code",
   "execution_count": 13,
   "metadata": {},
   "outputs": [],
   "source": [
    "y = balancedDF['mood_code']"
   ]
  },
  {
   "cell_type": "code",
   "execution_count": 14,
   "metadata": {},
   "outputs": [],
   "source": [
    "#set it to categorical\n",
    "y = y.astype('category')"
   ]
  },
  {
   "cell_type": "code",
   "execution_count": 15,
   "metadata": {},
   "outputs": [],
   "source": [
    "X_train_standard, X_test_standard, y_train_standard, y_test_standard = train_test_split(rawfeatures, y, test_size=0.2, random_state=42, stratify=y)\n"
   ]
  },
  {
   "cell_type": "code",
   "execution_count": 21,
   "metadata": {},
   "outputs": [],
   "source": [
    "def offByOne(y_test_standard, y_pred,digits=3):\n",
    "    #compare y_test_standard with y_pred_list. If y_pred_list is +-1 from y_test_standard, then it change it to be the same as y_test_standard\n",
    "    y_test_standard_list=list(y_test_standard)\n",
    "    y_pred_list = list(y_pred)\n",
    "    for id in range(len(y_test_standard_list)):\n",
    "        if y_test_standard_list[id] != 0 and y_test_standard_list[id] != 7:\n",
    "            if y_pred_list[id] == y_test_standard_list[id] - 1 or y_pred_list[id] == y_test_standard_list[id] + 1:\n",
    "                y_pred_list[id] = y_test_standard_list[id]\n",
    "        elif y_test_standard_list[id] == 0:\n",
    "            if y_pred_list[id] ==  1 or y_pred_list[id] == 7:\n",
    "                y_pred_list[id] = y_test_standard_list[id]\n",
    "        elif y_test_standard_list[id] == 7:\n",
    "            if y_pred_list[id] ==  0 or y_pred_list[id] == 6:\n",
    "                y_pred_list[id] = y_test_standard_list[id]\n",
    "    print(classification_report(y_test_standard_list, y_pred_list,digits = digits, target_names=['sad','angry','energetic','excited','happy','content','calm','depressed']))\n",
    "    return"
   ]
  },
  {
   "attachments": {},
   "cell_type": "markdown",
   "metadata": {},
   "source": [
    "## skip when getting RF model"
   ]
  },
  {
   "cell_type": "code",
   "execution_count": 17,
   "metadata": {},
   "outputs": [],
   "source": [
    "\n",
    "# Initialize the MLP classifier\n",
    "mlp = MLPClassifier(hidden_layer_sizes=(256,128),random_state=42,early_stopping=True)"
   ]
  },
  {
   "cell_type": "code",
   "execution_count": 18,
   "metadata": {},
   "outputs": [
    {
     "name": "stdout",
     "output_type": "stream",
     "text": [
      "              precision    recall  f1-score   support\n",
      "\n",
      "           0       0.32      0.41      0.36       120\n",
      "           1       0.58      0.68      0.62       120\n",
      "           2       0.58      0.59      0.58       120\n",
      "           3       0.34      0.38      0.36       120\n",
      "           4       0.36      0.41      0.39       104\n",
      "           5       0.43      0.25      0.32       120\n",
      "           6       0.63      0.62      0.63       120\n",
      "           7       0.33      0.23      0.27       120\n",
      "\n",
      "    accuracy                           0.45       944\n",
      "   macro avg       0.44      0.45      0.44       944\n",
      "weighted avg       0.45      0.45      0.44       944\n",
      "\n"
     ]
    }
   ],
   "source": [
    "# Train the model on the resampled data\n",
    "mlp.fit(X_train_standard, y_train_standard)\n",
    "\n",
    "# Make predictions on the test set\n",
    "y_pred = mlp.predict(X_test_standard)\n",
    "\n",
    "# Evaluate the model performance of micro-averaged F1 score\n",
    "\n",
    "print(classification_report(y_test_standard, y_pred))\n"
   ]
  },
  {
   "cell_type": "code",
   "execution_count": 22,
   "metadata": {},
   "outputs": [
    {
     "name": "stdout",
     "output_type": "stream",
     "text": [
      "              precision    recall  f1-score   support\n",
      "\n",
      "         sad      0.478     0.542     0.508       120\n",
      "       angry      0.711     0.800     0.753       120\n",
      "   energetic      0.768     0.800     0.784       120\n",
      "     excited      0.568     0.692     0.624       120\n",
      "       happy      0.646     0.615     0.631       104\n",
      "     content      0.683     0.467     0.554       120\n",
      "        calm      0.885     0.833     0.858       120\n",
      "   depressed      0.713     0.642     0.675       120\n",
      "\n",
      "    accuracy                          0.675       944\n",
      "   macro avg      0.682     0.674     0.673       944\n",
      "weighted avg      0.682     0.675     0.674       944\n",
      "\n"
     ]
    }
   ],
   "source": [
    "offByOne(y_test_standard, y_pred)"
   ]
  },
  {
   "cell_type": "code",
   "execution_count": 24,
   "metadata": {},
   "outputs": [],
   "source": [
    "#save mlp model as MLP3.pkl in the folder C:/Users/mlar5/OneDrive/Desktop/Code Folder/198 Senior Design/Models/Spotipy v1.2\n",
    "folder_path = \"C:/Users/mlar5/OneDrive/Desktop/Code Folder/198 Senior Design/Models/Spotipy v1.2\"\n",
    "\n",
    "with open(os.path.join(folder_path, \"MLP3.pkl\"), 'wb') as f:\n",
    "    pickle.dump(mlp, f)"
   ]
  },
  {
   "cell_type": "code",
   "execution_count": 136,
   "metadata": {},
   "outputs": [],
   "source": [
    "#svm = SVC(kernel='linear', class_weight='balanced', random_state=42)\n",
    "svm =SVC(kernel='poly', degree=3,class_weight='balanced', random_state=42)\n"
   ]
  },
  {
   "cell_type": "code",
   "execution_count": 137,
   "metadata": {},
   "outputs": [
    {
     "name": "stdout",
     "output_type": "stream",
     "text": [
      "              precision    recall  f1-score   support\n",
      "\n",
      "           0       0.34      0.44      0.38       120\n",
      "           1       0.70      0.57      0.63       120\n",
      "           2       0.62      0.57      0.60       120\n",
      "           3       0.35      0.33      0.34       120\n",
      "           4       0.32      0.67      0.43       104\n",
      "           5       0.47      0.28      0.35       120\n",
      "           6       0.62      0.57      0.59       120\n",
      "           7       0.33      0.18      0.24       120\n",
      "\n",
      "    accuracy                           0.45       944\n",
      "   macro avg       0.47      0.45      0.45       944\n",
      "weighted avg       0.47      0.45      0.45       944\n",
      "\n"
     ]
    }
   ],
   "source": [
    "# Train the model\n",
    "svm.fit(X_train_standard, y_train_standard)\n",
    "\n",
    "# Make predictions on the test set\n",
    "y_pred_SVM = svm.predict(X_test_standard)\n",
    "\n",
    "# Evaluate the model performance\n",
    "print(classification_report(y_test_standard, y_pred_SVM))"
   ]
  },
  {
   "cell_type": "code",
   "execution_count": 138,
   "metadata": {},
   "outputs": [
    {
     "name": "stdout",
     "output_type": "stream",
     "text": [
      "              precision    recall  f1-score   support\n",
      "\n",
      "           0       0.48      0.52      0.50       120\n",
      "           1       0.83      0.73      0.78       120\n",
      "           2       0.80      0.72      0.75       120\n",
      "           3       0.62      0.73      0.67       120\n",
      "           4       0.50      0.78      0.61       104\n",
      "           5       0.71      0.54      0.62       120\n",
      "           6       0.86      0.79      0.83       120\n",
      "           7       0.77      0.62      0.69       120\n",
      "\n",
      "    accuracy                           0.68       944\n",
      "   macro avg       0.70      0.68      0.68       944\n",
      "weighted avg       0.70      0.68      0.68       944\n",
      "\n"
     ]
    }
   ],
   "source": [
    "offByOne(y_test_standard, y_pred_SVM)"
   ]
  },
  {
   "cell_type": "code",
   "execution_count": 151,
   "metadata": {},
   "outputs": [
    {
     "name": "stdout",
     "output_type": "stream",
     "text": [
      "              precision    recall  f1-score   support\n",
      "\n",
      "           0       0.32      0.29      0.30       120\n",
      "           1       0.42      0.45      0.43       120\n",
      "           2       0.51      0.54      0.53       120\n",
      "           3       0.27      0.29      0.28       120\n",
      "           4       0.31      0.32      0.31       104\n",
      "           5       0.27      0.21      0.23       120\n",
      "           6       0.52      0.55      0.53       120\n",
      "           7       0.25      0.25      0.25       120\n",
      "\n",
      "    accuracy                           0.36       944\n",
      "   macro avg       0.36      0.36      0.36       944\n",
      "weighted avg       0.36      0.36      0.36       944\n",
      "\n",
      "              precision    recall  f1-score   support\n",
      "\n",
      "           0       0.55      0.52      0.53       120\n",
      "           1       0.64      0.70      0.67       120\n",
      "           2       0.76      0.80      0.78       120\n",
      "           3       0.50      0.53      0.52       120\n",
      "           4       0.61      0.61      0.61       104\n",
      "           5       0.53      0.47      0.50       120\n",
      "           6       0.80      0.80      0.80       120\n",
      "           7       0.57      0.55      0.56       120\n",
      "\n",
      "    accuracy                           0.62       944\n",
      "   macro avg       0.62      0.62      0.62       944\n",
      "weighted avg       0.62      0.62      0.62       944\n",
      "\n"
     ]
    }
   ],
   "source": [
    "#use a decision tree\n",
    "from sklearn.tree import DecisionTreeClassifier\n",
    "\n",
    "# Initialize the decision tree classifier\n",
    "dt = DecisionTreeClassifier(random_state=42)\n",
    "\n",
    "# Train the model\n",
    "dt.fit(X_train_standard, y_train_standard)\n",
    "\n",
    "# Make predictions on the test set\n",
    "y_pred_DT = dt.predict(X_test_standard)\n",
    "\n",
    "# Evaluate the model performance\n",
    "print(classification_report(y_test_standard, y_pred_DT))\n",
    "\n",
    "offByOne(y_test_standard, y_pred_DT)"
   ]
  },
  {
   "attachments": {},
   "cell_type": "markdown",
   "metadata": {},
   "source": [
    "## RF model and onwards"
   ]
  },
  {
   "cell_type": "code",
   "execution_count": 20,
   "metadata": {},
   "outputs": [
    {
     "data": {
      "text/html": [
       "<style>#sk-container-id-2 {color: black;background-color: white;}#sk-container-id-2 pre{padding: 0;}#sk-container-id-2 div.sk-toggleable {background-color: white;}#sk-container-id-2 label.sk-toggleable__label {cursor: pointer;display: block;width: 100%;margin-bottom: 0;padding: 0.3em;box-sizing: border-box;text-align: center;}#sk-container-id-2 label.sk-toggleable__label-arrow:before {content: \"▸\";float: left;margin-right: 0.25em;color: #696969;}#sk-container-id-2 label.sk-toggleable__label-arrow:hover:before {color: black;}#sk-container-id-2 div.sk-estimator:hover label.sk-toggleable__label-arrow:before {color: black;}#sk-container-id-2 div.sk-toggleable__content {max-height: 0;max-width: 0;overflow: hidden;text-align: left;background-color: #f0f8ff;}#sk-container-id-2 div.sk-toggleable__content pre {margin: 0.2em;color: black;border-radius: 0.25em;background-color: #f0f8ff;}#sk-container-id-2 input.sk-toggleable__control:checked~div.sk-toggleable__content {max-height: 200px;max-width: 100%;overflow: auto;}#sk-container-id-2 input.sk-toggleable__control:checked~label.sk-toggleable__label-arrow:before {content: \"▾\";}#sk-container-id-2 div.sk-estimator input.sk-toggleable__control:checked~label.sk-toggleable__label {background-color: #d4ebff;}#sk-container-id-2 div.sk-label input.sk-toggleable__control:checked~label.sk-toggleable__label {background-color: #d4ebff;}#sk-container-id-2 input.sk-hidden--visually {border: 0;clip: rect(1px 1px 1px 1px);clip: rect(1px, 1px, 1px, 1px);height: 1px;margin: -1px;overflow: hidden;padding: 0;position: absolute;width: 1px;}#sk-container-id-2 div.sk-estimator {font-family: monospace;background-color: #f0f8ff;border: 1px dotted black;border-radius: 0.25em;box-sizing: border-box;margin-bottom: 0.5em;}#sk-container-id-2 div.sk-estimator:hover {background-color: #d4ebff;}#sk-container-id-2 div.sk-parallel-item::after {content: \"\";width: 100%;border-bottom: 1px solid gray;flex-grow: 1;}#sk-container-id-2 div.sk-label:hover label.sk-toggleable__label {background-color: #d4ebff;}#sk-container-id-2 div.sk-serial::before {content: \"\";position: absolute;border-left: 1px solid gray;box-sizing: border-box;top: 0;bottom: 0;left: 50%;z-index: 0;}#sk-container-id-2 div.sk-serial {display: flex;flex-direction: column;align-items: center;background-color: white;padding-right: 0.2em;padding-left: 0.2em;position: relative;}#sk-container-id-2 div.sk-item {position: relative;z-index: 1;}#sk-container-id-2 div.sk-parallel {display: flex;align-items: stretch;justify-content: center;background-color: white;position: relative;}#sk-container-id-2 div.sk-item::before, #sk-container-id-2 div.sk-parallel-item::before {content: \"\";position: absolute;border-left: 1px solid gray;box-sizing: border-box;top: 0;bottom: 0;left: 50%;z-index: -1;}#sk-container-id-2 div.sk-parallel-item {display: flex;flex-direction: column;z-index: 1;position: relative;background-color: white;}#sk-container-id-2 div.sk-parallel-item:first-child::after {align-self: flex-end;width: 50%;}#sk-container-id-2 div.sk-parallel-item:last-child::after {align-self: flex-start;width: 50%;}#sk-container-id-2 div.sk-parallel-item:only-child::after {width: 0;}#sk-container-id-2 div.sk-dashed-wrapped {border: 1px dashed gray;margin: 0 0.4em 0.5em 0.4em;box-sizing: border-box;padding-bottom: 0.4em;background-color: white;}#sk-container-id-2 div.sk-label label {font-family: monospace;font-weight: bold;display: inline-block;line-height: 1.2em;}#sk-container-id-2 div.sk-label-container {text-align: center;}#sk-container-id-2 div.sk-container {/* jupyter's `normalize.less` sets `[hidden] { display: none; }` but bootstrap.min.css set `[hidden] { display: none !important; }` so we also need the `!important` here to be able to override the default hidden behavior on the sphinx rendered scikit-learn.org. See: https://github.com/scikit-learn/scikit-learn/issues/21755 */display: inline-block !important;position: relative;}#sk-container-id-2 div.sk-text-repr-fallback {display: none;}</style><div id=\"sk-container-id-2\" class=\"sk-top-container\"><div class=\"sk-text-repr-fallback\"><pre>RandomForestClassifier(n_estimators=10000, random_state=42)</pre><b>In a Jupyter environment, please rerun this cell to show the HTML representation or trust the notebook. <br />On GitHub, the HTML representation is unable to render, please try loading this page with nbviewer.org.</b></div><div class=\"sk-container\" hidden><div class=\"sk-item\"><div class=\"sk-estimator sk-toggleable\"><input class=\"sk-toggleable__control sk-hidden--visually\" id=\"sk-estimator-id-2\" type=\"checkbox\" checked><label for=\"sk-estimator-id-2\" class=\"sk-toggleable__label sk-toggleable__label-arrow\">RandomForestClassifier</label><div class=\"sk-toggleable__content\"><pre>RandomForestClassifier(n_estimators=10000, random_state=42)</pre></div></div></div></div></div>"
      ],
      "text/plain": [
       "RandomForestClassifier(n_estimators=10000, random_state=42)"
      ]
     },
     "execution_count": 20,
     "metadata": {},
     "output_type": "execute_result"
    }
   ],
   "source": [
    "# use a random forest classifier\n",
    "from sklearn.ensemble import RandomForestClassifier\n",
    "\n",
    "\n",
    "rf = RandomForestClassifier(n_estimators=10000, random_state=42)\n",
    "\n",
    "# Train the model\n",
    "rf.fit(X_train_standard, y_train_standard)\n",
    "\n"
   ]
  },
  {
   "cell_type": "code",
   "execution_count": 21,
   "metadata": {},
   "outputs": [
    {
     "name": "stdout",
     "output_type": "stream",
     "text": [
      "              precision    recall  f1-score   support\n",
      "\n",
      "           0      0.438     0.467     0.452       120\n",
      "           1      0.620     0.667     0.643       120\n",
      "           2      0.599     0.708     0.649       120\n",
      "           3      0.403     0.400     0.402       120\n",
      "           4      0.475     0.538     0.505       104\n",
      "           5      0.427     0.342     0.380       120\n",
      "           6      0.618     0.742     0.674       120\n",
      "           7      0.397     0.225     0.287       120\n",
      "\n",
      "    accuracy                          0.511       944\n",
      "   macro avg      0.497     0.511     0.499       944\n",
      "weighted avg      0.497     0.511     0.499       944\n",
      "\n",
      "              precision    recall  f1-score   support\n",
      "\n",
      "           0      0.586     0.567     0.576       120\n",
      "           1      0.738     0.800     0.768       120\n",
      "           2      0.782     0.867     0.822       120\n",
      "           3      0.599     0.708     0.649       120\n",
      "           4      0.722     0.673     0.697       104\n",
      "           5      0.642     0.583     0.611       120\n",
      "           6      0.875     0.875     0.875       120\n",
      "           7      0.742     0.600     0.664       120\n",
      "\n",
      "    accuracy                          0.710       944\n",
      "   macro avg      0.711     0.709     0.708       944\n",
      "weighted avg      0.711     0.710     0.708       944\n",
      "\n",
      "None\n"
     ]
    }
   ],
   "source": [
    "# Make predictions on the test set\n",
    "y_pred_RF = rf.predict(X_test_standard)\n",
    "\n",
    "# Evaluate the model performance\n",
    "print(classification_report(y_test_standard, y_pred_RF,digits=3))\n",
    "\n",
    "print(offByOne(y_test_standard, y_pred_RF))"
   ]
  },
  {
   "cell_type": "code",
   "execution_count": 22,
   "metadata": {},
   "outputs": [
    {
     "data": {
      "text/html": [
       "<style>#sk-container-id-3 {color: black;background-color: white;}#sk-container-id-3 pre{padding: 0;}#sk-container-id-3 div.sk-toggleable {background-color: white;}#sk-container-id-3 label.sk-toggleable__label {cursor: pointer;display: block;width: 100%;margin-bottom: 0;padding: 0.3em;box-sizing: border-box;text-align: center;}#sk-container-id-3 label.sk-toggleable__label-arrow:before {content: \"▸\";float: left;margin-right: 0.25em;color: #696969;}#sk-container-id-3 label.sk-toggleable__label-arrow:hover:before {color: black;}#sk-container-id-3 div.sk-estimator:hover label.sk-toggleable__label-arrow:before {color: black;}#sk-container-id-3 div.sk-toggleable__content {max-height: 0;max-width: 0;overflow: hidden;text-align: left;background-color: #f0f8ff;}#sk-container-id-3 div.sk-toggleable__content pre {margin: 0.2em;color: black;border-radius: 0.25em;background-color: #f0f8ff;}#sk-container-id-3 input.sk-toggleable__control:checked~div.sk-toggleable__content {max-height: 200px;max-width: 100%;overflow: auto;}#sk-container-id-3 input.sk-toggleable__control:checked~label.sk-toggleable__label-arrow:before {content: \"▾\";}#sk-container-id-3 div.sk-estimator input.sk-toggleable__control:checked~label.sk-toggleable__label {background-color: #d4ebff;}#sk-container-id-3 div.sk-label input.sk-toggleable__control:checked~label.sk-toggleable__label {background-color: #d4ebff;}#sk-container-id-3 input.sk-hidden--visually {border: 0;clip: rect(1px 1px 1px 1px);clip: rect(1px, 1px, 1px, 1px);height: 1px;margin: -1px;overflow: hidden;padding: 0;position: absolute;width: 1px;}#sk-container-id-3 div.sk-estimator {font-family: monospace;background-color: #f0f8ff;border: 1px dotted black;border-radius: 0.25em;box-sizing: border-box;margin-bottom: 0.5em;}#sk-container-id-3 div.sk-estimator:hover {background-color: #d4ebff;}#sk-container-id-3 div.sk-parallel-item::after {content: \"\";width: 100%;border-bottom: 1px solid gray;flex-grow: 1;}#sk-container-id-3 div.sk-label:hover label.sk-toggleable__label {background-color: #d4ebff;}#sk-container-id-3 div.sk-serial::before {content: \"\";position: absolute;border-left: 1px solid gray;box-sizing: border-box;top: 0;bottom: 0;left: 50%;z-index: 0;}#sk-container-id-3 div.sk-serial {display: flex;flex-direction: column;align-items: center;background-color: white;padding-right: 0.2em;padding-left: 0.2em;position: relative;}#sk-container-id-3 div.sk-item {position: relative;z-index: 1;}#sk-container-id-3 div.sk-parallel {display: flex;align-items: stretch;justify-content: center;background-color: white;position: relative;}#sk-container-id-3 div.sk-item::before, #sk-container-id-3 div.sk-parallel-item::before {content: \"\";position: absolute;border-left: 1px solid gray;box-sizing: border-box;top: 0;bottom: 0;left: 50%;z-index: -1;}#sk-container-id-3 div.sk-parallel-item {display: flex;flex-direction: column;z-index: 1;position: relative;background-color: white;}#sk-container-id-3 div.sk-parallel-item:first-child::after {align-self: flex-end;width: 50%;}#sk-container-id-3 div.sk-parallel-item:last-child::after {align-self: flex-start;width: 50%;}#sk-container-id-3 div.sk-parallel-item:only-child::after {width: 0;}#sk-container-id-3 div.sk-dashed-wrapped {border: 1px dashed gray;margin: 0 0.4em 0.5em 0.4em;box-sizing: border-box;padding-bottom: 0.4em;background-color: white;}#sk-container-id-3 div.sk-label label {font-family: monospace;font-weight: bold;display: inline-block;line-height: 1.2em;}#sk-container-id-3 div.sk-label-container {text-align: center;}#sk-container-id-3 div.sk-container {/* jupyter's `normalize.less` sets `[hidden] { display: none; }` but bootstrap.min.css set `[hidden] { display: none !important; }` so we also need the `!important` here to be able to override the default hidden behavior on the sphinx rendered scikit-learn.org. See: https://github.com/scikit-learn/scikit-learn/issues/21755 */display: inline-block !important;position: relative;}#sk-container-id-3 div.sk-text-repr-fallback {display: none;}</style><div id=\"sk-container-id-3\" class=\"sk-top-container\"><div class=\"sk-text-repr-fallback\"><pre>RandomForestClassifier(n_estimators=1000, random_state=42)</pre><b>In a Jupyter environment, please rerun this cell to show the HTML representation or trust the notebook. <br />On GitHub, the HTML representation is unable to render, please try loading this page with nbviewer.org.</b></div><div class=\"sk-container\" hidden><div class=\"sk-item\"><div class=\"sk-estimator sk-toggleable\"><input class=\"sk-toggleable__control sk-hidden--visually\" id=\"sk-estimator-id-3\" type=\"checkbox\" checked><label for=\"sk-estimator-id-3\" class=\"sk-toggleable__label sk-toggleable__label-arrow\">RandomForestClassifier</label><div class=\"sk-toggleable__content\"><pre>RandomForestClassifier(n_estimators=1000, random_state=42)</pre></div></div></div></div></div>"
      ],
      "text/plain": [
       "RandomForestClassifier(n_estimators=1000, random_state=42)"
      ]
     },
     "execution_count": 22,
     "metadata": {},
     "output_type": "execute_result"
    }
   ],
   "source": [
    "# use a random forest classifier\n",
    "from sklearn.ensemble import RandomForestClassifier\n",
    "\n",
    "\n",
    "rf = RandomForestClassifier(n_estimators=1000, random_state=42)\n",
    "\n",
    "# Train the model\n",
    "rf.fit(X_train_standard, y_train_standard)\n",
    "\n"
   ]
  },
  {
   "cell_type": "code",
   "execution_count": 28,
   "metadata": {},
   "outputs": [
    {
     "name": "stdout",
     "output_type": "stream",
     "text": [
      "              precision    recall  f1-score   support\n",
      "\n",
      "           0      0.433     0.458     0.445       120\n",
      "           1      0.614     0.675     0.643       120\n",
      "           2      0.592     0.700     0.641       120\n",
      "           3      0.397     0.383     0.390       120\n",
      "           4      0.471     0.548     0.507       104\n",
      "           5      0.440     0.333     0.379       120\n",
      "           6      0.614     0.742     0.672       120\n",
      "           7      0.386     0.225     0.284       120\n",
      "\n",
      "    accuracy                          0.507       944\n",
      "   macro avg      0.493     0.508     0.495       944\n",
      "weighted avg      0.493     0.507     0.495       944\n",
      "\n",
      "              precision    recall  f1-score   support\n",
      "\n",
      "           0      0.593     0.583     0.588       120\n",
      "           1      0.740     0.808     0.773       120\n",
      "           2      0.784     0.875     0.827       120\n",
      "           3      0.604     0.700     0.649       120\n",
      "           4      0.713     0.692     0.702       104\n",
      "           5      0.663     0.575     0.616       120\n",
      "           6      0.875     0.875     0.875       120\n",
      "           7      0.753     0.608     0.673       120\n",
      "\n",
      "    accuracy                          0.715       944\n",
      "   macro avg      0.716     0.715     0.713       944\n",
      "weighted avg      0.716     0.715     0.713       944\n",
      "\n",
      "None\n"
     ]
    }
   ],
   "source": [
    "# Make predictions on the test set\n",
    "y_pred_RF = rf.predict(X_test_standard)\n",
    "\n",
    "# Evaluate the model performance\n",
    "print(classification_report(y_test_standard, y_pred_RF,digits=3))\n",
    "\n",
    "print(offByOne(y_test_standard, y_pred_RF))"
   ]
  },
  {
   "cell_type": "code",
   "execution_count": 25,
   "metadata": {},
   "outputs": [],
   "source": [
    "chdir('C:/Users/mlar5/OneDrive/Desktop/Code Folder/198 Senior Design/Models/Spotipy v2')"
   ]
  },
  {
   "cell_type": "code",
   "execution_count": 29,
   "metadata": {},
   "outputs": [],
   "source": [
    "filename = 'rf2.pkl'\n",
    "#check if the file exists\n",
    "if os.path.exists(filename)==False:\n",
    "    pickle.dump(rf, open(filename, 'wb'))"
   ]
  },
  {
   "cell_type": "code",
   "execution_count": 162,
   "metadata": {},
   "outputs": [
    {
     "name": "stdout",
     "output_type": "stream",
     "text": [
      "              precision    recall  f1-score   support\n",
      "\n",
      "           0      0.424     0.442     0.433       120\n",
      "           1      0.634     0.692     0.661       120\n",
      "           2      0.618     0.742     0.674       120\n",
      "           3      0.376     0.392     0.384       120\n",
      "           4      0.448     0.500     0.473       104\n",
      "           5      0.460     0.333     0.386       120\n",
      "           6      0.616     0.750     0.677       120\n",
      "           7      0.386     0.225     0.284       120\n",
      "\n",
      "    accuracy                          0.510       944\n",
      "   macro avg      0.495     0.509     0.497       944\n",
      "weighted avg      0.496     0.510     0.497       944\n",
      "\n",
      "              precision    recall  f1-score   support\n",
      "\n",
      "           0      0.590     0.575     0.582       120\n",
      "           1      0.744     0.825     0.783       120\n",
      "           2      0.797     0.883     0.838       120\n",
      "           3      0.599     0.708     0.649       120\n",
      "           4      0.740     0.712     0.725       104\n",
      "           5      0.689     0.592     0.637       120\n",
      "           6      0.868     0.875     0.871       120\n",
      "           7      0.758     0.600     0.670       120\n",
      "\n",
      "    accuracy                          0.721       944\n",
      "   macro avg      0.723     0.721     0.719       944\n",
      "weighted avg      0.723     0.721     0.719       944\n",
      "\n",
      "None\n"
     ]
    }
   ],
   "source": [
    "# Make predictions on the test set\n",
    "y_pred_RF = rf.predict(X_test_standard)\n",
    "\n",
    "# Evaluate the model performance\n",
    "print(classification_report(y_test_standard, y_pred_RF,digits=3))\n",
    "\n",
    "print(offByOne(y_test_standard, y_pred_RF))"
   ]
  },
  {
   "attachments": {},
   "cell_type": "markdown",
   "metadata": {},
   "source": [
    "# reviewing data distibution to determine the ranges to clip"
   ]
  },
  {
   "cell_type": "code",
   "execution_count": 32,
   "metadata": {},
   "outputs": [
    {
     "data": {
      "text/plain": [
       "1    600\n",
       "6    600\n",
       "5    600\n",
       "7    600\n",
       "2    600\n",
       "3    600\n",
       "0    600\n",
       "4    519\n",
       "Name: mood_code, dtype: int64"
      ]
     },
     "execution_count": 32,
     "metadata": {},
     "output_type": "execute_result"
    }
   ],
   "source": [
    "# create a new df with only up to 500 songs per mood_code\n",
    "# this is to balance the data\n",
    "\n",
    "balancedDF = pd.DataFrame(columns=emotionsDF.columns)\n",
    "\n",
    "for i in emotionsDF['mood_code'].unique():\n",
    "    df = emotionsDF[emotionsDF['mood_code']==i]\n",
    "    #if the value count of the mood_code is larger than 500, sample 500\n",
    "    if df['mood_code'].value_counts()[i] > 600:\n",
    "        df = df.sample(n=600, random_state=42)\n",
    "    #if the value count of the mood_code is less than 500, sample the value count\n",
    "    else:\n",
    "        df = df.sample(n=df['mood_code'].value_counts()[i])\n",
    "    balancedDF = pd.concat([balancedDF, df])\n",
    "\n",
    "balancedDF['mood_code'].value_counts()"
   ]
  },
  {
   "cell_type": "code",
   "execution_count": 20,
   "metadata": {},
   "outputs": [
    {
     "name": "stdout",
     "output_type": "stream",
     "text": [
      "lower danceability 0.25336000000000003\n",
      "upper danceability 0.9188199999999997\n",
      "lower energy 0.047536\n",
      "upper energy 0.982\n",
      "lower loudness -24.65708\n",
      "upper loudness -0.8038200000000288\n",
      "lower speechiness 0.0263\n",
      "upper speechiness 0.5018199999999997\n",
      "lower acousticness 0.00014072\n",
      "upper acousticness 0.986\n",
      "lower instrumentalness 0.0\n",
      "upper instrumentalness 0.951\n",
      "lower liveness 0.044836\n",
      "upper liveness 0.7224599999999991\n",
      "lower valence 0.038318\n",
      "upper valence 0.9348199999999998\n",
      "lower tempo 66.34576\n",
      "upper tempo 189.87784\n",
      "lower duration_ms 86120.0\n",
      "upper duration_ms 341848.79999999976\n",
      "lower time_signature 3.0\n",
      "upper time_signature 5.0\n"
     ]
    }
   ],
   "source": [
    "print('lower danceability',balancedDF['danceability'].quantile(0.01))\n",
    "print('upper danceability',balancedDF['danceability'].quantile(0.99))\n",
    "print('lower energy',balancedDF['energy'].quantile(0.01))\n",
    "print('upper energy',balancedDF['energy'].quantile(0.99))\n",
    "print('lower loudness',balancedDF['loudness'].quantile(0.01))\n",
    "print('upper loudness',balancedDF['loudness'].quantile(0.99))\n",
    "print('lower speechiness',balancedDF['speechiness'].quantile(0.01))\n",
    "print('upper speechiness',balancedDF['speechiness'].quantile(0.99))\n",
    "print('lower acousticness',balancedDF['acousticness'].quantile(0.01))\n",
    "print('upper acousticness',balancedDF['acousticness'].quantile(0.99))\n",
    "print('lower instrumentalness',balancedDF['instrumentalness'].quantile(0.01))\n",
    "print('upper instrumentalness',balancedDF['instrumentalness'].quantile(0.99))\n",
    "print('lower liveness',balancedDF['liveness'].quantile(0.01))\n",
    "print('upper liveness',balancedDF['liveness'].quantile(0.99))\n",
    "print('lower valence',balancedDF['valence'].quantile(0.01))\n",
    "print('upper valence',balancedDF['valence'].quantile(0.99))\n",
    "print('lower tempo',balancedDF['tempo'].quantile(0.01))\n",
    "print('upper tempo',balancedDF['tempo'].quantile(0.99))\n",
    "print('lower duration_ms',balancedDF['duration_ms'].quantile(0.01))\n",
    "print('upper duration_ms',balancedDF['duration_ms'].quantile(0.99))\n",
    "print('lower time_signature',balancedDF['time_signature'].quantile(0.01))\n",
    "print('upper time_signature',balancedDF['time_signature'].quantile(0.99))\n"
   ]
  },
  {
   "cell_type": "code",
   "execution_count": 34,
   "metadata": {},
   "outputs": [
    {
     "name": "stderr",
     "output_type": "stream",
     "text": [
      "<ipython-input-34-4eebaf6a8128>:5: UserWarning: \n",
      "\n",
      "`distplot` is a deprecated function and will be removed in seaborn v0.14.0.\n",
      "\n",
      "Please adapt your code to use either `displot` (a figure-level function with\n",
      "similar flexibility) or `histplot` (an axes-level function for histograms).\n",
      "\n",
      "For a guide to updating your code to use the new functions, please see\n",
      "https://gist.github.com/mwaskom/de44147ed2974457ad6372750bbe5751\n",
      "\n",
      "  sns.distplot(balancedDF['danceability'], ax=ax[0, 0])\n",
      "<ipython-input-34-4eebaf6a8128>:6: UserWarning: \n",
      "\n",
      "`distplot` is a deprecated function and will be removed in seaborn v0.14.0.\n",
      "\n",
      "Please adapt your code to use either `displot` (a figure-level function with\n",
      "similar flexibility) or `histplot` (an axes-level function for histograms).\n",
      "\n",
      "For a guide to updating your code to use the new functions, please see\n",
      "https://gist.github.com/mwaskom/de44147ed2974457ad6372750bbe5751\n",
      "\n",
      "  sns.distplot(balancedDF['energy'], ax=ax[0, 1])\n",
      "<ipython-input-34-4eebaf6a8128>:7: UserWarning: \n",
      "\n",
      "`distplot` is a deprecated function and will be removed in seaborn v0.14.0.\n",
      "\n",
      "Please adapt your code to use either `displot` (a figure-level function with\n",
      "similar flexibility) or `histplot` (an axes-level function for histograms).\n",
      "\n",
      "For a guide to updating your code to use the new functions, please see\n",
      "https://gist.github.com/mwaskom/de44147ed2974457ad6372750bbe5751\n",
      "\n",
      "  sns.distplot(balancedDF['loudness'], ax=ax[0, 2])\n",
      "<ipython-input-34-4eebaf6a8128>:8: UserWarning: \n",
      "\n",
      "`distplot` is a deprecated function and will be removed in seaborn v0.14.0.\n",
      "\n",
      "Please adapt your code to use either `displot` (a figure-level function with\n",
      "similar flexibility) or `histplot` (an axes-level function for histograms).\n",
      "\n",
      "For a guide to updating your code to use the new functions, please see\n",
      "https://gist.github.com/mwaskom/de44147ed2974457ad6372750bbe5751\n",
      "\n",
      "  sns.distplot(balancedDF['speechiness'], ax=ax[1, 0])\n",
      "<ipython-input-34-4eebaf6a8128>:9: UserWarning: \n",
      "\n",
      "`distplot` is a deprecated function and will be removed in seaborn v0.14.0.\n",
      "\n",
      "Please adapt your code to use either `displot` (a figure-level function with\n",
      "similar flexibility) or `histplot` (an axes-level function for histograms).\n",
      "\n",
      "For a guide to updating your code to use the new functions, please see\n",
      "https://gist.github.com/mwaskom/de44147ed2974457ad6372750bbe5751\n",
      "\n",
      "  sns.distplot(balancedDF['acousticness'], ax=ax[1, 1])\n",
      "<ipython-input-34-4eebaf6a8128>:10: UserWarning: \n",
      "\n",
      "`distplot` is a deprecated function and will be removed in seaborn v0.14.0.\n",
      "\n",
      "Please adapt your code to use either `displot` (a figure-level function with\n",
      "similar flexibility) or `histplot` (an axes-level function for histograms).\n",
      "\n",
      "For a guide to updating your code to use the new functions, please see\n",
      "https://gist.github.com/mwaskom/de44147ed2974457ad6372750bbe5751\n",
      "\n",
      "  sns.distplot(balancedDF['instrumentalness'], ax=ax[1, 2])\n"
     ]
    },
    {
     "data": {
      "image/png": "[encoded data removed]",
      "text/plain": [
       "<Figure size 1080x720 with 6 Axes>"
      ]
     },
     "metadata": {
      "needs_background": "light"
     },
     "output_type": "display_data"
    }
   ],
   "source": [
    "#from balancedDF, plot the distribution of the numerical features\n",
    "\n",
    "#plot the distribution of the numerical features\n",
    "fig, ax = plt.subplots(2, 3, figsize=(15, 10))\n",
    "sns.distplot(balancedDF['danceability'], ax=ax[0, 0])\n",
    "sns.distplot(balancedDF['energy'], ax=ax[0, 1])\n",
    "sns.distplot(balancedDF['loudness'], ax=ax[0, 2])\n",
    "sns.distplot(balancedDF['speechiness'], ax=ax[1, 0])\n",
    "sns.distplot(balancedDF['acousticness'], ax=ax[1, 1])\n",
    "sns.distplot(balancedDF['instrumentalness'], ax=ax[1, 2])\n",
    "\n"
   ]
  },
  {
   "cell_type": "code",
   "execution_count": 36,
   "metadata": {},
   "outputs": [
    {
     "name": "stderr",
     "output_type": "stream",
     "text": [
      "<ipython-input-36-ff164a45912d>:3: UserWarning: \n",
      "\n",
      "`distplot` is a deprecated function and will be removed in seaborn v0.14.0.\n",
      "\n",
      "Please adapt your code to use either `displot` (a figure-level function with\n",
      "similar flexibility) or `histplot` (an axes-level function for histograms).\n",
      "\n",
      "For a guide to updating your code to use the new functions, please see\n",
      "https://gist.github.com/mwaskom/de44147ed2974457ad6372750bbe5751\n",
      "\n",
      "  sns.distplot(balancedDF['liveness'], ax=ax[0, 0])\n",
      "<ipython-input-36-ff164a45912d>:4: UserWarning: \n",
      "\n",
      "`distplot` is a deprecated function and will be removed in seaborn v0.14.0.\n",
      "\n",
      "Please adapt your code to use either `displot` (a figure-level function with\n",
      "similar flexibility) or `histplot` (an axes-level function for histograms).\n",
      "\n",
      "For a guide to updating your code to use the new functions, please see\n",
      "https://gist.github.com/mwaskom/de44147ed2974457ad6372750bbe5751\n",
      "\n",
      "  sns.distplot(balancedDF['valence'], ax=ax[0, 1])\n",
      "<ipython-input-36-ff164a45912d>:5: UserWarning: \n",
      "\n",
      "`distplot` is a deprecated function and will be removed in seaborn v0.14.0.\n",
      "\n",
      "Please adapt your code to use either `displot` (a figure-level function with\n",
      "similar flexibility) or `histplot` (an axes-level function for histograms).\n",
      "\n",
      "For a guide to updating your code to use the new functions, please see\n",
      "https://gist.github.com/mwaskom/de44147ed2974457ad6372750bbe5751\n",
      "\n",
      "  sns.distplot(balancedDF['tempo'], ax=ax[0, 2])\n",
      "<ipython-input-36-ff164a45912d>:6: UserWarning: \n",
      "\n",
      "`distplot` is a deprecated function and will be removed in seaborn v0.14.0.\n",
      "\n",
      "Please adapt your code to use either `displot` (a figure-level function with\n",
      "similar flexibility) or `histplot` (an axes-level function for histograms).\n",
      "\n",
      "For a guide to updating your code to use the new functions, please see\n",
      "https://gist.github.com/mwaskom/de44147ed2974457ad6372750bbe5751\n",
      "\n",
      "  sns.distplot(balancedDF['duration_ms'], ax=ax[1, 0])\n",
      "<ipython-input-36-ff164a45912d>:7: UserWarning: \n",
      "\n",
      "`distplot` is a deprecated function and will be removed in seaborn v0.14.0.\n",
      "\n",
      "Please adapt your code to use either `displot` (a figure-level function with\n",
      "similar flexibility) or `histplot` (an axes-level function for histograms).\n",
      "\n",
      "For a guide to updating your code to use the new functions, please see\n",
      "https://gist.github.com/mwaskom/de44147ed2974457ad6372750bbe5751\n",
      "\n",
      "  sns.distplot(balancedDF['time_signature'], ax=ax[1, 1])\n"
     ]
    },
    {
     "data": {
      "text/plain": [
       "<AxesSubplot: xlabel='time_signature', ylabel='Density'>"
      ]
     },
     "execution_count": 36,
     "metadata": {},
     "output_type": "execute_result"
    },
    {
     "data": {
      "image/png": "[encoded data removed]",
      "text/plain": [
       "<Figure size 1080x720 with 6 Axes>"
      ]
     },
     "metadata": {
      "needs_background": "light"
     },
     "output_type": "display_data"
    }
   ],
   "source": [
    "#plot more distributions\n",
    "fig, ax = plt.subplots(2, 3, figsize=(15, 10))\n",
    "sns.distplot(balancedDF['liveness'], ax=ax[0, 0])\n",
    "sns.distplot(balancedDF['valence'], ax=ax[0, 1])\n",
    "sns.distplot(balancedDF['tempo'], ax=ax[0, 2])\n",
    "sns.distplot(balancedDF['duration_ms'], ax=ax[1, 0])\n",
    "sns.distplot(balancedDF['time_signature'], ax=ax[1, 1])\n",
    "\n"
   ]
  },
  {
   "attachments": {},
   "cell_type": "markdown",
   "metadata": {},
   "source": [
    "# everything else that can be skipped"
   ]
  },
  {
   "cell_type": "code",
   "execution_count": 150,
   "metadata": {},
   "outputs": [
    {
     "name": "stdout",
     "output_type": "stream",
     "text": [
      "              precision    recall  f1-score   support\n",
      "\n",
      "           0       0.42      0.47      0.44       120\n",
      "           1       0.61      0.64      0.63       120\n",
      "           2       0.56      0.73      0.63       120\n",
      "           3       0.36      0.38      0.37       120\n",
      "           4       0.45      0.47      0.46       104\n",
      "           5       0.44      0.32      0.37       120\n",
      "           6       0.59      0.73      0.65       120\n",
      "           7       0.42      0.19      0.26       120\n",
      "\n",
      "    accuracy                           0.49       944\n",
      "   macro avg       0.48      0.49      0.48       944\n",
      "weighted avg       0.48      0.49      0.48       944\n",
      "\n",
      "              precision    recall  f1-score   support\n",
      "\n",
      "           0       0.56      0.57      0.57       120\n",
      "           1       0.75      0.82      0.78       120\n",
      "           2       0.74      0.92      0.82       120\n",
      "           3       0.60      0.69      0.64       120\n",
      "           4       0.74      0.69      0.72       104\n",
      "           5       0.67      0.56      0.61       120\n",
      "           6       0.86      0.85      0.85       120\n",
      "           7       0.80      0.58      0.68       120\n",
      "\n",
      "    accuracy                           0.71       944\n",
      "   macro avg       0.72      0.71      0.71       944\n",
      "weighted avg       0.72      0.71      0.71       944\n",
      "\n",
      "None\n"
     ]
    }
   ],
   "source": [
    "# use a bagging classifier\n",
    "from sklearn.ensemble import BaggingClassifier\n",
    "base_estimator = RandomForestClassifier(n_estimators=100,  random_state=42)\n",
    "\n",
    "bagging = BaggingClassifier(base_estimator=base_estimator, n_estimators=10, random_state=42)\n",
    "\n",
    "# Train the model\n",
    "bagging.fit(X_train_standard, y_train_standard)\n",
    "\n",
    "# Make predictions on the test set\n",
    "y_pred_bagging = bagging.predict(X_test_standard)\n",
    "\n",
    "# Evaluate the model performance\n",
    "print(classification_report(y_test_standard, y_pred_bagging))\n",
    "\n",
    "print(offByOne(y_test_standard, y_pred_bagging))"
   ]
  },
  {
   "cell_type": "code",
   "execution_count": 139,
   "metadata": {},
   "outputs": [
    {
     "data": {
      "text/html": [
       "<div>\n",
       "<style scoped>\n",
       "    .dataframe tbody tr th:only-of-type {\n",
       "        vertical-align: middle;\n",
       "    }\n",
       "\n",
       "    .dataframe tbody tr th {\n",
       "        vertical-align: top;\n",
       "    }\n",
       "\n",
       "    .dataframe thead th {\n",
       "        text-align: right;\n",
       "    }\n",
       "</style>\n",
       "<table border=\"1\" class=\"dataframe\">\n",
       "  <thead>\n",
       "    <tr style=\"text-align: right;\">\n",
       "      <th></th>\n",
       "      <th>danceability</th>\n",
       "      <th>energy</th>\n",
       "      <th>key</th>\n",
       "      <th>loudness</th>\n",
       "      <th>mode</th>\n",
       "      <th>speechiness</th>\n",
       "      <th>acousticness</th>\n",
       "      <th>instrumentalness</th>\n",
       "      <th>liveness</th>\n",
       "      <th>valence</th>\n",
       "      <th>tempo</th>\n",
       "      <th>duration_ms</th>\n",
       "      <th>time_signature</th>\n",
       "    </tr>\n",
       "  </thead>\n",
       "  <tbody>\n",
       "    <tr>\n",
       "      <th>count</th>\n",
       "      <td>4.719000e+03</td>\n",
       "      <td>4.719000e+03</td>\n",
       "      <td>4.719000e+03</td>\n",
       "      <td>4719.000000</td>\n",
       "      <td>4.719000e+03</td>\n",
       "      <td>4719.000000</td>\n",
       "      <td>4.719000e+03</td>\n",
       "      <td>4.719000e+03</td>\n",
       "      <td>4719.000000</td>\n",
       "      <td>4.719000e+03</td>\n",
       "      <td>4.719000e+03</td>\n",
       "      <td>4719.000000</td>\n",
       "      <td>4719.000000</td>\n",
       "    </tr>\n",
       "    <tr>\n",
       "      <th>mean</th>\n",
       "      <td>-1.806847e-16</td>\n",
       "      <td>4.818260e-17</td>\n",
       "      <td>2.258559e-18</td>\n",
       "      <td>0.010312</td>\n",
       "      <td>8.733096e-17</td>\n",
       "      <td>-0.004199</td>\n",
       "      <td>-4.818260e-17</td>\n",
       "      <td>2.409130e-17</td>\n",
       "      <td>-0.019021</td>\n",
       "      <td>-2.409130e-17</td>\n",
       "      <td>7.408074e-16</td>\n",
       "      <td>-0.003166</td>\n",
       "      <td>0.039614</td>\n",
       "    </tr>\n",
       "    <tr>\n",
       "      <th>std</th>\n",
       "      <td>1.000106e+00</td>\n",
       "      <td>1.000106e+00</td>\n",
       "      <td>1.000106e+00</td>\n",
       "      <td>0.970356</td>\n",
       "      <td>1.000106e+00</td>\n",
       "      <td>0.988430</td>\n",
       "      <td>1.000106e+00</td>\n",
       "      <td>1.000106e+00</td>\n",
       "      <td>0.938612</td>\n",
       "      <td>1.000106e+00</td>\n",
       "      <td>1.000106e+00</td>\n",
       "      <td>0.991136</td>\n",
       "      <td>0.730117</td>\n",
       "    </tr>\n",
       "    <tr>\n",
       "      <th>min</th>\n",
       "      <td>-2.626290e+00</td>\n",
       "      <td>-2.650139e+00</td>\n",
       "      <td>-1.466296e+00</td>\n",
       "      <td>-2.700000</td>\n",
       "      <td>-1.272304e+00</td>\n",
       "      <td>-0.822051</td>\n",
       "      <td>-9.620748e-01</td>\n",
       "      <td>-4.966097e-01</td>\n",
       "      <td>-1.131471</td>\n",
       "      <td>-1.675838e+00</td>\n",
       "      <td>-1.963093e+00</td>\n",
       "      <td>-2.030113</td>\n",
       "      <td>-2.700000</td>\n",
       "    </tr>\n",
       "    <tr>\n",
       "      <th>25%</th>\n",
       "      <td>-6.430258e-01</td>\n",
       "      <td>-5.694192e-01</td>\n",
       "      <td>-9.112302e-01</td>\n",
       "      <td>-0.359291</td>\n",
       "      <td>-1.272304e+00</td>\n",
       "      <td>-0.687614</td>\n",
       "      <td>-8.627452e-01</td>\n",
       "      <td>-4.966097e-01</td>\n",
       "      <td>-0.642511</td>\n",
       "      <td>-8.151080e-01</td>\n",
       "      <td>-7.994878e-01</td>\n",
       "      <td>-0.718047</td>\n",
       "      <td>0.172931</td>\n",
       "    </tr>\n",
       "    <tr>\n",
       "      <th>50%</th>\n",
       "      <td>9.730795e-02</td>\n",
       "      <td>2.375703e-01</td>\n",
       "      <td>-7.863139e-02</td>\n",
       "      <td>0.291734</td>\n",
       "      <td>7.859758e-01</td>\n",
       "      <td>-0.464468</td>\n",
       "      <td>-4.323762e-01</td>\n",
       "      <td>-4.965456e-01</td>\n",
       "      <td>-0.440887</td>\n",
       "      <td>-1.109277e-01</td>\n",
       "      <td>2.807005e-02</td>\n",
       "      <td>0.019788</td>\n",
       "      <td>0.172931</td>\n",
       "    </tr>\n",
       "    <tr>\n",
       "      <th>75%</th>\n",
       "      <td>7.200185e-01</td>\n",
       "      <td>7.874747e-01</td>\n",
       "      <td>7.539674e-01</td>\n",
       "      <td>0.668497</td>\n",
       "      <td>7.859758e-01</td>\n",
       "      <td>0.312414</td>\n",
       "      <td>8.024322e-01</td>\n",
       "      <td>-3.980784e-01</td>\n",
       "      <td>0.410344</td>\n",
       "      <td>7.468920e-01</td>\n",
       "      <td>7.028076e-01</td>\n",
       "      <td>0.601831</td>\n",
       "      <td>0.172931</td>\n",
       "    </tr>\n",
       "    <tr>\n",
       "      <th>max</th>\n",
       "      <td>1.978032e+00</td>\n",
       "      <td>1.333987e+00</td>\n",
       "      <td>1.586566e+00</td>\n",
       "      <td>1.425457</td>\n",
       "      <td>7.859758e-01</td>\n",
       "      <td>2.700000</td>\n",
       "      <td>2.014439e+00</td>\n",
       "      <td>2.456488e+00</td>\n",
       "      <td>2.700000</td>\n",
       "      <td>2.150217e+00</td>\n",
       "      <td>2.304133e+00</td>\n",
       "      <td>2.700000</td>\n",
       "      <td>2.700000</td>\n",
       "    </tr>\n",
       "  </tbody>\n",
       "</table>\n",
       "</div>"
      ],
      "text/plain": [
       "       danceability        energy           key     loudness          mode  \\\n",
       "count  4.719000e+03  4.719000e+03  4.719000e+03  4719.000000  4.719000e+03   \n",
       "mean  -1.806847e-16  4.818260e-17  2.258559e-18     0.010312  8.733096e-17   \n",
       "std    1.000106e+00  1.000106e+00  1.000106e+00     0.970356  1.000106e+00   \n",
       "min   -2.626290e+00 -2.650139e+00 -1.466296e+00    -2.700000 -1.272304e+00   \n",
       "25%   -6.430258e-01 -5.694192e-01 -9.112302e-01    -0.359291 -1.272304e+00   \n",
       "50%    9.730795e-02  2.375703e-01 -7.863139e-02     0.291734  7.859758e-01   \n",
       "75%    7.200185e-01  7.874747e-01  7.539674e-01     0.668497  7.859758e-01   \n",
       "max    1.978032e+00  1.333987e+00  1.586566e+00     1.425457  7.859758e-01   \n",
       "\n",
       "       speechiness  acousticness  instrumentalness     liveness       valence  \\\n",
       "count  4719.000000  4.719000e+03      4.719000e+03  4719.000000  4.719000e+03   \n",
       "mean     -0.004199 -4.818260e-17      2.409130e-17    -0.019021 -2.409130e-17   \n",
       "std       0.988430  1.000106e+00      1.000106e+00     0.938612  1.000106e+00   \n",
       "min      -0.822051 -9.620748e-01     -4.966097e-01    -1.131471 -1.675838e+00   \n",
       "25%      -0.687614 -8.627452e-01     -4.966097e-01    -0.642511 -8.151080e-01   \n",
       "50%      -0.464468 -4.323762e-01     -4.965456e-01    -0.440887 -1.109277e-01   \n",
       "75%       0.312414  8.024322e-01     -3.980784e-01     0.410344  7.468920e-01   \n",
       "max       2.700000  2.014439e+00      2.456488e+00     2.700000  2.150217e+00   \n",
       "\n",
       "              tempo  duration_ms  time_signature  \n",
       "count  4.719000e+03  4719.000000     4719.000000  \n",
       "mean   7.408074e-16    -0.003166        0.039614  \n",
       "std    1.000106e+00     0.991136        0.730117  \n",
       "min   -1.963093e+00    -2.030113       -2.700000  \n",
       "25%   -7.994878e-01    -0.718047        0.172931  \n",
       "50%    2.807005e-02     0.019788        0.172931  \n",
       "75%    7.028076e-01     0.601831        0.172931  \n",
       "max    2.304133e+00     2.700000        2.700000  "
      ]
     },
     "execution_count": 139,
     "metadata": {},
     "output_type": "execute_result"
    }
   ],
   "source": [
    "rawfeaturesDF.describe()"
   ]
  },
  {
   "cell_type": "code",
   "execution_count": 140,
   "metadata": {},
   "outputs": [
    {
     "data": {
      "text/plain": [
       "-0.496610    1833\n",
       " 2.456488      51\n",
       " 2.394912       9\n",
       " 2.273849       9\n",
       " 2.337122       8\n",
       "             ... \n",
       "-0.435615       1\n",
       "-0.496605       1\n",
       "-0.494180       1\n",
       "-0.496444       1\n",
       "-0.496575       1\n",
       "Name: instrumentalness, Length: 1825, dtype: int64"
      ]
     },
     "execution_count": 140,
     "metadata": {},
     "output_type": "execute_result"
    }
   ],
   "source": [
    "#get the value counts of liveness for each range of .1\n",
    "rawfeaturesDF.instrumentalness.value_counts()"
   ]
  },
  {
   "cell_type": "code",
   "execution_count": 141,
   "metadata": {},
   "outputs": [
    {
     "name": "stdout",
     "output_type": "stream",
     "text": [
      "Skewness of danceability : -0.3790013234646256\n",
      "Kurtosis of danceability : -0.24204525427561618\n",
      "Skewness of energy : -0.8722964365125826\n",
      "Kurtosis of energy : -0.03691040475747487\n",
      "Skewness of key : 0.025717266379693703\n",
      "Kurtosis of key : -1.3135427678539886\n",
      "Skewness of loudness : -1.2856288600200025\n",
      "Kurtosis of loudness : 1.1268516344383648\n",
      "Skewness of mode : -0.48648263216030496\n",
      "Kurtosis of mode : -1.7640824793104508\n",
      "Skewness of speechiness : 1.4838539688683554\n",
      "Kurtosis of speechiness : 1.040004392815956\n",
      "Skewness of acousticness : 0.790513089978876\n",
      "Kurtosis of acousticness : -0.8641791205147773\n",
      "Skewness of instrumentalness : 1.7211497071039277\n",
      "Kurtosis of instrumentalness : 1.1555240243514109\n",
      "Skewness of liveness : 1.3518366626195617\n",
      "Kurtosis of liveness : 0.9558535610347372\n",
      "Skewness of valence : 0.28303698225385904\n",
      "Kurtosis of valence : -0.8577073949393137\n",
      "Skewness of tempo : 0.11899291526596477\n",
      "Kurtosis of tempo : -0.6331288389966057\n",
      "Skewness of duration_ms : 0.29520795140609724\n",
      "Kurtosis of duration_ms : -0.011010485575149609\n",
      "Skewness of time_signature : -2.4240301814521943\n",
      "Kurtosis of time_signature : 10.52814076617418\n"
     ]
    }
   ],
   "source": [
    "for i in rawfeaturesDF.columns:\n",
    "    \n",
    "    #print the skewness\n",
    "    print('Skewness of', i, ':', rawfeaturesDF[i].skew())\n",
    "    #print the kurtosis\n",
    "    print('Kurtosis of', i, ':', rawfeaturesDF[i].kurtosis())\n"
   ]
  },
  {
   "cell_type": "code",
   "execution_count": 142,
   "metadata": {},
   "outputs": [
    {
     "name": "stderr",
     "output_type": "stream",
     "text": [
      "<ipython-input-142-f488e22308de>:3: UserWarning: \n",
      "\n",
      "`distplot` is a deprecated function and will be removed in seaborn v0.14.0.\n",
      "\n",
      "Please adapt your code to use either `displot` (a figure-level function with\n",
      "similar flexibility) or `histplot` (an axes-level function for histograms).\n",
      "\n",
      "For a guide to updating your code to use the new functions, please see\n",
      "https://gist.github.com/mwaskom/de44147ed2974457ad6372750bbe5751\n",
      "\n",
      "  sns.distplot(rawfeaturesDF[i])\n"
     ]
    },
    {
     "data": {
      "image/png": "[encoded data removed]",
      "text/plain": [
       "<Figure size 432x288 with 1 Axes>"
      ]
     },
     "metadata": {
      "needs_background": "light"
     },
     "output_type": "display_data"
    },
    {
     "name": "stderr",
     "output_type": "stream",
     "text": [
      "<ipython-input-142-f488e22308de>:3: UserWarning: \n",
      "\n",
      "`distplot` is a deprecated function and will be removed in seaborn v0.14.0.\n",
      "\n",
      "Please adapt your code to use either `displot` (a figure-level function with\n",
      "similar flexibility) or `histplot` (an axes-level function for histograms).\n",
      "\n",
      "For a guide to updating your code to use the new functions, please see\n",
      "https://gist.github.com/mwaskom/de44147ed2974457ad6372750bbe5751\n",
      "\n",
      "  sns.distplot(rawfeaturesDF[i])\n"
     ]
    },
    {
     "data": {
      "image/png": "[encoded data removed]",
      "text/plain": [
       "<Figure size 432x288 with 1 Axes>"
      ]
     },
     "metadata": {
      "needs_background": "light"
     },
     "output_type": "display_data"
    },
    {
     "name": "stderr",
     "output_type": "stream",
     "text": [
      "<ipython-input-142-f488e22308de>:3: UserWarning: \n",
      "\n",
      "`distplot` is a deprecated function and will be removed in seaborn v0.14.0.\n",
      "\n",
      "Please adapt your code to use either `displot` (a figure-level function with\n",
      "similar flexibility) or `histplot` (an axes-level function for histograms).\n",
      "\n",
      "For a guide to updating your code to use the new functions, please see\n",
      "https://gist.github.com/mwaskom/de44147ed2974457ad6372750bbe5751\n",
      "\n",
      "  sns.distplot(rawfeaturesDF[i])\n"
     ]
    },
    {
     "data": {
      "image/png": "[encoded data removed]",
      "text/plain": [
       "<Figure size 432x288 with 1 Axes>"
      ]
     },
     "metadata": {
      "needs_background": "light"
     },
     "output_type": "display_data"
    },
    {
     "name": "stderr",
     "output_type": "stream",
     "text": [
      "<ipython-input-142-f488e22308de>:3: UserWarning: \n",
      "\n",
      "`distplot` is a deprecated function and will be removed in seaborn v0.14.0.\n",
      "\n",
      "Please adapt your code to use either `displot` (a figure-level function with\n",
      "similar flexibility) or `histplot` (an axes-level function for histograms).\n",
      "\n",
      "For a guide to updating your code to use the new functions, please see\n",
      "https://gist.github.com/mwaskom/de44147ed2974457ad6372750bbe5751\n",
      "\n",
      "  sns.distplot(rawfeaturesDF[i])\n"
     ]
    },
    {
     "data": {
      "image/png": "[encoded data removed]",
      "text/plain": [
       "<Figure size 432x288 with 1 Axes>"
      ]
     },
     "metadata": {
      "needs_background": "light"
     },
     "output_type": "display_data"
    },
    {
     "name": "stderr",
     "output_type": "stream",
     "text": [
      "<ipython-input-142-f488e22308de>:3: UserWarning: \n",
      "\n",
      "`distplot` is a deprecated function and will be removed in seaborn v0.14.0.\n",
      "\n",
      "Please adapt your code to use either `displot` (a figure-level function with\n",
      "similar flexibility) or `histplot` (an axes-level function for histograms).\n",
      "\n",
      "For a guide to updating your code to use the new functions, please see\n",
      "https://gist.github.com/mwaskom/de44147ed2974457ad6372750bbe5751\n",
      "\n",
      "  sns.distplot(rawfeaturesDF[i])\n"
     ]
    },
    {
     "data": {
      "image/png": "[encoded data removed]",
      "text/plain": [
       "<Figure size 432x288 with 1 Axes>"
      ]
     },
     "metadata": {
      "needs_background": "light"
     },
     "output_type": "display_data"
    },
    {
     "name": "stderr",
     "output_type": "stream",
     "text": [
      "<ipython-input-142-f488e22308de>:3: UserWarning: \n",
      "\n",
      "`distplot` is a deprecated function and will be removed in seaborn v0.14.0.\n",
      "\n",
      "Please adapt your code to use either `displot` (a figure-level function with\n",
      "similar flexibility) or `histplot` (an axes-level function for histograms).\n",
      "\n",
      "For a guide to updating your code to use the new functions, please see\n",
      "https://gist.github.com/mwaskom/de44147ed2974457ad6372750bbe5751\n",
      "\n",
      "  sns.distplot(rawfeaturesDF[i])\n"
     ]
    },
    {
     "data": {
      "image/png": "[encoded data removed]",
      "text/plain": [
       "<Figure size 432x288 with 1 Axes>"
      ]
     },
     "metadata": {
      "needs_background": "light"
     },
     "output_type": "display_data"
    },
    {
     "name": "stderr",
     "output_type": "stream",
     "text": [
      "<ipython-input-142-f488e22308de>:3: UserWarning: \n",
      "\n",
      "`distplot` is a deprecated function and will be removed in seaborn v0.14.0.\n",
      "\n",
      "Please adapt your code to use either `displot` (a figure-level function with\n",
      "similar flexibility) or `histplot` (an axes-level function for histograms).\n",
      "\n",
      "For a guide to updating your code to use the new functions, please see\n",
      "https://gist.github.com/mwaskom/de44147ed2974457ad6372750bbe5751\n",
      "\n",
      "  sns.distplot(rawfeaturesDF[i])\n"
     ]
    },
    {
     "data": {
      "image/png": "[encoded data removed]",
      "text/plain": [
       "<Figure size 432x288 with 1 Axes>"
      ]
     },
     "metadata": {
      "needs_background": "light"
     },
     "output_type": "display_data"
    },
    {
     "name": "stderr",
     "output_type": "stream",
     "text": [
      "<ipython-input-142-f488e22308de>:3: UserWarning: \n",
      "\n",
      "`distplot` is a deprecated function and will be removed in seaborn v0.14.0.\n",
      "\n",
      "Please adapt your code to use either `displot` (a figure-level function with\n",
      "similar flexibility) or `histplot` (an axes-level function for histograms).\n",
      "\n",
      "For a guide to updating your code to use the new functions, please see\n",
      "https://gist.github.com/mwaskom/de44147ed2974457ad6372750bbe5751\n",
      "\n",
      "  sns.distplot(rawfeaturesDF[i])\n"
     ]
    },
    {
     "data": {
      "image/png": "[encoded data removed]",
      "text/plain": [
       "<Figure size 432x288 with 1 Axes>"
      ]
     },
     "metadata": {
      "needs_background": "light"
     },
     "output_type": "display_data"
    },
    {
     "name": "stderr",
     "output_type": "stream",
     "text": [
      "<ipython-input-142-f488e22308de>:3: UserWarning: \n",
      "\n",
      "`distplot` is a deprecated function and will be removed in seaborn v0.14.0.\n",
      "\n",
      "Please adapt your code to use either `displot` (a figure-level function with\n",
      "similar flexibility) or `histplot` (an axes-level function for histograms).\n",
      "\n",
      "For a guide to updating your code to use the new functions, please see\n",
      "https://gist.github.com/mwaskom/de44147ed2974457ad6372750bbe5751\n",
      "\n",
      "  sns.distplot(rawfeaturesDF[i])\n"
     ]
    },
    {
     "data": {
      "image/png": "[encoded data removed]",
      "text/plain": [
       "<Figure size 432x288 with 1 Axes>"
      ]
     },
     "metadata": {
      "needs_background": "light"
     },
     "output_type": "display_data"
    },
    {
     "name": "stderr",
     "output_type": "stream",
     "text": [
      "<ipython-input-142-f488e22308de>:3: UserWarning: \n",
      "\n",
      "`distplot` is a deprecated function and will be removed in seaborn v0.14.0.\n",
      "\n",
      "Please adapt your code to use either `displot` (a figure-level function with\n",
      "similar flexibility) or `histplot` (an axes-level function for histograms).\n",
      "\n",
      "For a guide to updating your code to use the new functions, please see\n",
      "https://gist.github.com/mwaskom/de44147ed2974457ad6372750bbe5751\n",
      "\n",
      "  sns.distplot(rawfeaturesDF[i])\n"
     ]
    },
    {
     "data": {
      "image/png": "[encoded data removed]",
      "text/plain": [
       "<Figure size 432x288 with 1 Axes>"
      ]
     },
     "metadata": {
      "needs_background": "light"
     },
     "output_type": "display_data"
    },
    {
     "name": "stderr",
     "output_type": "stream",
     "text": [
      "<ipython-input-142-f488e22308de>:3: UserWarning: \n",
      "\n",
      "`distplot` is a deprecated function and will be removed in seaborn v0.14.0.\n",
      "\n",
      "Please adapt your code to use either `displot` (a figure-level function with\n",
      "similar flexibility) or `histplot` (an axes-level function for histograms).\n",
      "\n",
      "For a guide to updating your code to use the new functions, please see\n",
      "https://gist.github.com/mwaskom/de44147ed2974457ad6372750bbe5751\n",
      "\n",
      "  sns.distplot(rawfeaturesDF[i])\n"
     ]
    },
    {
     "data": {
      "image/png": "[encoded data removed]",
      "text/plain": [
       "<Figure size 432x288 with 1 Axes>"
      ]
     },
     "metadata": {
      "needs_background": "light"
     },
     "output_type": "display_data"
    },
    {
     "name": "stderr",
     "output_type": "stream",
     "text": [
      "<ipython-input-142-f488e22308de>:3: UserWarning: \n",
      "\n",
      "`distplot` is a deprecated function and will be removed in seaborn v0.14.0.\n",
      "\n",
      "Please adapt your code to use either `displot` (a figure-level function with\n",
      "similar flexibility) or `histplot` (an axes-level function for histograms).\n",
      "\n",
      "For a guide to updating your code to use the new functions, please see\n",
      "https://gist.github.com/mwaskom/de44147ed2974457ad6372750bbe5751\n",
      "\n",
      "  sns.distplot(rawfeaturesDF[i])\n"
     ]
    },
    {
     "data": {
      "image/png": "[encoded data removed]",
      "text/plain": [
       "<Figure size 432x288 with 1 Axes>"
      ]
     },
     "metadata": {
      "needs_background": "light"
     },
     "output_type": "display_data"
    },
    {
     "name": "stderr",
     "output_type": "stream",
     "text": [
      "<ipython-input-142-f488e22308de>:3: UserWarning: \n",
      "\n",
      "`distplot` is a deprecated function and will be removed in seaborn v0.14.0.\n",
      "\n",
      "Please adapt your code to use either `displot` (a figure-level function with\n",
      "similar flexibility) or `histplot` (an axes-level function for histograms).\n",
      "\n",
      "For a guide to updating your code to use the new functions, please see\n",
      "https://gist.github.com/mwaskom/de44147ed2974457ad6372750bbe5751\n",
      "\n",
      "  sns.distplot(rawfeaturesDF[i])\n"
     ]
    },
    {
     "data": {
      "image/png": "[encoded data removed]",
      "text/plain": [
       "<Figure size 432x288 with 1 Axes>"
      ]
     },
     "metadata": {
      "needs_background": "light"
     },
     "output_type": "display_data"
    }
   ],
   "source": [
    "#plot the distribution of the features\n",
    "for i in rawfeaturesDF.columns:\n",
    "    sns.distplot(rawfeaturesDF[i])\n",
    "    plt.show()"
   ]
  },
  {
   "cell_type": "code",
   "execution_count": 143,
   "metadata": {},
   "outputs": [
    {
     "name": "stderr",
     "output_type": "stream",
     "text": [
      "c:\\Users\\mlar5\\anaconda3\\envs\\TextMining\\lib\\site-packages\\pandas\\core\\arraylike.py:405: RuntimeWarning: invalid value encountered in log\n",
      "  result = getattr(ufunc, method)(*inputs, **kwargs)\n"
     ]
    }
   ],
   "source": [
    "# apply log transformation to the features\n",
    "logfeaturesDF = rawfeaturesDF.copy(deep=True)\n",
    "\n",
    "columns_to_log=['liveness', 'instrumentalness', 'acousticness', 'speechiness','loudness','energy']\n",
    "\n",
    "for i in columns_to_log:\n",
    "    logfeaturesDF[i] = np.log(logfeaturesDF[i] + 1)"
   ]
  }
 ],
 "metadata": {
  "kernelspec": {
   "display_name": "TextMining",
   "language": "python",
   "name": "python3"
  },
  "language_info": {
   "codemirror_mode": {
    "name": "ipython",
    "version": 3
   },
   "file_extension": ".py",
   "mimetype": "text/x-python",
   "name": "python",
   "nbconvert_exporter": "python",
   "pygments_lexer": "ipython3",
   "version": "3.9.13"
  },
  "orig_nbformat": 4
 },
 "nbformat": 4,
 "nbformat_minor": 2
}
