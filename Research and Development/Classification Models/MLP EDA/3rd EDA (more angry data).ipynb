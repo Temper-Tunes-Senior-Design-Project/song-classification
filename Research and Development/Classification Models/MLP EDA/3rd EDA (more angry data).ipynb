{
 "cells": [
  {
   "cell_type": "code",
   "execution_count": 1,
   "metadata": {},
   "outputs": [],
   "source": [
    "import pandas as pd\n",
    "import matplotlib.pyplot as plt\n",
    "import seaborn as sns\n",
    "from sklearn.model_selection import train_test_split\n",
    "from imblearn.over_sampling import RandomOverSampler\n",
    "from sklearn.neural_network import MLPClassifier\n",
    "from sklearn.metrics import classification_report\n",
    "from sklearn.preprocessing import MinMaxScaler\n",
    "from sklearn.preprocessing import StandardScaler\n",
    "from sklearn.svm import SVC\n",
    "from os import chdir\n",
    "import numpy as np\n",
    "import pickle"
   ]
  },
  {
   "cell_type": "code",
   "execution_count": 2,
   "metadata": {},
   "outputs": [],
   "source": [
    "def clipAndNormalize(features):\n",
    "    #clip the features to the range of the training data\n",
    "    features['danceability'] = features['danceability'].clip(lower=0.22718080000000002, upper=0.906)\n",
    "    features['energy'] = features['energy'].clip(lower=0.03545904, upper=0.978)\n",
    "    features['loudness'] = features['loudness'].clip(lower=-26.4981552, upper=-1.6015904000000007)\n",
    "    features['speechiness'] = features['speechiness'].clip(lower=0.0257, upper=0.46640959999999926)\n",
    "    features['acousticness'] = features['acousticness'].clip(lower=8.353136000000001e-05, upper=0.9884095999999992)\n",
    "    features['instrumentalness'] = features['instrumentalness'].clip(lower=0.0, upper=0.956)\n",
    "    features['liveness'] = features['liveness'].clip(lower=0.0494, upper=0.697)\n",
    "    features['valence'] = features['valence'].clip(lower=0.0382, upper=0.923)\n",
    "    features['tempo'] = features['tempo'].clip(lower=63.7631808, upper=188.00344319999996)\n",
    "    features['duration_ms'] = features['duration_ms'].clip(lower=88264.8768, upper=372339.1727999991)\n",
    "    features['time_signature'] = features['time_signature'].clip(lower=3.0, upper=5.0)\n",
    "    \n",
    "    #normalize the data\n",
    "    scaler = pickle.load(open('scaler2.pkl', 'rb'))\n",
    "\n",
    "    #if id is a column, drop it\n",
    "    if 'id' in features.columns:\n",
    "        #fit on all columns except the track id\n",
    "        rawfeatures = features.drop(['id'], axis=1)\n",
    "    else:\n",
    "        rawfeatures = features\n",
    "    preprocessedFeatures = scaler.transform(features)\n",
    "    preprocessedFeaturesDF = pd.DataFrame(preprocessedFeatures, columns=rawfeatures.columns)\n",
    "\n",
    "    '''#convert to dictionary, with track id as key\n",
    "    preprocessedFeatures = pd.DataFrame(preprocessedFeatures, columns=rawfeatures.columns)\n",
    "    preprocessedFeatures['id']= features['id']\n",
    "    preprocessedFeatures = preprocessedFeatures.set_index('id').T.to_dict('list')'''\n",
    "    return preprocessedFeaturesDF, preprocessedFeatures"
   ]
  },
  {
   "cell_type": "code",
   "execution_count": 9,
   "metadata": {},
   "outputs": [],
   "source": [
    "def makeCategorical(df):\n",
    "    mood_order=['sad','angry','energetic','excited','happy','content','calm','depressed']\n",
    "    mood_codes, mood_categories = pd.factorize(mood_order)\n",
    "    \n",
    "    # Create a categorical object with the desired order\n",
    "    cat = pd.Categorical(df['mood'], categories=mood_order, ordered=True)\n",
    "\n",
    "    # Get the integer codes of the categories\n",
    "    codes = cat.codes\n",
    "\n",
    "    # Add the codes as a new column to the dataframe\n",
    "    df['mood_code'] = codes\n",
    "    return df\n",
    "\n"
   ]
  },
  {
   "cell_type": "code",
   "execution_count": 3,
   "metadata": {},
   "outputs": [],
   "source": [
    "chdir('C:/Users/mlar5/OneDrive/Desktop/Code Folder/Python Projects/IRL projects/Aspire - Affective Computing Project/Playlists Data/Audio Features/emotion joint data')"
   ]
  },
  {
   "cell_type": "code",
   "execution_count": 4,
   "metadata": {},
   "outputs": [],
   "source": [
    "emotionsDF = pd.read_csv('Merged Emotions Data2.csv')"
   ]
  },
  {
   "cell_type": "code",
   "execution_count": 10,
   "metadata": {},
   "outputs": [],
   "source": [
    "emotionsDF = makeCategorical(emotionsDF)"
   ]
  },
  {
   "cell_type": "code",
   "execution_count": 12,
   "metadata": {},
   "outputs": [
    {
     "data": {
      "text/plain": [
       "7    3781\n",
       "6    1218\n",
       "0    1015\n",
       "5     771\n",
       "3     721\n",
       "2     631\n",
       "1     447\n",
       "4     405\n",
       "Name: mood_code, dtype: int64"
      ]
     },
     "execution_count": 12,
     "metadata": {},
     "output_type": "execute_result"
    }
   ],
   "source": [
    "emotionsDF['mood_code'].value_counts()"
   ]
  },
  {
   "cell_type": "code",
   "execution_count": 13,
   "metadata": {},
   "outputs": [
    {
     "data": {
      "text/plain": [
       "6    500\n",
       "5    500\n",
       "7    500\n",
       "2    500\n",
       "3    500\n",
       "0    500\n",
       "1    447\n",
       "4    405\n",
       "Name: mood_code, dtype: int64"
      ]
     },
     "execution_count": 13,
     "metadata": {},
     "output_type": "execute_result"
    }
   ],
   "source": [
    "# create a new df with only up to 500 songs per mood_code\n",
    "# this is to balance the data\n",
    "\n",
    "balancedDF = pd.DataFrame(columns=emotionsDF.columns)\n",
    "\n",
    "for i in emotionsDF['mood_code'].unique():\n",
    "    df = emotionsDF[emotionsDF['mood_code']==i]\n",
    "    #if the value count of the mood_code is larger than 500, sample 500\n",
    "    if df['mood_code'].value_counts()[i] > 500:\n",
    "        df = df.sample(n=500, random_state=42)\n",
    "    #if the value count of the mood_code is less than 500, sample the value count\n",
    "    else:\n",
    "        df = df.sample(n=df['mood_code'].value_counts()[i])\n",
    "    balancedDF = pd.concat([balancedDF, df])\n",
    "\n",
    "balancedDF['mood_code'].value_counts()"
   ]
  },
  {
   "cell_type": "code",
   "execution_count": 14,
   "metadata": {},
   "outputs": [
    {
     "data": {
      "text/html": [
       "<div>\n",
       "<style scoped>\n",
       "    .dataframe tbody tr th:only-of-type {\n",
       "        vertical-align: middle;\n",
       "    }\n",
       "\n",
       "    .dataframe tbody tr th {\n",
       "        vertical-align: top;\n",
       "    }\n",
       "\n",
       "    .dataframe thead th {\n",
       "        text-align: right;\n",
       "    }\n",
       "</style>\n",
       "<table border=\"1\" class=\"dataframe\">\n",
       "  <thead>\n",
       "    <tr style=\"text-align: right;\">\n",
       "      <th></th>\n",
       "      <th>danceability</th>\n",
       "      <th>energy</th>\n",
       "      <th>key</th>\n",
       "      <th>loudness</th>\n",
       "      <th>mode</th>\n",
       "      <th>speechiness</th>\n",
       "      <th>acousticness</th>\n",
       "      <th>instrumentalness</th>\n",
       "      <th>liveness</th>\n",
       "      <th>valence</th>\n",
       "      <th>tempo</th>\n",
       "      <th>uri</th>\n",
       "      <th>duration_ms</th>\n",
       "      <th>time_signature</th>\n",
       "      <th>song</th>\n",
       "      <th>mood</th>\n",
       "      <th>genre</th>\n",
       "      <th>mood_code</th>\n",
       "    </tr>\n",
       "  </thead>\n",
       "  <tbody>\n",
       "    <tr>\n",
       "      <th>124</th>\n",
       "      <td>0.613</td>\n",
       "      <td>0.764</td>\n",
       "      <td>2</td>\n",
       "      <td>-6.509</td>\n",
       "      <td>1</td>\n",
       "      <td>0.1360</td>\n",
       "      <td>0.05270</td>\n",
       "      <td>0.0000</td>\n",
       "      <td>0.1970</td>\n",
       "      <td>0.417</td>\n",
       "      <td>160.015</td>\n",
       "      <td>spotify:track:4CdVzZTnf7JElTDw0kyUiN</td>\n",
       "      <td>208187</td>\n",
       "      <td>4</td>\n",
       "      <td>...Ready For It?</td>\n",
       "      <td>angry</td>\n",
       "      <td>pop</td>\n",
       "      <td>1</td>\n",
       "    </tr>\n",
       "    <tr>\n",
       "      <th>302</th>\n",
       "      <td>0.436</td>\n",
       "      <td>0.952</td>\n",
       "      <td>5</td>\n",
       "      <td>-5.089</td>\n",
       "      <td>1</td>\n",
       "      <td>0.1220</td>\n",
       "      <td>0.01220</td>\n",
       "      <td>0.7230</td>\n",
       "      <td>0.1560</td>\n",
       "      <td>0.293</td>\n",
       "      <td>110.073</td>\n",
       "      <td>spotify:track:7aLFXFk0jTtBjwjosjC596</td>\n",
       "      <td>175636</td>\n",
       "      <td>4</td>\n",
       "      <td>GOD OF A DIFFERENT PLANE</td>\n",
       "      <td>angry</td>\n",
       "      <td>metal</td>\n",
       "      <td>1</td>\n",
       "    </tr>\n",
       "    <tr>\n",
       "      <th>295</th>\n",
       "      <td>0.663</td>\n",
       "      <td>0.660</td>\n",
       "      <td>2</td>\n",
       "      <td>-6.623</td>\n",
       "      <td>1</td>\n",
       "      <td>0.2900</td>\n",
       "      <td>0.09050</td>\n",
       "      <td>0.0000</td>\n",
       "      <td>0.3480</td>\n",
       "      <td>0.606</td>\n",
       "      <td>200.117</td>\n",
       "      <td>spotify:track:0s1MIn7UaPbAfq85CnKVl6</td>\n",
       "      <td>134452</td>\n",
       "      <td>3</td>\n",
       "      <td>LED</td>\n",
       "      <td>angry</td>\n",
       "      <td>metal</td>\n",
       "      <td>1</td>\n",
       "    </tr>\n",
       "    <tr>\n",
       "      <th>165</th>\n",
       "      <td>0.697</td>\n",
       "      <td>0.377</td>\n",
       "      <td>3</td>\n",
       "      <td>-7.755</td>\n",
       "      <td>1</td>\n",
       "      <td>0.0397</td>\n",
       "      <td>0.55600</td>\n",
       "      <td>0.0000</td>\n",
       "      <td>0.0999</td>\n",
       "      <td>0.336</td>\n",
       "      <td>138.754</td>\n",
       "      <td>spotify:track:0xCA70t1ZA4fa9UOE0lIJm</td>\n",
       "      <td>244573</td>\n",
       "      <td>4</td>\n",
       "      <td>I'm a Mess</td>\n",
       "      <td>angry</td>\n",
       "      <td>pop</td>\n",
       "      <td>1</td>\n",
       "    </tr>\n",
       "    <tr>\n",
       "      <th>272</th>\n",
       "      <td>0.792</td>\n",
       "      <td>0.829</td>\n",
       "      <td>2</td>\n",
       "      <td>-6.612</td>\n",
       "      <td>1</td>\n",
       "      <td>0.2560</td>\n",
       "      <td>0.00103</td>\n",
       "      <td>0.0755</td>\n",
       "      <td>0.5820</td>\n",
       "      <td>0.170</td>\n",
       "      <td>93.044</td>\n",
       "      <td>spotify:track:3pXVmZh293nWtqxildz9jf</td>\n",
       "      <td>92856</td>\n",
       "      <td>4</td>\n",
       "      <td>Miss YOU!</td>\n",
       "      <td>angry</td>\n",
       "      <td>metal</td>\n",
       "      <td>1</td>\n",
       "    </tr>\n",
       "  </tbody>\n",
       "</table>\n",
       "</div>"
      ],
      "text/plain": [
       "     danceability  energy key  loudness mode  speechiness  acousticness  \\\n",
       "124         0.613   0.764   2    -6.509    1       0.1360       0.05270   \n",
       "302         0.436   0.952   5    -5.089    1       0.1220       0.01220   \n",
       "295         0.663   0.660   2    -6.623    1       0.2900       0.09050   \n",
       "165         0.697   0.377   3    -7.755    1       0.0397       0.55600   \n",
       "272         0.792   0.829   2    -6.612    1       0.2560       0.00103   \n",
       "\n",
       "     instrumentalness  liveness  valence    tempo  \\\n",
       "124            0.0000    0.1970    0.417  160.015   \n",
       "302            0.7230    0.1560    0.293  110.073   \n",
       "295            0.0000    0.3480    0.606  200.117   \n",
       "165            0.0000    0.0999    0.336  138.754   \n",
       "272            0.0755    0.5820    0.170   93.044   \n",
       "\n",
       "                                      uri duration_ms time_signature  \\\n",
       "124  spotify:track:4CdVzZTnf7JElTDw0kyUiN      208187              4   \n",
       "302  spotify:track:7aLFXFk0jTtBjwjosjC596      175636              4   \n",
       "295  spotify:track:0s1MIn7UaPbAfq85CnKVl6      134452              3   \n",
       "165  spotify:track:0xCA70t1ZA4fa9UOE0lIJm      244573              4   \n",
       "272  spotify:track:3pXVmZh293nWtqxildz9jf       92856              4   \n",
       "\n",
       "                         song   mood  genre mood_code  \n",
       "124          ...Ready For It?  angry    pop         1  \n",
       "302  GOD OF A DIFFERENT PLANE  angry  metal         1  \n",
       "295                       LED  angry  metal         1  \n",
       "165                I'm a Mess  angry    pop         1  \n",
       "272                 Miss YOU!  angry  metal         1  "
      ]
     },
     "execution_count": 14,
     "metadata": {},
     "output_type": "execute_result"
    }
   ],
   "source": [
    "balancedDF.head()"
   ]
  },
  {
   "cell_type": "code",
   "execution_count": 15,
   "metadata": {},
   "outputs": [],
   "source": [
    "rawfeatures = balancedDF.drop(['uri', 'song','mood','genre','mood_code'], axis=1)"
   ]
  },
  {
   "cell_type": "code",
   "execution_count": 16,
   "metadata": {},
   "outputs": [],
   "source": [
    "rawfeaturesDF, rawfeatures = clipAndNormalize(rawfeatures)"
   ]
  },
  {
   "cell_type": "code",
   "execution_count": 17,
   "metadata": {},
   "outputs": [
    {
     "data": {
      "text/html": [
       "<div>\n",
       "<style scoped>\n",
       "    .dataframe tbody tr th:only-of-type {\n",
       "        vertical-align: middle;\n",
       "    }\n",
       "\n",
       "    .dataframe tbody tr th {\n",
       "        vertical-align: top;\n",
       "    }\n",
       "\n",
       "    .dataframe thead th {\n",
       "        text-align: right;\n",
       "    }\n",
       "</style>\n",
       "<table border=\"1\" class=\"dataframe\">\n",
       "  <thead>\n",
       "    <tr style=\"text-align: right;\">\n",
       "      <th></th>\n",
       "      <th>danceability</th>\n",
       "      <th>energy</th>\n",
       "      <th>key</th>\n",
       "      <th>loudness</th>\n",
       "      <th>mode</th>\n",
       "      <th>speechiness</th>\n",
       "      <th>acousticness</th>\n",
       "      <th>instrumentalness</th>\n",
       "      <th>liveness</th>\n",
       "      <th>valence</th>\n",
       "      <th>tempo</th>\n",
       "      <th>duration_ms</th>\n",
       "      <th>time_signature</th>\n",
       "    </tr>\n",
       "  </thead>\n",
       "  <tbody>\n",
       "    <tr>\n",
       "      <th>0</th>\n",
       "      <td>0.009197</td>\n",
       "      <td>0.847953</td>\n",
       "      <td>-0.906534</td>\n",
       "      <td>0.458508</td>\n",
       "      <td>0.805606</td>\n",
       "      <td>0.420868</td>\n",
       "      <td>-0.902587</td>\n",
       "      <td>-0.556962</td>\n",
       "      <td>0.231004</td>\n",
       "      <td>0.137022</td>\n",
       "      <td>1.303041</td>\n",
       "      <td>0.243837</td>\n",
       "      <td>0.187342</td>\n",
       "    </tr>\n",
       "    <tr>\n",
       "      <th>1</th>\n",
       "      <td>-1.187071</td>\n",
       "      <td>1.584089</td>\n",
       "      <td>-0.064537</td>\n",
       "      <td>0.723935</td>\n",
       "      <td>0.805606</td>\n",
       "      <td>0.276312</td>\n",
       "      <td>-1.019543</td>\n",
       "      <td>1.501983</td>\n",
       "      <td>-0.103001</td>\n",
       "      <td>-0.412162</td>\n",
       "      <td>-0.363622</td>\n",
       "      <td>-0.342497</td>\n",
       "      <td>0.187342</td>\n",
       "    </tr>\n",
       "    <tr>\n",
       "      <th>2</th>\n",
       "      <td>0.347125</td>\n",
       "      <td>0.440729</td>\n",
       "      <td>-0.906534</td>\n",
       "      <td>0.437199</td>\n",
       "      <td>0.805606</td>\n",
       "      <td>2.010982</td>\n",
       "      <td>-0.793428</td>\n",
       "      <td>-0.556962</td>\n",
       "      <td>1.461121</td>\n",
       "      <td>0.974084</td>\n",
       "      <td>2.237071</td>\n",
       "      <td>-1.084336</td>\n",
       "      <td>-3.298001</td>\n",
       "    </tr>\n",
       "    <tr>\n",
       "      <th>3</th>\n",
       "      <td>0.576917</td>\n",
       "      <td>-0.667390</td>\n",
       "      <td>-0.625868</td>\n",
       "      <td>0.225605</td>\n",
       "      <td>0.805606</td>\n",
       "      <td>-0.573470</td>\n",
       "      <td>0.550841</td>\n",
       "      <td>-0.556962</td>\n",
       "      <td>-0.560018</td>\n",
       "      <td>-0.221719</td>\n",
       "      <td>0.593519</td>\n",
       "      <td>0.899251</td>\n",
       "      <td>0.187342</td>\n",
       "    </tr>\n",
       "    <tr>\n",
       "      <th>4</th>\n",
       "      <td>1.218982</td>\n",
       "      <td>1.102468</td>\n",
       "      <td>-0.906534</td>\n",
       "      <td>0.439255</td>\n",
       "      <td>0.805606</td>\n",
       "      <td>1.659918</td>\n",
       "      <td>-1.051799</td>\n",
       "      <td>-0.341955</td>\n",
       "      <td>3.367395</td>\n",
       "      <td>-0.956916</td>\n",
       "      <td>-0.931914</td>\n",
       "      <td>-1.833596</td>\n",
       "      <td>0.187342</td>\n",
       "    </tr>\n",
       "  </tbody>\n",
       "</table>\n",
       "</div>"
      ],
      "text/plain": [
       "   danceability    energy       key  loudness      mode  speechiness  \\\n",
       "0      0.009197  0.847953 -0.906534  0.458508  0.805606     0.420868   \n",
       "1     -1.187071  1.584089 -0.064537  0.723935  0.805606     0.276312   \n",
       "2      0.347125  0.440729 -0.906534  0.437199  0.805606     2.010982   \n",
       "3      0.576917 -0.667390 -0.625868  0.225605  0.805606    -0.573470   \n",
       "4      1.218982  1.102468 -0.906534  0.439255  0.805606     1.659918   \n",
       "\n",
       "   acousticness  instrumentalness  liveness   valence     tempo  duration_ms  \\\n",
       "0     -0.902587         -0.556962  0.231004  0.137022  1.303041     0.243837   \n",
       "1     -1.019543          1.501983 -0.103001 -0.412162 -0.363622    -0.342497   \n",
       "2     -0.793428         -0.556962  1.461121  0.974084  2.237071    -1.084336   \n",
       "3      0.550841         -0.556962 -0.560018 -0.221719  0.593519     0.899251   \n",
       "4     -1.051799         -0.341955  3.367395 -0.956916 -0.931914    -1.833596   \n",
       "\n",
       "   time_signature  \n",
       "0        0.187342  \n",
       "1        0.187342  \n",
       "2       -3.298001  \n",
       "3        0.187342  \n",
       "4        0.187342  "
      ]
     },
     "execution_count": 17,
     "metadata": {},
     "output_type": "execute_result"
    }
   ],
   "source": [
    "rawfeaturesDF.head()"
   ]
  },
  {
   "cell_type": "code",
   "execution_count": 18,
   "metadata": {},
   "outputs": [],
   "source": [
    "y = balancedDF['mood_code']"
   ]
  },
  {
   "cell_type": "code",
   "execution_count": 19,
   "metadata": {},
   "outputs": [],
   "source": [
    "#set it to categorical\n",
    "y = y.astype('category')"
   ]
  },
  {
   "cell_type": "code",
   "execution_count": 20,
   "metadata": {},
   "outputs": [],
   "source": [
    "X_train_standard, X_test_standard, y_train_standard, y_test_standard = train_test_split(rawfeatures, y, test_size=0.2, random_state=42, stratify=y)\n"
   ]
  },
  {
   "cell_type": "code",
   "execution_count": 21,
   "metadata": {},
   "outputs": [],
   "source": [
    "\n",
    "# Initialize the MLP classifier\n",
    "mlp = MLPClassifier(hidden_layer_sizes=(256,128),random_state=42,early_stopping=True)"
   ]
  },
  {
   "cell_type": "code",
   "execution_count": 22,
   "metadata": {},
   "outputs": [
    {
     "name": "stdout",
     "output_type": "stream",
     "text": [
      "              precision    recall  f1-score   support\n",
      "\n",
      "           0       0.41      0.43      0.42       100\n",
      "           1       0.29      0.20      0.24        90\n",
      "           2       0.41      0.67      0.51       100\n",
      "           3       0.37      0.43      0.40       100\n",
      "           4       0.37      0.30      0.33        81\n",
      "           5       0.40      0.25      0.31       100\n",
      "           6       0.56      0.72      0.63       100\n",
      "           7       0.35      0.24      0.29       100\n",
      "\n",
      "    accuracy                           0.41       771\n",
      "   macro avg       0.40      0.40      0.39       771\n",
      "weighted avg       0.40      0.41      0.39       771\n",
      "\n"
     ]
    }
   ],
   "source": [
    "# Train the model on the resampled data\n",
    "mlp.fit(X_train_standard, y_train_standard)\n",
    "\n",
    "# Make predictions on the test set\n",
    "y_pred = mlp.predict(X_test_standard)\n",
    "\n",
    "# Evaluate the model performance of micro-averaged F1 score\n",
    "\n",
    "print(classification_report(y_test_standard, y_pred))\n"
   ]
  },
  {
   "cell_type": "code",
   "execution_count": 24,
   "metadata": {},
   "outputs": [],
   "source": [
    "def offByOne(y_test_standard, y_pred):\n",
    "    #compare y_test_standard with y_pred_list. If y_pred_list is +-1 from y_test_standard, then it change it to be the same as y_test_standard\n",
    "    y_test_standard_list=list(y_test_standard)\n",
    "    y_pred_list = list(y_pred)\n",
    "    for id in range(len(y_test_standard_list)):\n",
    "        if y_test_standard_list[id] != 0 and y_test_standard_list[id] != 7:\n",
    "            if y_pred_list[id] == y_test_standard_list[id] - 1 or y_pred_list[id] == y_test_standard_list[id] + 1:\n",
    "                y_pred_list[id] = y_test_standard_list[id]\n",
    "        elif y_test_standard_list[id] == 0:\n",
    "            if y_pred_list[id] ==  1 or y_pred_list[id] == 7:\n",
    "                y_pred_list[id] = y_test_standard_list[id]\n",
    "        elif y_test_standard_list[id] == 7:\n",
    "            if y_pred_list[id] ==  0 or y_pred_list[id] == 6:\n",
    "                y_pred_list[id] = y_test_standard_list[id]\n",
    "    print(classification_report(y_test_standard_list, y_pred_list))\n",
    "    return"
   ]
  },
  {
   "cell_type": "code",
   "execution_count": 25,
   "metadata": {},
   "outputs": [
    {
     "name": "stdout",
     "output_type": "stream",
     "text": [
      "              precision    recall  f1-score   support\n",
      "\n",
      "           0       0.58      0.58      0.58       100\n",
      "           1       0.69      0.72      0.71        90\n",
      "           2       0.64      0.86      0.73       100\n",
      "           3       0.57      0.71      0.63       100\n",
      "           4       0.67      0.48      0.56        81\n",
      "           5       0.65      0.48      0.55       100\n",
      "           6       0.82      0.85      0.83       100\n",
      "           7       0.67      0.55      0.60       100\n",
      "\n",
      "    accuracy                           0.66       771\n",
      "   macro avg       0.66      0.65      0.65       771\n",
      "weighted avg       0.66      0.66      0.65       771\n",
      "\n"
     ]
    }
   ],
   "source": [
    "offByOne(y_test_standard, y_pred)"
   ]
  },
  {
   "cell_type": "code",
   "execution_count": 26,
   "metadata": {},
   "outputs": [],
   "source": [
    "#svm = SVC(kernel='linear', class_weight='balanced', random_state=42)\n",
    "svm =SVC(kernel='poly', degree=3,class_weight='balanced', random_state=42)\n"
   ]
  },
  {
   "cell_type": "code",
   "execution_count": 27,
   "metadata": {},
   "outputs": [
    {
     "name": "stdout",
     "output_type": "stream",
     "text": [
      "              precision    recall  f1-score   support\n",
      "\n",
      "           0       0.35      0.50      0.41       100\n",
      "           1       0.33      0.17      0.22        90\n",
      "           2       0.47      0.60      0.53       100\n",
      "           3       0.38      0.37      0.38       100\n",
      "           4       0.33      0.40      0.36        81\n",
      "           5       0.26      0.32      0.29       100\n",
      "           6       0.61      0.54      0.57       100\n",
      "           7       0.35      0.17      0.23       100\n",
      "\n",
      "    accuracy                           0.39       771\n",
      "   macro avg       0.38      0.38      0.37       771\n",
      "weighted avg       0.39      0.39      0.37       771\n",
      "\n"
     ]
    }
   ],
   "source": [
    "# Train the model\n",
    "svm.fit(X_train_standard, y_train_standard)\n",
    "\n",
    "# Make predictions on the test set\n",
    "y_pred_SVM = svm.predict(X_test_standard)\n",
    "\n",
    "# Evaluate the model performance\n",
    "print(classification_report(y_test_standard, y_pred_SVM))"
   ]
  },
  {
   "cell_type": "code",
   "execution_count": 28,
   "metadata": {},
   "outputs": [
    {
     "name": "stdout",
     "output_type": "stream",
     "text": [
      "              precision    recall  f1-score   support\n",
      "\n",
      "           0       0.48      0.56      0.52       100\n",
      "           1       0.71      0.61      0.66        90\n",
      "           2       0.70      0.74      0.72       100\n",
      "           3       0.60      0.64      0.62       100\n",
      "           4       0.60      0.65      0.63        81\n",
      "           5       0.48      0.56      0.52       100\n",
      "           6       0.88      0.82      0.85       100\n",
      "           7       0.74      0.50      0.60       100\n",
      "\n",
      "    accuracy                           0.64       771\n",
      "   macro avg       0.65      0.64      0.64       771\n",
      "weighted avg       0.65      0.64      0.64       771\n",
      "\n"
     ]
    }
   ],
   "source": [
    "offByOne(y_test_standard, y_pred_SVM)"
   ]
  }
 ],
 "metadata": {
  "kernelspec": {
   "display_name": "TextMining",
   "language": "python",
   "name": "python3"
  },
  "language_info": {
   "codemirror_mode": {
    "name": "ipython",
    "version": 3
   },
   "file_extension": ".py",
   "mimetype": "text/x-python",
   "name": "python",
   "nbconvert_exporter": "python",
   "pygments_lexer": "ipython3",
   "version": "3.9.13"
  },
  "orig_nbformat": 4
 },
 "nbformat": 4,
 "nbformat_minor": 2
}
