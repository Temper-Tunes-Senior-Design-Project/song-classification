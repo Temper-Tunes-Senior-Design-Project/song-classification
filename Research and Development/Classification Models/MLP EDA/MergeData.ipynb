{
 "cells": [
  {
   "attachments": {},
   "cell_type": "markdown",
   "metadata": {},
   "source": [
    "# Raw Data Getting Merged and Cleaned In order to start Feature Selection"
   ]
  },
  {
   "cell_type": "code",
   "execution_count": 72,
   "metadata": {},
   "outputs": [],
   "source": [
    "import pandas as pd\n",
    "import os\n",
    "import glob"
   ]
  },
  {
   "attachments": {},
   "cell_type": "markdown",
   "metadata": {},
   "source": [
    "## Merge the data into one dataframe"
   ]
  },
  {
   "cell_type": "code",
   "execution_count": 73,
   "metadata": {},
   "outputs": [],
   "source": [
    "folder_path = 'C:/Users/mlar5/OneDrive/Desktop/Code Folder/Python Projects/IRL projects/Aspire - Affective Computing Project/Playlists Data/Audio Features/emotions'\n",
    "df_list = []\n",
    "for foldername in os.listdir(folder_path):\n",
    "    folder = os.path.join(folder_path, foldername)\n",
    "    for file in glob.glob(os.path.join(folder, '*.csv')):\n",
    "        csv_data = pd.read_csv(file)\n",
    "        df_list.append(csv_data)\n",
    "df = pd.concat(df_list)"
   ]
  },
  {
   "cell_type": "code",
   "execution_count": 74,
   "metadata": {},
   "outputs": [
    {
     "data": {
      "text/plain": [
       "(10655, 22)"
      ]
     },
     "execution_count": 74,
     "metadata": {},
     "output_type": "execute_result"
    }
   ],
   "source": [
    "df.shape"
   ]
  },
  {
   "cell_type": "code",
   "execution_count": 75,
   "metadata": {},
   "outputs": [],
   "source": [
    "#change the affect column to mood\n",
    "df.rename(columns={'affect':'mood'}, inplace=True)"
   ]
  },
  {
   "cell_type": "code",
   "execution_count": 76,
   "metadata": {},
   "outputs": [
    {
     "data": {
      "text/html": [
       "<div>\n",
       "<style scoped>\n",
       "    .dataframe tbody tr th:only-of-type {\n",
       "        vertical-align: middle;\n",
       "    }\n",
       "\n",
       "    .dataframe tbody tr th {\n",
       "        vertical-align: top;\n",
       "    }\n",
       "\n",
       "    .dataframe thead th {\n",
       "        text-align: right;\n",
       "    }\n",
       "</style>\n",
       "<table border=\"1\" class=\"dataframe\">\n",
       "  <thead>\n",
       "    <tr style=\"text-align: right;\">\n",
       "      <th></th>\n",
       "      <th>danceability</th>\n",
       "      <th>energy</th>\n",
       "      <th>key</th>\n",
       "      <th>loudness</th>\n",
       "      <th>mode</th>\n",
       "      <th>speechiness</th>\n",
       "      <th>acousticness</th>\n",
       "      <th>instrumentalness</th>\n",
       "      <th>liveness</th>\n",
       "      <th>valence</th>\n",
       "      <th>...</th>\n",
       "      <th>id</th>\n",
       "      <th>uri</th>\n",
       "      <th>track_href</th>\n",
       "      <th>analysis_url</th>\n",
       "      <th>duration_ms</th>\n",
       "      <th>time_signature</th>\n",
       "      <th>song</th>\n",
       "      <th>playlist</th>\n",
       "      <th>mood</th>\n",
       "      <th>genre</th>\n",
       "    </tr>\n",
       "  </thead>\n",
       "  <tbody>\n",
       "    <tr>\n",
       "      <th>0</th>\n",
       "      <td>0.548</td>\n",
       "      <td>0.833</td>\n",
       "      <td>7</td>\n",
       "      <td>-3.294</td>\n",
       "      <td>1</td>\n",
       "      <td>0.0497</td>\n",
       "      <td>0.199</td>\n",
       "      <td>0.0</td>\n",
       "      <td>0.305</td>\n",
       "      <td>0.467</td>\n",
       "      <td>...</td>\n",
       "      <td>6dDIOU6AqgLkrjFNPgvKY6</td>\n",
       "      <td>spotify:track:6dDIOU6AqgLkrjFNPgvKY6</td>\n",
       "      <td>https://api.spotify.com/v1/tracks/6dDIOU6AqgLk...</td>\n",
       "      <td>https://api.spotify.com/v1/audio-analysis/6dDI...</td>\n",
       "      <td>229693</td>\n",
       "      <td>3</td>\n",
       "      <td>FU (feat. French Montana)</td>\n",
       "      <td>angry break up songs to scream to.</td>\n",
       "      <td>angry</td>\n",
       "      <td>pop</td>\n",
       "    </tr>\n",
       "  </tbody>\n",
       "</table>\n",
       "<p>1 rows × 22 columns</p>\n",
       "</div>"
      ],
      "text/plain": [
       "   danceability  energy  key  loudness  mode  speechiness  acousticness  \\\n",
       "0         0.548   0.833    7    -3.294     1       0.0497         0.199   \n",
       "\n",
       "   instrumentalness  liveness  valence  ...                      id  \\\n",
       "0               0.0     0.305    0.467  ...  6dDIOU6AqgLkrjFNPgvKY6   \n",
       "\n",
       "                                    uri  \\\n",
       "0  spotify:track:6dDIOU6AqgLkrjFNPgvKY6   \n",
       "\n",
       "                                          track_href  \\\n",
       "0  https://api.spotify.com/v1/tracks/6dDIOU6AqgLk...   \n",
       "\n",
       "                                        analysis_url duration_ms  \\\n",
       "0  https://api.spotify.com/v1/audio-analysis/6dDI...      229693   \n",
       "\n",
       "  time_signature                       song  \\\n",
       "0              3  FU (feat. French Montana)   \n",
       "\n",
       "                              playlist   mood genre  \n",
       "0  angry break up songs to scream to.   angry   pop  \n",
       "\n",
       "[1 rows x 22 columns]"
      ]
     },
     "execution_count": 76,
     "metadata": {},
     "output_type": "execute_result"
    }
   ],
   "source": [
    "df.head(1)"
   ]
  },
  {
   "attachments": {},
   "cell_type": "markdown",
   "metadata": {},
   "source": [
    "## Check for duplicate uris in the data by mood"
   ]
  },
  {
   "cell_type": "code",
   "execution_count": 77,
   "metadata": {},
   "outputs": [
    {
     "name": "stdout",
     "output_type": "stream",
     "text": [
      "angry\n",
      "13\n",
      "calm\n",
      "19\n",
      "content\n",
      "6\n",
      "depressed\n",
      "392\n",
      "energetic\n",
      "1\n",
      "excited\n",
      "57\n",
      "happy\n",
      "81\n",
      "sad\n",
      "40\n"
     ]
    }
   ],
   "source": [
    "#for each mood, check for duplicate uri's\n",
    "for mood in df.mood.unique():\n",
    "    print(mood)\n",
    "    print(df[df.mood==mood].uri.duplicated().sum())"
   ]
  },
  {
   "cell_type": "code",
   "execution_count": 78,
   "metadata": {},
   "outputs": [
    {
     "data": {
      "text/plain": [
       "depressed    4185\n",
       "sad          1319\n",
       "calm         1304\n",
       "content       955\n",
       "excited       855\n",
       "energetic     646\n",
       "happy         481\n",
       "angry         301\n",
       "Name: mood, dtype: int64"
      ]
     },
     "execution_count": 78,
     "metadata": {},
     "output_type": "execute_result"
    }
   ],
   "source": [
    "#drop the duplicates that have the same uri and mood\n",
    "df.drop_duplicates(subset=['uri','mood'], inplace=True)\n",
    "# determine the size value count for each mood\n",
    "df.mood.value_counts()"
   ]
  },
  {
   "attachments": {},
   "cell_type": "markdown",
   "metadata": {},
   "source": [
    "## Apply Label Encoding to the affect label"
   ]
  },
  {
   "cell_type": "code",
   "execution_count": 79,
   "metadata": {},
   "outputs": [],
   "source": [
    "df['mood'] = df['mood'].astype('category')"
   ]
  },
  {
   "attachments": {},
   "cell_type": "markdown",
   "metadata": {},
   "source": [
    "## Check for intersection of Uri's in multiple moods"
   ]
  },
  {
   "cell_type": "code",
   "execution_count": 80,
   "metadata": {},
   "outputs": [
    {
     "data": {
      "text/plain": [
       "638"
      ]
     },
     "execution_count": 80,
     "metadata": {},
     "output_type": "execute_result"
    }
   ],
   "source": [
    "df.uri.duplicated().sum()"
   ]
  },
  {
   "cell_type": "code",
   "execution_count": 81,
   "metadata": {},
   "outputs": [
    {
     "data": {
      "text/plain": [
       "5104"
      ]
     },
     "execution_count": 81,
     "metadata": {},
     "output_type": "execute_result"
    }
   ],
   "source": [
    "638*8"
   ]
  },
  {
   "cell_type": "code",
   "execution_count": 82,
   "metadata": {},
   "outputs": [
    {
     "name": "stdout",
     "output_type": "stream",
     "text": [
      "(1209, 22)\n"
     ]
    }
   ],
   "source": [
    "#From the uri duplicates, determine which ones are the same song but different moods\n",
    "uriDup=df[df.uri.duplicated(keep=False)].sort_values(by='uri')\n",
    "print(uriDup.shape)\n",
    "#determine all the songs that are in multiple moods, and return a list of all the mood combinations, and the number of times they occur\n",
    "uriFreqs =uriDup.uri.value_counts()"
   ]
  },
  {
   "cell_type": "code",
   "execution_count": 83,
   "metadata": {},
   "outputs": [
    {
     "data": {
      "text/plain": [
       "(187, 22)"
      ]
     },
     "execution_count": 83,
     "metadata": {},
     "output_type": "execute_result"
    }
   ],
   "source": [
    "#make a dataframe of the rows containing the uri's that are present in 3 or more rows of uriDup\n",
    "uriManyDup = uriDup[uriDup.uri.isin(uriFreqs[uriFreqs>2].index.get_level_values(0))]\n",
    "uriManyDup.shape"
   ]
  },
  {
   "cell_type": "code",
   "execution_count": 84,
   "metadata": {},
   "outputs": [],
   "source": [
    "#remove the rows in uriDup2 from uriDup\n",
    "uriDup = uriDup[~uriDup.uri.isin(uriManyDup.uri)]"
   ]
  },
  {
   "cell_type": "code",
   "execution_count": 85,
   "metadata": {},
   "outputs": [
    {
     "data": {
      "text/plain": [
       "(1022, 22)"
      ]
     },
     "execution_count": 85,
     "metadata": {},
     "output_type": "execute_result"
    }
   ],
   "source": [
    "uriDup.shape"
   ]
  },
  {
   "attachments": {},
   "cell_type": "markdown",
   "metadata": {},
   "source": [
    "## Remove Intersection songs from the data"
   ]
  },
  {
   "cell_type": "code",
   "execution_count": 86,
   "metadata": {},
   "outputs": [
    {
     "name": "stdout",
     "output_type": "stream",
     "text": [
      "(10046, 22)\n"
     ]
    },
    {
     "data": {
      "text/plain": [
       "(8837, 22)"
      ]
     },
     "execution_count": 86,
     "metadata": {},
     "output_type": "execute_result"
    }
   ],
   "source": [
    "print(df.shape)\n",
    "#remove the rows in uriDup from df\n",
    "df = df[~df.uri.isin(uriDup.uri)]\n",
    "#remove the rows in uriDup2 from df\n",
    "df = df[~df.uri.isin(uriManyDup.uri)]\n",
    "df.shape"
   ]
  },
  {
   "attachments": {},
   "cell_type": "markdown",
   "metadata": {},
   "source": [
    "## Analyze the overlapping data (did not include in the final dataset yet)"
   ]
  },
  {
   "attachments": {},
   "cell_type": "markdown",
   "metadata": {},
   "source": [
    "### Duplicates that only occur in two moods"
   ]
  },
  {
   "cell_type": "code",
   "execution_count": 17,
   "metadata": {},
   "outputs": [
    {
     "data": {
      "text/html": [
       "<div>\n",
       "<style scoped>\n",
       "    .dataframe tbody tr th:only-of-type {\n",
       "        vertical-align: middle;\n",
       "    }\n",
       "\n",
       "    .dataframe tbody tr th {\n",
       "        vertical-align: top;\n",
       "    }\n",
       "\n",
       "    .dataframe thead th {\n",
       "        text-align: right;\n",
       "    }\n",
       "</style>\n",
       "<table border=\"1\" class=\"dataframe\">\n",
       "  <thead>\n",
       "    <tr style=\"text-align: right;\">\n",
       "      <th></th>\n",
       "      <th>danceability</th>\n",
       "      <th>energy</th>\n",
       "      <th>key</th>\n",
       "      <th>loudness</th>\n",
       "      <th>mode</th>\n",
       "      <th>speechiness</th>\n",
       "      <th>acousticness</th>\n",
       "      <th>instrumentalness</th>\n",
       "      <th>liveness</th>\n",
       "      <th>valence</th>\n",
       "      <th>...</th>\n",
       "      <th>id</th>\n",
       "      <th>uri</th>\n",
       "      <th>track_href</th>\n",
       "      <th>analysis_url</th>\n",
       "      <th>duration_ms</th>\n",
       "      <th>time_signature</th>\n",
       "      <th>song</th>\n",
       "      <th>playlist</th>\n",
       "      <th>mood</th>\n",
       "      <th>genre</th>\n",
       "    </tr>\n",
       "  </thead>\n",
       "  <tbody>\n",
       "    <tr>\n",
       "      <th>36</th>\n",
       "      <td>0.686</td>\n",
       "      <td>0.574</td>\n",
       "      <td>8</td>\n",
       "      <td>-8.868</td>\n",
       "      <td>1</td>\n",
       "      <td>0.0272</td>\n",
       "      <td>0.0706</td>\n",
       "      <td>0.0647</td>\n",
       "      <td>0.0894</td>\n",
       "      <td>0.545</td>\n",
       "      <td>...</td>\n",
       "      <td>01FnTmSe5zIE0LmqPISajN</td>\n",
       "      <td>spotify:track:01FnTmSe5zIE0LmqPISajN</td>\n",
       "      <td>https://api.spotify.com/v1/tracks/01FnTmSe5zIE...</td>\n",
       "      <td>https://api.spotify.com/v1/audio-analysis/01Fn...</td>\n",
       "      <td>232195</td>\n",
       "      <td>4</td>\n",
       "      <td>Imaginary Friend</td>\n",
       "      <td>Happy Vibes 2023 ☀️</td>\n",
       "      <td>happy</td>\n",
       "      <td>NaN</td>\n",
       "    </tr>\n",
       "    <tr>\n",
       "      <th>127</th>\n",
       "      <td>0.686</td>\n",
       "      <td>0.574</td>\n",
       "      <td>8</td>\n",
       "      <td>-8.868</td>\n",
       "      <td>1</td>\n",
       "      <td>0.0272</td>\n",
       "      <td>0.0706</td>\n",
       "      <td>0.0647</td>\n",
       "      <td>0.0894</td>\n",
       "      <td>0.545</td>\n",
       "      <td>...</td>\n",
       "      <td>01FnTmSe5zIE0LmqPISajN</td>\n",
       "      <td>spotify:track:01FnTmSe5zIE0LmqPISajN</td>\n",
       "      <td>https://api.spotify.com/v1/tracks/01FnTmSe5zIE...</td>\n",
       "      <td>https://api.spotify.com/v1/audio-analysis/01Fn...</td>\n",
       "      <td>232195</td>\n",
       "      <td>4</td>\n",
       "      <td>Imaginary Friend</td>\n",
       "      <td>Chill  Vibes 2023 🌙</td>\n",
       "      <td>content</td>\n",
       "      <td>pop</td>\n",
       "    </tr>\n",
       "    <tr>\n",
       "      <th>78</th>\n",
       "      <td>0.414</td>\n",
       "      <td>0.416</td>\n",
       "      <td>11</td>\n",
       "      <td>-8.024</td>\n",
       "      <td>0</td>\n",
       "      <td>0.0251</td>\n",
       "      <td>0.1000</td>\n",
       "      <td>0.1790</td>\n",
       "      <td>0.1310</td>\n",
       "      <td>0.196</td>\n",
       "      <td>...</td>\n",
       "      <td>01TnVDiet1DFTsyWKUKovl</td>\n",
       "      <td>spotify:track:01TnVDiet1DFTsyWKUKovl</td>\n",
       "      <td>https://api.spotify.com/v1/tracks/01TnVDiet1DF...</td>\n",
       "      <td>https://api.spotify.com/v1/audio-analysis/01Tn...</td>\n",
       "      <td>186268</td>\n",
       "      <td>4</td>\n",
       "      <td>NUMB</td>\n",
       "      <td>sad rap vibes 2023</td>\n",
       "      <td>sad</td>\n",
       "      <td>rap</td>\n",
       "    </tr>\n",
       "    <tr>\n",
       "      <th>168</th>\n",
       "      <td>0.414</td>\n",
       "      <td>0.416</td>\n",
       "      <td>11</td>\n",
       "      <td>-8.024</td>\n",
       "      <td>0</td>\n",
       "      <td>0.0251</td>\n",
       "      <td>0.1000</td>\n",
       "      <td>0.1790</td>\n",
       "      <td>0.1310</td>\n",
       "      <td>0.196</td>\n",
       "      <td>...</td>\n",
       "      <td>01TnVDiet1DFTsyWKUKovl</td>\n",
       "      <td>spotify:track:01TnVDiet1DFTsyWKUKovl</td>\n",
       "      <td>https://api.spotify.com/v1/tracks/01TnVDiet1DF...</td>\n",
       "      <td>https://api.spotify.com/v1/audio-analysis/01Tn...</td>\n",
       "      <td>186268</td>\n",
       "      <td>4</td>\n",
       "      <td>NUMB</td>\n",
       "      <td>depressed as fuck</td>\n",
       "      <td>depressed</td>\n",
       "      <td>rap</td>\n",
       "    </tr>\n",
       "    <tr>\n",
       "      <th>73</th>\n",
       "      <td>0.716</td>\n",
       "      <td>0.748</td>\n",
       "      <td>8</td>\n",
       "      <td>-6.060</td>\n",
       "      <td>1</td>\n",
       "      <td>0.0356</td>\n",
       "      <td>0.2350</td>\n",
       "      <td>0.8490</td>\n",
       "      <td>0.1140</td>\n",
       "      <td>0.338</td>\n",
       "      <td>...</td>\n",
       "      <td>01kfSdF9zfcDLri5sSWEoL</td>\n",
       "      <td>spotify:track:01kfSdF9zfcDLri5sSWEoL</td>\n",
       "      <td>https://api.spotify.com/v1/tracks/01kfSdF9zfcD...</td>\n",
       "      <td>https://api.spotify.com/v1/audio-analysis/01kf...</td>\n",
       "      <td>169245</td>\n",
       "      <td>4</td>\n",
       "      <td>RAVE</td>\n",
       "      <td>AGRESSIVE PHONK</td>\n",
       "      <td>energetic</td>\n",
       "      <td>EDM</td>\n",
       "    </tr>\n",
       "  </tbody>\n",
       "</table>\n",
       "<p>5 rows × 22 columns</p>\n",
       "</div>"
      ],
      "text/plain": [
       "     danceability  energy  key  loudness  mode  speechiness  acousticness  \\\n",
       "36          0.686   0.574    8    -8.868     1       0.0272        0.0706   \n",
       "127         0.686   0.574    8    -8.868     1       0.0272        0.0706   \n",
       "78          0.414   0.416   11    -8.024     0       0.0251        0.1000   \n",
       "168         0.414   0.416   11    -8.024     0       0.0251        0.1000   \n",
       "73          0.716   0.748    8    -6.060     1       0.0356        0.2350   \n",
       "\n",
       "     instrumentalness  liveness  valence  ...                      id  \\\n",
       "36             0.0647    0.0894    0.545  ...  01FnTmSe5zIE0LmqPISajN   \n",
       "127            0.0647    0.0894    0.545  ...  01FnTmSe5zIE0LmqPISajN   \n",
       "78             0.1790    0.1310    0.196  ...  01TnVDiet1DFTsyWKUKovl   \n",
       "168            0.1790    0.1310    0.196  ...  01TnVDiet1DFTsyWKUKovl   \n",
       "73             0.8490    0.1140    0.338  ...  01kfSdF9zfcDLri5sSWEoL   \n",
       "\n",
       "                                      uri  \\\n",
       "36   spotify:track:01FnTmSe5zIE0LmqPISajN   \n",
       "127  spotify:track:01FnTmSe5zIE0LmqPISajN   \n",
       "78   spotify:track:01TnVDiet1DFTsyWKUKovl   \n",
       "168  spotify:track:01TnVDiet1DFTsyWKUKovl   \n",
       "73   spotify:track:01kfSdF9zfcDLri5sSWEoL   \n",
       "\n",
       "                                            track_href  \\\n",
       "36   https://api.spotify.com/v1/tracks/01FnTmSe5zIE...   \n",
       "127  https://api.spotify.com/v1/tracks/01FnTmSe5zIE...   \n",
       "78   https://api.spotify.com/v1/tracks/01TnVDiet1DF...   \n",
       "168  https://api.spotify.com/v1/tracks/01TnVDiet1DF...   \n",
       "73   https://api.spotify.com/v1/tracks/01kfSdF9zfcD...   \n",
       "\n",
       "                                          analysis_url duration_ms  \\\n",
       "36   https://api.spotify.com/v1/audio-analysis/01Fn...      232195   \n",
       "127  https://api.spotify.com/v1/audio-analysis/01Fn...      232195   \n",
       "78   https://api.spotify.com/v1/audio-analysis/01Tn...      186268   \n",
       "168  https://api.spotify.com/v1/audio-analysis/01Tn...      186268   \n",
       "73   https://api.spotify.com/v1/audio-analysis/01kf...      169245   \n",
       "\n",
       "    time_signature              song             playlist       mood genre  \n",
       "36               4  Imaginary Friend  Happy Vibes 2023 ☀️      happy   NaN  \n",
       "127              4  Imaginary Friend  Chill  Vibes 2023 🌙    content   pop  \n",
       "78               4              NUMB   sad rap vibes 2023        sad   rap  \n",
       "168              4              NUMB    depressed as fuck  depressed   rap  \n",
       "73               4              RAVE      AGRESSIVE PHONK  energetic   EDM  \n",
       "\n",
       "[5 rows x 22 columns]"
      ]
     },
     "execution_count": 17,
     "metadata": {},
     "output_type": "execute_result"
    }
   ],
   "source": [
    "uriDup.head()"
   ]
  },
  {
   "cell_type": "code",
   "execution_count": 42,
   "metadata": {},
   "outputs": [
    {
     "name": "stderr",
     "output_type": "stream",
     "text": [
      "<ipython-input-42-6d5ac8c4bcdb>:6: SettingWithCopyWarning: \n",
      "A value is trying to be set on a copy of a slice from a DataFrame.\n",
      "Try using .loc[row_indexer,col_indexer] = value instead\n",
      "\n",
      "See the caveats in the documentation: https://pandas.pydata.org/pandas-docs/stable/user_guide/indexing.html#returning-a-view-versus-a-copy\n",
      "  uriDupMood['mood'] = uriDupMood['mood'].map(affect)\n"
     ]
    },
    {
     "data": {
      "text/html": [
       "<div>\n",
       "<style scoped>\n",
       "    .dataframe tbody tr th:only-of-type {\n",
       "        vertical-align: middle;\n",
       "    }\n",
       "\n",
       "    .dataframe tbody tr th {\n",
       "        vertical-align: top;\n",
       "    }\n",
       "\n",
       "    .dataframe thead th {\n",
       "        text-align: right;\n",
       "    }\n",
       "</style>\n",
       "<table border=\"1\" class=\"dataframe\">\n",
       "  <thead>\n",
       "    <tr style=\"text-align: right;\">\n",
       "      <th></th>\n",
       "      <th>uri</th>\n",
       "      <th>mood</th>\n",
       "    </tr>\n",
       "  </thead>\n",
       "  <tbody>\n",
       "    <tr>\n",
       "      <th>36</th>\n",
       "      <td>spotify:track:01FnTmSe5zIE0LmqPISajN</td>\n",
       "      <td>4</td>\n",
       "    </tr>\n",
       "    <tr>\n",
       "      <th>127</th>\n",
       "      <td>spotify:track:01FnTmSe5zIE0LmqPISajN</td>\n",
       "      <td>5</td>\n",
       "    </tr>\n",
       "    <tr>\n",
       "      <th>78</th>\n",
       "      <td>spotify:track:01TnVDiet1DFTsyWKUKovl</td>\n",
       "      <td>0</td>\n",
       "    </tr>\n",
       "    <tr>\n",
       "      <th>168</th>\n",
       "      <td>spotify:track:01TnVDiet1DFTsyWKUKovl</td>\n",
       "      <td>7</td>\n",
       "    </tr>\n",
       "    <tr>\n",
       "      <th>73</th>\n",
       "      <td>spotify:track:01kfSdF9zfcDLri5sSWEoL</td>\n",
       "      <td>2</td>\n",
       "    </tr>\n",
       "  </tbody>\n",
       "</table>\n",
       "</div>"
      ],
      "text/plain": [
       "                                      uri mood\n",
       "36   spotify:track:01FnTmSe5zIE0LmqPISajN    4\n",
       "127  spotify:track:01FnTmSe5zIE0LmqPISajN    5\n",
       "78   spotify:track:01TnVDiet1DFTsyWKUKovl    0\n",
       "168  spotify:track:01TnVDiet1DFTsyWKUKovl    7\n",
       "73   spotify:track:01kfSdF9zfcDLri5sSWEoL    2"
      ]
     },
     "execution_count": 42,
     "metadata": {},
     "output_type": "execute_result"
    }
   ],
   "source": [
    "#make a datafram of only the uri and mood columns of uriDup\n",
    "uriDupMood = uriDup[['uri','mood']]\n",
    "\n",
    "#map the mood values to numbers\n",
    "affect = {'sad':0,'angry':1,'energetic':2,'excited':3,'happy':4,'content':5,'calm':6,'depressed':7}\n",
    "uriDupMood['mood'] = uriDupMood['mood'].map(affect)\n",
    "uriDupMood.head()\n",
    "\n"
   ]
  },
  {
   "cell_type": "code",
   "execution_count": 47,
   "metadata": {},
   "outputs": [],
   "source": [
    "moodsToCompare= list(uriDup.mood.cat.codes)"
   ]
  },
  {
   "cell_type": "code",
   "execution_count": 70,
   "metadata": {},
   "outputs": [
    {
     "data": {
      "text/plain": [
       "0.19765166340508805"
      ]
     },
     "execution_count": 70,
     "metadata": {},
     "output_type": "execute_result"
    }
   ],
   "source": [
    "# for each pair of numbers in the list, check if the first number is a diference of -1 or 1 from the second number or if the two numbers are 7 and 0 or 0 and 7\n",
    "# if the condition is not met, print the index of the pair of numbers\n",
    "count =0\n",
    "for i in range(0,len(moodsToCompare)-1,2):\n",
    "    if (moodsToCompare[i] - moodsToCompare[i+1] == -1) or (moodsToCompare[i] - moodsToCompare[i+1] == 1)  or (moodsToCompare[i] == 7 and moodsToCompare[i+1] == 0) or (moodsToCompare[i] == 0 and moodsToCompare[i+1] == 7):\n",
    "        continue\n",
    "    else:\n",
    "        count+=1\n",
    "count/len(moodsToCompare)"
   ]
  },
  {
   "attachments": {},
   "cell_type": "markdown",
   "metadata": {},
   "source": [
    "### Duplicates that occur in three or more moods"
   ]
  },
  {
   "attachments": {},
   "cell_type": "markdown",
   "metadata": {},
   "source": [
    "## Export the data to a csv file"
   ]
  },
  {
   "attachments": {},
   "cell_type": "markdown",
   "metadata": {},
   "source": [
    "### Removing unnecessary columns before feature selection"
   ]
  },
  {
   "cell_type": "code",
   "execution_count": 87,
   "metadata": {},
   "outputs": [
    {
     "data": {
      "text/html": [
       "<div>\n",
       "<style scoped>\n",
       "    .dataframe tbody tr th:only-of-type {\n",
       "        vertical-align: middle;\n",
       "    }\n",
       "\n",
       "    .dataframe tbody tr th {\n",
       "        vertical-align: top;\n",
       "    }\n",
       "\n",
       "    .dataframe thead th {\n",
       "        text-align: right;\n",
       "    }\n",
       "</style>\n",
       "<table border=\"1\" class=\"dataframe\">\n",
       "  <thead>\n",
       "    <tr style=\"text-align: right;\">\n",
       "      <th></th>\n",
       "      <th>danceability</th>\n",
       "      <th>energy</th>\n",
       "      <th>key</th>\n",
       "      <th>loudness</th>\n",
       "      <th>mode</th>\n",
       "      <th>speechiness</th>\n",
       "      <th>acousticness</th>\n",
       "      <th>instrumentalness</th>\n",
       "      <th>liveness</th>\n",
       "      <th>valence</th>\n",
       "      <th>...</th>\n",
       "      <th>id</th>\n",
       "      <th>uri</th>\n",
       "      <th>track_href</th>\n",
       "      <th>analysis_url</th>\n",
       "      <th>duration_ms</th>\n",
       "      <th>time_signature</th>\n",
       "      <th>song</th>\n",
       "      <th>playlist</th>\n",
       "      <th>mood</th>\n",
       "      <th>genre</th>\n",
       "    </tr>\n",
       "  </thead>\n",
       "  <tbody>\n",
       "    <tr>\n",
       "      <th>0</th>\n",
       "      <td>0.548</td>\n",
       "      <td>0.833</td>\n",
       "      <td>7</td>\n",
       "      <td>-3.294</td>\n",
       "      <td>1</td>\n",
       "      <td>0.0497</td>\n",
       "      <td>0.199000</td>\n",
       "      <td>0.0</td>\n",
       "      <td>0.305</td>\n",
       "      <td>0.467</td>\n",
       "      <td>...</td>\n",
       "      <td>6dDIOU6AqgLkrjFNPgvKY6</td>\n",
       "      <td>spotify:track:6dDIOU6AqgLkrjFNPgvKY6</td>\n",
       "      <td>https://api.spotify.com/v1/tracks/6dDIOU6AqgLk...</td>\n",
       "      <td>https://api.spotify.com/v1/audio-analysis/6dDI...</td>\n",
       "      <td>229693</td>\n",
       "      <td>3</td>\n",
       "      <td>FU (feat. French Montana)</td>\n",
       "      <td>angry break up songs to scream to.</td>\n",
       "      <td>angry</td>\n",
       "      <td>pop</td>\n",
       "    </tr>\n",
       "    <tr>\n",
       "      <th>1</th>\n",
       "      <td>0.556</td>\n",
       "      <td>0.661</td>\n",
       "      <td>6</td>\n",
       "      <td>-5.052</td>\n",
       "      <td>0</td>\n",
       "      <td>0.2040</td>\n",
       "      <td>0.300000</td>\n",
       "      <td>0.0</td>\n",
       "      <td>0.101</td>\n",
       "      <td>0.668</td>\n",
       "      <td>...</td>\n",
       "      <td>6PERP62TejQjgHu81OHxgM</td>\n",
       "      <td>spotify:track:6PERP62TejQjgHu81OHxgM</td>\n",
       "      <td>https://api.spotify.com/v1/tracks/6PERP62TejQj...</td>\n",
       "      <td>https://api.spotify.com/v1/audio-analysis/6PER...</td>\n",
       "      <td>178148</td>\n",
       "      <td>4</td>\n",
       "      <td>good 4 u</td>\n",
       "      <td>angry break up songs to scream to.</td>\n",
       "      <td>angry</td>\n",
       "      <td>pop</td>\n",
       "    </tr>\n",
       "    <tr>\n",
       "      <th>2</th>\n",
       "      <td>0.816</td>\n",
       "      <td>0.677</td>\n",
       "      <td>11</td>\n",
       "      <td>-4.057</td>\n",
       "      <td>0</td>\n",
       "      <td>0.1970</td>\n",
       "      <td>0.358000</td>\n",
       "      <td>0.0</td>\n",
       "      <td>0.165</td>\n",
       "      <td>0.571</td>\n",
       "      <td>...</td>\n",
       "      <td>7A9rdAz2M6AjRwOa34jxIP</td>\n",
       "      <td>spotify:track:7A9rdAz2M6AjRwOa34jxIP</td>\n",
       "      <td>https://api.spotify.com/v1/tracks/7A9rdAz2M6Aj...</td>\n",
       "      <td>https://api.spotify.com/v1/audio-analysis/7A9r...</td>\n",
       "      <td>172747</td>\n",
       "      <td>4</td>\n",
       "      <td>Ur So F**kInG cOoL</td>\n",
       "      <td>angry break up songs to scream to.</td>\n",
       "      <td>angry</td>\n",
       "      <td>pop</td>\n",
       "    </tr>\n",
       "    <tr>\n",
       "      <th>3</th>\n",
       "      <td>0.528</td>\n",
       "      <td>0.831</td>\n",
       "      <td>8</td>\n",
       "      <td>-3.607</td>\n",
       "      <td>1</td>\n",
       "      <td>0.0429</td>\n",
       "      <td>0.000094</td>\n",
       "      <td>0.0</td>\n",
       "      <td>0.141</td>\n",
       "      <td>0.632</td>\n",
       "      <td>...</td>\n",
       "      <td>1JdKrFyoU05abww0Zv0ayQ</td>\n",
       "      <td>spotify:track:1JdKrFyoU05abww0Zv0ayQ</td>\n",
       "      <td>https://api.spotify.com/v1/tracks/1JdKrFyoU05a...</td>\n",
       "      <td>https://api.spotify.com/v1/audio-analysis/1JdK...</td>\n",
       "      <td>220480</td>\n",
       "      <td>3</td>\n",
       "      <td>That's What You Get</td>\n",
       "      <td>angry break up songs to scream to.</td>\n",
       "      <td>angry</td>\n",
       "      <td>pop</td>\n",
       "    </tr>\n",
       "    <tr>\n",
       "      <th>4</th>\n",
       "      <td>0.706</td>\n",
       "      <td>0.544</td>\n",
       "      <td>2</td>\n",
       "      <td>-7.275</td>\n",
       "      <td>1</td>\n",
       "      <td>0.0306</td>\n",
       "      <td>0.027300</td>\n",
       "      <td>0.0</td>\n",
       "      <td>0.087</td>\n",
       "      <td>0.477</td>\n",
       "      <td>...</td>\n",
       "      <td>4ka1FkKAMde6dQAFFMXKac</td>\n",
       "      <td>spotify:track:4ka1FkKAMde6dQAFFMXKac</td>\n",
       "      <td>https://api.spotify.com/v1/tracks/4ka1FkKAMde6...</td>\n",
       "      <td>https://api.spotify.com/v1/audio-analysis/4ka1...</td>\n",
       "      <td>177583</td>\n",
       "      <td>4</td>\n",
       "      <td>i hope ur miserable until ur dead</td>\n",
       "      <td>angry break up songs to scream to.</td>\n",
       "      <td>angry</td>\n",
       "      <td>pop</td>\n",
       "    </tr>\n",
       "  </tbody>\n",
       "</table>\n",
       "<p>5 rows × 22 columns</p>\n",
       "</div>"
      ],
      "text/plain": [
       "   danceability  energy  key  loudness  mode  speechiness  acousticness  \\\n",
       "0         0.548   0.833    7    -3.294     1       0.0497      0.199000   \n",
       "1         0.556   0.661    6    -5.052     0       0.2040      0.300000   \n",
       "2         0.816   0.677   11    -4.057     0       0.1970      0.358000   \n",
       "3         0.528   0.831    8    -3.607     1       0.0429      0.000094   \n",
       "4         0.706   0.544    2    -7.275     1       0.0306      0.027300   \n",
       "\n",
       "   instrumentalness  liveness  valence  ...                      id  \\\n",
       "0               0.0     0.305    0.467  ...  6dDIOU6AqgLkrjFNPgvKY6   \n",
       "1               0.0     0.101    0.668  ...  6PERP62TejQjgHu81OHxgM   \n",
       "2               0.0     0.165    0.571  ...  7A9rdAz2M6AjRwOa34jxIP   \n",
       "3               0.0     0.141    0.632  ...  1JdKrFyoU05abww0Zv0ayQ   \n",
       "4               0.0     0.087    0.477  ...  4ka1FkKAMde6dQAFFMXKac   \n",
       "\n",
       "                                    uri  \\\n",
       "0  spotify:track:6dDIOU6AqgLkrjFNPgvKY6   \n",
       "1  spotify:track:6PERP62TejQjgHu81OHxgM   \n",
       "2  spotify:track:7A9rdAz2M6AjRwOa34jxIP   \n",
       "3  spotify:track:1JdKrFyoU05abww0Zv0ayQ   \n",
       "4  spotify:track:4ka1FkKAMde6dQAFFMXKac   \n",
       "\n",
       "                                          track_href  \\\n",
       "0  https://api.spotify.com/v1/tracks/6dDIOU6AqgLk...   \n",
       "1  https://api.spotify.com/v1/tracks/6PERP62TejQj...   \n",
       "2  https://api.spotify.com/v1/tracks/7A9rdAz2M6Aj...   \n",
       "3  https://api.spotify.com/v1/tracks/1JdKrFyoU05a...   \n",
       "4  https://api.spotify.com/v1/tracks/4ka1FkKAMde6...   \n",
       "\n",
       "                                        analysis_url duration_ms  \\\n",
       "0  https://api.spotify.com/v1/audio-analysis/6dDI...      229693   \n",
       "1  https://api.spotify.com/v1/audio-analysis/6PER...      178148   \n",
       "2  https://api.spotify.com/v1/audio-analysis/7A9r...      172747   \n",
       "3  https://api.spotify.com/v1/audio-analysis/1JdK...      220480   \n",
       "4  https://api.spotify.com/v1/audio-analysis/4ka1...      177583   \n",
       "\n",
       "  time_signature                               song  \\\n",
       "0              3          FU (feat. French Montana)   \n",
       "1              4                           good 4 u   \n",
       "2              4                 Ur So F**kInG cOoL   \n",
       "3              3                That's What You Get   \n",
       "4              4  i hope ur miserable until ur dead   \n",
       "\n",
       "                              playlist   mood genre  \n",
       "0  angry break up songs to scream to.   angry   pop  \n",
       "1  angry break up songs to scream to.   angry   pop  \n",
       "2  angry break up songs to scream to.   angry   pop  \n",
       "3  angry break up songs to scream to.   angry   pop  \n",
       "4  angry break up songs to scream to.   angry   pop  \n",
       "\n",
       "[5 rows x 22 columns]"
      ]
     },
     "execution_count": 87,
     "metadata": {},
     "output_type": "execute_result"
    }
   ],
   "source": [
    "df.head()"
   ]
  },
  {
   "cell_type": "code",
   "execution_count": 88,
   "metadata": {},
   "outputs": [],
   "source": [
    "#drop analysis_url, track_href, id, and playlist columns\n",
    "df.drop(columns=['analysis_url','track_href','id','playlist'], inplace=True)"
   ]
  },
  {
   "cell_type": "code",
   "execution_count": 90,
   "metadata": {},
   "outputs": [],
   "source": [
    "df.drop(columns=['type'], inplace=True)"
   ]
  },
  {
   "cell_type": "code",
   "execution_count": 91,
   "metadata": {},
   "outputs": [
    {
     "data": {
      "text/html": [
       "<div>\n",
       "<style scoped>\n",
       "    .dataframe tbody tr th:only-of-type {\n",
       "        vertical-align: middle;\n",
       "    }\n",
       "\n",
       "    .dataframe tbody tr th {\n",
       "        vertical-align: top;\n",
       "    }\n",
       "\n",
       "    .dataframe thead th {\n",
       "        text-align: right;\n",
       "    }\n",
       "</style>\n",
       "<table border=\"1\" class=\"dataframe\">\n",
       "  <thead>\n",
       "    <tr style=\"text-align: right;\">\n",
       "      <th></th>\n",
       "      <th>danceability</th>\n",
       "      <th>energy</th>\n",
       "      <th>key</th>\n",
       "      <th>loudness</th>\n",
       "      <th>mode</th>\n",
       "      <th>speechiness</th>\n",
       "      <th>acousticness</th>\n",
       "      <th>instrumentalness</th>\n",
       "      <th>liveness</th>\n",
       "      <th>valence</th>\n",
       "      <th>tempo</th>\n",
       "      <th>uri</th>\n",
       "      <th>duration_ms</th>\n",
       "      <th>time_signature</th>\n",
       "      <th>song</th>\n",
       "      <th>mood</th>\n",
       "      <th>genre</th>\n",
       "    </tr>\n",
       "  </thead>\n",
       "  <tbody>\n",
       "    <tr>\n",
       "      <th>0</th>\n",
       "      <td>0.548</td>\n",
       "      <td>0.833</td>\n",
       "      <td>7</td>\n",
       "      <td>-3.294</td>\n",
       "      <td>1</td>\n",
       "      <td>0.0497</td>\n",
       "      <td>0.199000</td>\n",
       "      <td>0.0</td>\n",
       "      <td>0.305</td>\n",
       "      <td>0.467</td>\n",
       "      <td>190.029</td>\n",
       "      <td>spotify:track:6dDIOU6AqgLkrjFNPgvKY6</td>\n",
       "      <td>229693</td>\n",
       "      <td>3</td>\n",
       "      <td>FU (feat. French Montana)</td>\n",
       "      <td>angry</td>\n",
       "      <td>pop</td>\n",
       "    </tr>\n",
       "    <tr>\n",
       "      <th>1</th>\n",
       "      <td>0.556</td>\n",
       "      <td>0.661</td>\n",
       "      <td>6</td>\n",
       "      <td>-5.052</td>\n",
       "      <td>0</td>\n",
       "      <td>0.2040</td>\n",
       "      <td>0.300000</td>\n",
       "      <td>0.0</td>\n",
       "      <td>0.101</td>\n",
       "      <td>0.668</td>\n",
       "      <td>168.560</td>\n",
       "      <td>spotify:track:6PERP62TejQjgHu81OHxgM</td>\n",
       "      <td>178148</td>\n",
       "      <td>4</td>\n",
       "      <td>good 4 u</td>\n",
       "      <td>angry</td>\n",
       "      <td>pop</td>\n",
       "    </tr>\n",
       "    <tr>\n",
       "      <th>2</th>\n",
       "      <td>0.816</td>\n",
       "      <td>0.677</td>\n",
       "      <td>11</td>\n",
       "      <td>-4.057</td>\n",
       "      <td>0</td>\n",
       "      <td>0.1970</td>\n",
       "      <td>0.358000</td>\n",
       "      <td>0.0</td>\n",
       "      <td>0.165</td>\n",
       "      <td>0.571</td>\n",
       "      <td>78.979</td>\n",
       "      <td>spotify:track:7A9rdAz2M6AjRwOa34jxIP</td>\n",
       "      <td>172747</td>\n",
       "      <td>4</td>\n",
       "      <td>Ur So F**kInG cOoL</td>\n",
       "      <td>angry</td>\n",
       "      <td>pop</td>\n",
       "    </tr>\n",
       "    <tr>\n",
       "      <th>3</th>\n",
       "      <td>0.528</td>\n",
       "      <td>0.831</td>\n",
       "      <td>8</td>\n",
       "      <td>-3.607</td>\n",
       "      <td>1</td>\n",
       "      <td>0.0429</td>\n",
       "      <td>0.000094</td>\n",
       "      <td>0.0</td>\n",
       "      <td>0.141</td>\n",
       "      <td>0.632</td>\n",
       "      <td>131.094</td>\n",
       "      <td>spotify:track:1JdKrFyoU05abww0Zv0ayQ</td>\n",
       "      <td>220480</td>\n",
       "      <td>3</td>\n",
       "      <td>That's What You Get</td>\n",
       "      <td>angry</td>\n",
       "      <td>pop</td>\n",
       "    </tr>\n",
       "    <tr>\n",
       "      <th>4</th>\n",
       "      <td>0.706</td>\n",
       "      <td>0.544</td>\n",
       "      <td>2</td>\n",
       "      <td>-7.275</td>\n",
       "      <td>1</td>\n",
       "      <td>0.0306</td>\n",
       "      <td>0.027300</td>\n",
       "      <td>0.0</td>\n",
       "      <td>0.087</td>\n",
       "      <td>0.477</td>\n",
       "      <td>115.935</td>\n",
       "      <td>spotify:track:4ka1FkKAMde6dQAFFMXKac</td>\n",
       "      <td>177583</td>\n",
       "      <td>4</td>\n",
       "      <td>i hope ur miserable until ur dead</td>\n",
       "      <td>angry</td>\n",
       "      <td>pop</td>\n",
       "    </tr>\n",
       "  </tbody>\n",
       "</table>\n",
       "</div>"
      ],
      "text/plain": [
       "   danceability  energy  key  loudness  mode  speechiness  acousticness  \\\n",
       "0         0.548   0.833    7    -3.294     1       0.0497      0.199000   \n",
       "1         0.556   0.661    6    -5.052     0       0.2040      0.300000   \n",
       "2         0.816   0.677   11    -4.057     0       0.1970      0.358000   \n",
       "3         0.528   0.831    8    -3.607     1       0.0429      0.000094   \n",
       "4         0.706   0.544    2    -7.275     1       0.0306      0.027300   \n",
       "\n",
       "   instrumentalness  liveness  valence    tempo  \\\n",
       "0               0.0     0.305    0.467  190.029   \n",
       "1               0.0     0.101    0.668  168.560   \n",
       "2               0.0     0.165    0.571   78.979   \n",
       "3               0.0     0.141    0.632  131.094   \n",
       "4               0.0     0.087    0.477  115.935   \n",
       "\n",
       "                                    uri  duration_ms  time_signature  \\\n",
       "0  spotify:track:6dDIOU6AqgLkrjFNPgvKY6       229693               3   \n",
       "1  spotify:track:6PERP62TejQjgHu81OHxgM       178148               4   \n",
       "2  spotify:track:7A9rdAz2M6AjRwOa34jxIP       172747               4   \n",
       "3  spotify:track:1JdKrFyoU05abww0Zv0ayQ       220480               3   \n",
       "4  spotify:track:4ka1FkKAMde6dQAFFMXKac       177583               4   \n",
       "\n",
       "                                song   mood genre  \n",
       "0          FU (feat. French Montana)  angry   pop  \n",
       "1                           good 4 u  angry   pop  \n",
       "2                 Ur So F**kInG cOoL  angry   pop  \n",
       "3                That's What You Get  angry   pop  \n",
       "4  i hope ur miserable until ur dead  angry   pop  "
      ]
     },
     "execution_count": 91,
     "metadata": {},
     "output_type": "execute_result"
    }
   ],
   "source": [
    "df.head()"
   ]
  },
  {
   "attachments": {},
   "cell_type": "markdown",
   "metadata": {},
   "source": [
    "### Exporting the data to a csv file"
   ]
  },
  {
   "cell_type": "code",
   "execution_count": 99,
   "metadata": {},
   "outputs": [],
   "source": [
    "df.to_csv('Merged Emotions Data.csv', index=False)"
   ]
  }
 ],
 "metadata": {
  "kernelspec": {
   "display_name": "TextMining",
   "language": "python",
   "name": "python3"
  },
  "language_info": {
   "codemirror_mode": {
    "name": "ipython",
    "version": 3
   },
   "file_extension": ".py",
   "mimetype": "text/x-python",
   "name": "python",
   "nbconvert_exporter": "python",
   "pygments_lexer": "ipython3",
   "version": "3.9.13"
  },
  "orig_nbformat": 4
 },
 "nbformat": 4,
 "nbformat_minor": 2
}
