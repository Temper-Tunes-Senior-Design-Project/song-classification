{
 "cells": [
  {
   "cell_type": "code",
   "execution_count": 83,
   "metadata": {},
   "outputs": [],
   "source": [
    "import pandas as pd\n",
    "import matplotlib.pyplot as plt\n",
    "import seaborn as sns\n",
    "from sklearn.model_selection import train_test_split\n",
    "from imblearn.over_sampling import RandomOverSampler\n",
    "from sklearn.neural_network import MLPClassifier\n",
    "from sklearn.metrics import classification_report\n",
    "from sklearn.preprocessing import MinMaxScaler\n",
    "from sklearn.preprocessing import StandardScaler\n",
    "from sklearn.svm import SVC\n",
    "from os import chdir\n",
    "import numpy as np\n",
    "import pickle"
   ]
  },
  {
   "cell_type": "code",
   "execution_count": 48,
   "metadata": {},
   "outputs": [],
   "source": [
    "def clipAndNormalize(features):\n",
    "    #clip the features to the range of the training data\n",
    "    features['danceability'] = features['danceability'].clip(lower=0.22718080000000002, upper=0.906)\n",
    "    features['energy'] = features['energy'].clip(lower=0.03545904, upper=0.978)\n",
    "    features['loudness'] = features['loudness'].clip(lower=-26.4981552, upper=-1.6015904000000007)\n",
    "    features['speechiness'] = features['speechiness'].clip(lower=0.0257, upper=0.46640959999999926)\n",
    "    features['acousticness'] = features['acousticness'].clip(lower=8.353136000000001e-05, upper=0.9884095999999992)\n",
    "    features['instrumentalness'] = features['instrumentalness'].clip(lower=0.0, upper=0.956)\n",
    "    features['liveness'] = features['liveness'].clip(lower=0.0494, upper=0.697)\n",
    "    features['valence'] = features['valence'].clip(lower=0.0382, upper=0.923)\n",
    "    features['tempo'] = features['tempo'].clip(lower=63.7631808, upper=188.00344319999996)\n",
    "    features['duration_ms'] = features['duration_ms'].clip(lower=88264.8768, upper=372339.1727999991)\n",
    "    features['time_signature'] = features['time_signature'].clip(lower=3.0, upper=5.0)\n",
    "    \n",
    "    #normalize the data\n",
    "    scaler = pickle.load(open('scaler2.pkl', 'rb'))\n",
    "\n",
    "    #if id is a column, drop it\n",
    "    if 'id' in features.columns:\n",
    "        #fit on all columns except the track id\n",
    "        rawfeatures = features.drop(['id'], axis=1)\n",
    "    else:\n",
    "        rawfeatures = features\n",
    "    preprocessedFeatures = scaler.transform(features)\n",
    "    preprocessedFeaturesDF = pd.DataFrame(preprocessedFeatures, columns=rawfeatures.columns)\n",
    "\n",
    "    '''#convert to dictionary, with track id as key\n",
    "    preprocessedFeatures = pd.DataFrame(preprocessedFeatures, columns=rawfeatures.columns)\n",
    "    preprocessedFeatures['id']= features['id']\n",
    "    preprocessedFeatures = preprocessedFeatures.set_index('id').T.to_dict('list')'''\n",
    "    return preprocessedFeaturesDF, preprocessedFeatures"
   ]
  },
  {
   "cell_type": "code",
   "execution_count": 3,
   "metadata": {},
   "outputs": [],
   "source": [
    "chdir('C:/Users/mlar5/OneDrive/Desktop/Code Folder/Python Projects/IRL projects/Aspire - Affective Computing Project/Playlists Data/Audio Features/emotion joint data')"
   ]
  },
  {
   "cell_type": "code",
   "execution_count": 4,
   "metadata": {},
   "outputs": [],
   "source": [
    "emotionsDF = pd.read_csv('factorizedEmotionsDF1_readyForTransform.csv')"
   ]
  },
  {
   "cell_type": "code",
   "execution_count": 6,
   "metadata": {},
   "outputs": [
    {
     "data": {
      "text/plain": [
       "7    3783\n",
       "6    1218\n",
       "0    1020\n",
       "5     773\n",
       "3     728\n",
       "2     631\n",
       "4     405\n",
       "1     279\n",
       "Name: mood_code, dtype: int64"
      ]
     },
     "execution_count": 6,
     "metadata": {},
     "output_type": "execute_result"
    }
   ],
   "source": [
    "emotionsDF['mood_code'].value_counts()"
   ]
  },
  {
   "cell_type": "code",
   "execution_count": 55,
   "metadata": {},
   "outputs": [
    {
     "data": {
      "text/plain": [
       "6    500\n",
       "5    500\n",
       "7    500\n",
       "2    500\n",
       "3    500\n",
       "0    500\n",
       "4    405\n",
       "1    279\n",
       "Name: mood_code, dtype: int64"
      ]
     },
     "execution_count": 55,
     "metadata": {},
     "output_type": "execute_result"
    }
   ],
   "source": [
    "# create a new df with only up to 500 songs per mood_code\n",
    "# this is to balance the data\n",
    "\n",
    "balancedDF = pd.DataFrame(columns=emotionsDF.columns)\n",
    "\n",
    "for i in emotionsDF['mood_code'].unique():\n",
    "    df = emotionsDF[emotionsDF['mood_code']==i]\n",
    "    #if the value count of the mood_code is larger than 500, sample 500\n",
    "    if df['mood_code'].value_counts()[i] > 500:\n",
    "        df = df.sample(n=500, random_state=42)\n",
    "    #if the value count of the mood_code is less than 500, sample the value count\n",
    "    else:\n",
    "        df = df.sample(n=df['mood_code'].value_counts()[i])\n",
    "    balancedDF = pd.concat([balancedDF, df])\n",
    "\n",
    "balancedDF['mood_code'].value_counts()"
   ]
  },
  {
   "cell_type": "code",
   "execution_count": 56,
   "metadata": {},
   "outputs": [
    {
     "data": {
      "text/html": [
       "<div>\n",
       "<style scoped>\n",
       "    .dataframe tbody tr th:only-of-type {\n",
       "        vertical-align: middle;\n",
       "    }\n",
       "\n",
       "    .dataframe tbody tr th {\n",
       "        vertical-align: top;\n",
       "    }\n",
       "\n",
       "    .dataframe thead th {\n",
       "        text-align: right;\n",
       "    }\n",
       "</style>\n",
       "<table border=\"1\" class=\"dataframe\">\n",
       "  <thead>\n",
       "    <tr style=\"text-align: right;\">\n",
       "      <th></th>\n",
       "      <th>danceability</th>\n",
       "      <th>energy</th>\n",
       "      <th>key</th>\n",
       "      <th>loudness</th>\n",
       "      <th>mode</th>\n",
       "      <th>speechiness</th>\n",
       "      <th>acousticness</th>\n",
       "      <th>instrumentalness</th>\n",
       "      <th>liveness</th>\n",
       "      <th>valence</th>\n",
       "      <th>tempo</th>\n",
       "      <th>uri</th>\n",
       "      <th>duration_ms</th>\n",
       "      <th>time_signature</th>\n",
       "      <th>song</th>\n",
       "      <th>mood</th>\n",
       "      <th>genre</th>\n",
       "      <th>mood_code</th>\n",
       "    </tr>\n",
       "  </thead>\n",
       "  <tbody>\n",
       "    <tr>\n",
       "      <th>232</th>\n",
       "      <td>0.457</td>\n",
       "      <td>0.932</td>\n",
       "      <td>5</td>\n",
       "      <td>-3.984</td>\n",
       "      <td>1</td>\n",
       "      <td>0.0849</td>\n",
       "      <td>0.05770</td>\n",
       "      <td>0.00014</td>\n",
       "      <td>0.5870</td>\n",
       "      <td>0.659</td>\n",
       "      <td>189.880</td>\n",
       "      <td>spotify:track:1IIxXYokMte6KEQHxJynu9</td>\n",
       "      <td>197053</td>\n",
       "      <td>4</td>\n",
       "      <td>A Girl Is a Gun</td>\n",
       "      <td>angry</td>\n",
       "      <td>EDM</td>\n",
       "      <td>1</td>\n",
       "    </tr>\n",
       "    <tr>\n",
       "      <th>126</th>\n",
       "      <td>0.733</td>\n",
       "      <td>0.930</td>\n",
       "      <td>11</td>\n",
       "      <td>-5.772</td>\n",
       "      <td>1</td>\n",
       "      <td>0.1390</td>\n",
       "      <td>0.17500</td>\n",
       "      <td>0.01330</td>\n",
       "      <td>0.0662</td>\n",
       "      <td>0.691</td>\n",
       "      <td>139.927</td>\n",
       "      <td>spotify:track:77VHb191LLkpsYJTS2cgEc</td>\n",
       "      <td>126062</td>\n",
       "      <td>4</td>\n",
       "      <td>Team</td>\n",
       "      <td>angry</td>\n",
       "      <td>metal</td>\n",
       "      <td>1</td>\n",
       "    </tr>\n",
       "    <tr>\n",
       "      <th>118</th>\n",
       "      <td>0.445</td>\n",
       "      <td>0.907</td>\n",
       "      <td>11</td>\n",
       "      <td>-3.894</td>\n",
       "      <td>0</td>\n",
       "      <td>0.0773</td>\n",
       "      <td>0.00161</td>\n",
       "      <td>0.00000</td>\n",
       "      <td>0.4030</td>\n",
       "      <td>0.710</td>\n",
       "      <td>165.069</td>\n",
       "      <td>spotify:track:55Fpeuuc2sbQiy74eA1gTt</td>\n",
       "      <td>187880</td>\n",
       "      <td>4</td>\n",
       "      <td>Wolf in Sheep's Clothing</td>\n",
       "      <td>angry</td>\n",
       "      <td>metal</td>\n",
       "      <td>1</td>\n",
       "    </tr>\n",
       "    <tr>\n",
       "      <th>201</th>\n",
       "      <td>0.656</td>\n",
       "      <td>0.689</td>\n",
       "      <td>6</td>\n",
       "      <td>-8.698</td>\n",
       "      <td>1</td>\n",
       "      <td>0.4410</td>\n",
       "      <td>0.17400</td>\n",
       "      <td>0.00367</td>\n",
       "      <td>0.0874</td>\n",
       "      <td>0.282</td>\n",
       "      <td>180.201</td>\n",
       "      <td>spotify:track:2atHJbCPSlFMeb4mlnK1L5</td>\n",
       "      <td>145333</td>\n",
       "      <td>4</td>\n",
       "      <td>I Wash My Hands In The Blood</td>\n",
       "      <td>angry</td>\n",
       "      <td>EDM</td>\n",
       "      <td>1</td>\n",
       "    </tr>\n",
       "    <tr>\n",
       "      <th>140</th>\n",
       "      <td>0.880</td>\n",
       "      <td>0.777</td>\n",
       "      <td>7</td>\n",
       "      <td>-6.875</td>\n",
       "      <td>0</td>\n",
       "      <td>0.1250</td>\n",
       "      <td>0.16400</td>\n",
       "      <td>0.01710</td>\n",
       "      <td>0.0957</td>\n",
       "      <td>0.974</td>\n",
       "      <td>154.955</td>\n",
       "      <td>spotify:track:46M2hXnaQpueG7vSvgVtVH</td>\n",
       "      <td>93894</td>\n",
       "      <td>4</td>\n",
       "      <td>GTG</td>\n",
       "      <td>angry</td>\n",
       "      <td>metal</td>\n",
       "      <td>1</td>\n",
       "    </tr>\n",
       "  </tbody>\n",
       "</table>\n",
       "</div>"
      ],
      "text/plain": [
       "     danceability  energy key  loudness mode  speechiness  acousticness  \\\n",
       "232         0.457   0.932   5    -3.984    1       0.0849       0.05770   \n",
       "126         0.733   0.930  11    -5.772    1       0.1390       0.17500   \n",
       "118         0.445   0.907  11    -3.894    0       0.0773       0.00161   \n",
       "201         0.656   0.689   6    -8.698    1       0.4410       0.17400   \n",
       "140         0.880   0.777   7    -6.875    0       0.1250       0.16400   \n",
       "\n",
       "     instrumentalness  liveness  valence    tempo  \\\n",
       "232           0.00014    0.5870    0.659  189.880   \n",
       "126           0.01330    0.0662    0.691  139.927   \n",
       "118           0.00000    0.4030    0.710  165.069   \n",
       "201           0.00367    0.0874    0.282  180.201   \n",
       "140           0.01710    0.0957    0.974  154.955   \n",
       "\n",
       "                                      uri duration_ms time_signature  \\\n",
       "232  spotify:track:1IIxXYokMte6KEQHxJynu9      197053              4   \n",
       "126  spotify:track:77VHb191LLkpsYJTS2cgEc      126062              4   \n",
       "118  spotify:track:55Fpeuuc2sbQiy74eA1gTt      187880              4   \n",
       "201  spotify:track:2atHJbCPSlFMeb4mlnK1L5      145333              4   \n",
       "140  spotify:track:46M2hXnaQpueG7vSvgVtVH       93894              4   \n",
       "\n",
       "                             song   mood  genre mood_code  \n",
       "232               A Girl Is a Gun  angry    EDM         1  \n",
       "126                          Team  angry  metal         1  \n",
       "118      Wolf in Sheep's Clothing  angry  metal         1  \n",
       "201  I Wash My Hands In The Blood  angry    EDM         1  \n",
       "140                           GTG  angry  metal         1  "
      ]
     },
     "execution_count": 56,
     "metadata": {},
     "output_type": "execute_result"
    }
   ],
   "source": [
    "balancedDF.head()"
   ]
  },
  {
   "cell_type": "code",
   "execution_count": 57,
   "metadata": {},
   "outputs": [],
   "source": [
    "rawfeatures = balancedDF.drop(['uri', 'song','mood','genre','mood_code'], axis=1)"
   ]
  },
  {
   "cell_type": "code",
   "execution_count": 58,
   "metadata": {},
   "outputs": [],
   "source": [
    "rawfeaturesDF, rawfeatures = clipAndNormalize(rawfeatures)"
   ]
  },
  {
   "cell_type": "code",
   "execution_count": 59,
   "metadata": {},
   "outputs": [
    {
     "data": {
      "text/html": [
       "<div>\n",
       "<style scoped>\n",
       "    .dataframe tbody tr th:only-of-type {\n",
       "        vertical-align: middle;\n",
       "    }\n",
       "\n",
       "    .dataframe tbody tr th {\n",
       "        vertical-align: top;\n",
       "    }\n",
       "\n",
       "    .dataframe thead th {\n",
       "        text-align: right;\n",
       "    }\n",
       "</style>\n",
       "<table border=\"1\" class=\"dataframe\">\n",
       "  <thead>\n",
       "    <tr style=\"text-align: right;\">\n",
       "      <th></th>\n",
       "      <th>danceability</th>\n",
       "      <th>energy</th>\n",
       "      <th>key</th>\n",
       "      <th>loudness</th>\n",
       "      <th>mode</th>\n",
       "      <th>speechiness</th>\n",
       "      <th>acousticness</th>\n",
       "      <th>instrumentalness</th>\n",
       "      <th>liveness</th>\n",
       "      <th>valence</th>\n",
       "      <th>tempo</th>\n",
       "      <th>duration_ms</th>\n",
       "      <th>time_signature</th>\n",
       "    </tr>\n",
       "  </thead>\n",
       "  <tbody>\n",
       "    <tr>\n",
       "      <th>0</th>\n",
       "      <td>-1.045141</td>\n",
       "      <td>1.505777</td>\n",
       "      <td>-0.064537</td>\n",
       "      <td>0.930482</td>\n",
       "      <td>0.805606</td>\n",
       "      <td>-0.106761</td>\n",
       "      <td>-0.888148</td>\n",
       "      <td>-0.556564</td>\n",
       "      <td>3.408128</td>\n",
       "      <td>1.208816</td>\n",
       "      <td>2.237071</td>\n",
       "      <td>0.043283</td>\n",
       "      <td>0.187342</td>\n",
       "    </tr>\n",
       "    <tr>\n",
       "      <th>1</th>\n",
       "      <td>0.820226</td>\n",
       "      <td>1.497945</td>\n",
       "      <td>1.619457</td>\n",
       "      <td>0.596268</td>\n",
       "      <td>0.805606</td>\n",
       "      <td>0.451844</td>\n",
       "      <td>-0.549409</td>\n",
       "      <td>-0.519087</td>\n",
       "      <td>-0.834554</td>\n",
       "      <td>1.350540</td>\n",
       "      <td>0.632665</td>\n",
       "      <td>-1.235463</td>\n",
       "      <td>0.187342</td>\n",
       "    </tr>\n",
       "    <tr>\n",
       "      <th>2</th>\n",
       "      <td>-1.126244</td>\n",
       "      <td>1.407886</td>\n",
       "      <td>1.619457</td>\n",
       "      <td>0.947305</td>\n",
       "      <td>-1.241301</td>\n",
       "      <td>-0.185234</td>\n",
       "      <td>-1.050124</td>\n",
       "      <td>-0.556962</td>\n",
       "      <td>1.909177</td>\n",
       "      <td>1.434689</td>\n",
       "      <td>1.471703</td>\n",
       "      <td>-0.121948</td>\n",
       "      <td>0.187342</td>\n",
       "    </tr>\n",
       "    <tr>\n",
       "      <th>3</th>\n",
       "      <td>0.299815</td>\n",
       "      <td>0.554282</td>\n",
       "      <td>0.216129</td>\n",
       "      <td>0.049339</td>\n",
       "      <td>0.805606</td>\n",
       "      <td>3.570120</td>\n",
       "      <td>-0.552297</td>\n",
       "      <td>-0.546511</td>\n",
       "      <td>-0.661849</td>\n",
       "      <td>-0.460880</td>\n",
       "      <td>1.976688</td>\n",
       "      <td>-0.888339</td>\n",
       "      <td>0.187342</td>\n",
       "    </tr>\n",
       "    <tr>\n",
       "      <th>4</th>\n",
       "      <td>1.813736</td>\n",
       "      <td>0.898856</td>\n",
       "      <td>0.496795</td>\n",
       "      <td>0.390095</td>\n",
       "      <td>-1.241301</td>\n",
       "      <td>0.307288</td>\n",
       "      <td>-0.581175</td>\n",
       "      <td>-0.508265</td>\n",
       "      <td>-0.594234</td>\n",
       "      <td>2.378045</td>\n",
       "      <td>1.134179</td>\n",
       "      <td>-1.814898</td>\n",
       "      <td>0.187342</td>\n",
       "    </tr>\n",
       "  </tbody>\n",
       "</table>\n",
       "</div>"
      ],
      "text/plain": [
       "   danceability    energy       key  loudness      mode  speechiness  \\\n",
       "0     -1.045141  1.505777 -0.064537  0.930482  0.805606    -0.106761   \n",
       "1      0.820226  1.497945  1.619457  0.596268  0.805606     0.451844   \n",
       "2     -1.126244  1.407886  1.619457  0.947305 -1.241301    -0.185234   \n",
       "3      0.299815  0.554282  0.216129  0.049339  0.805606     3.570120   \n",
       "4      1.813736  0.898856  0.496795  0.390095 -1.241301     0.307288   \n",
       "\n",
       "   acousticness  instrumentalness  liveness   valence     tempo  duration_ms  \\\n",
       "0     -0.888148         -0.556564  3.408128  1.208816  2.237071     0.043283   \n",
       "1     -0.549409         -0.519087 -0.834554  1.350540  0.632665    -1.235463   \n",
       "2     -1.050124         -0.556962  1.909177  1.434689  1.471703    -0.121948   \n",
       "3     -0.552297         -0.546511 -0.661849 -0.460880  1.976688    -0.888339   \n",
       "4     -0.581175         -0.508265 -0.594234  2.378045  1.134179    -1.814898   \n",
       "\n",
       "   time_signature  \n",
       "0        0.187342  \n",
       "1        0.187342  \n",
       "2        0.187342  \n",
       "3        0.187342  \n",
       "4        0.187342  "
      ]
     },
     "execution_count": 59,
     "metadata": {},
     "output_type": "execute_result"
    }
   ],
   "source": [
    "rawfeaturesDF.head()"
   ]
  },
  {
   "cell_type": "code",
   "execution_count": 60,
   "metadata": {},
   "outputs": [],
   "source": [
    "y = balancedDF['mood_code']"
   ]
  },
  {
   "cell_type": "code",
   "execution_count": 61,
   "metadata": {},
   "outputs": [],
   "source": [
    "#set it to categorical\n",
    "y = y.astype('category')"
   ]
  },
  {
   "cell_type": "code",
   "execution_count": 62,
   "metadata": {},
   "outputs": [],
   "source": [
    "X_train_standard, X_test_standard, y_train_standard, y_test_standard = train_test_split(rawfeatures, y, test_size=0.2, random_state=42, stratify=y)\n"
   ]
  },
  {
   "cell_type": "code",
   "execution_count": 123,
   "metadata": {},
   "outputs": [],
   "source": [
    "\n",
    "# Initialize the MLP classifier\n",
    "mlp = MLPClassifier(hidden_layer_sizes=(256,128),random_state=42,early_stopping=True)"
   ]
  },
  {
   "cell_type": "code",
   "execution_count": 127,
   "metadata": {},
   "outputs": [
    {
     "name": "stdout",
     "output_type": "stream",
     "text": [
      "              precision    recall  f1-score   support\n",
      "\n",
      "           0       0.33      0.41      0.37       100\n",
      "           1       0.57      0.23      0.33        56\n",
      "           2       0.54      0.77      0.64       100\n",
      "           3       0.39      0.57      0.47       100\n",
      "           4       0.56      0.31      0.40        81\n",
      "           5       0.37      0.30      0.33       100\n",
      "           6       0.56      0.66      0.61       100\n",
      "           7       0.33      0.20      0.25       100\n",
      "\n",
      "    accuracy                           0.45       737\n",
      "   macro avg       0.46      0.43      0.42       737\n",
      "weighted avg       0.45      0.45      0.43       737\n",
      "\n"
     ]
    }
   ],
   "source": [
    "# Train the model on the resampled data\n",
    "mlp.fit(X_train_standard, y_train_standard)\n",
    "\n",
    "# Make predictions on the test set\n",
    "y_pred = mlp.predict(X_test_standard)\n",
    "\n",
    "# Evaluate the model performance of micro-averaged F1 score\n",
    "\n",
    "print(classification_report(y_test_standard, y_pred))\n"
   ]
  },
  {
   "cell_type": "code",
   "execution_count": 128,
   "metadata": {},
   "outputs": [
    {
     "name": "stdout",
     "output_type": "stream",
     "text": [
      "              precision    recall  f1-score   support\n",
      "\n",
      "           0       0.46      0.49      0.48       100\n",
      "           1       0.84      0.66      0.74        56\n",
      "           2       0.70      0.89      0.78       100\n",
      "           3       0.54      0.68      0.60       100\n",
      "           4       0.78      0.58      0.67        81\n",
      "           5       0.56      0.47      0.51       100\n",
      "           6       0.85      0.87      0.86       100\n",
      "           7       0.72      0.63      0.67       100\n",
      "\n",
      "    accuracy                           0.66       737\n",
      "   macro avg       0.68      0.66      0.66       737\n",
      "weighted avg       0.67      0.66      0.66       737\n",
      "\n"
     ]
    }
   ],
   "source": [
    "offByOne(y_test_standard, y_pred)"
   ]
  },
  {
   "cell_type": "code",
   "execution_count": 139,
   "metadata": {},
   "outputs": [],
   "source": [
    "#svm = SVC(kernel='linear', class_weight='balanced', random_state=42)\n",
    "svm =SVC(kernel='poly', degree=3,class_weight='balanced', random_state=42)\n"
   ]
  },
  {
   "cell_type": "code",
   "execution_count": 140,
   "metadata": {},
   "outputs": [
    {
     "name": "stdout",
     "output_type": "stream",
     "text": [
      "              precision    recall  f1-score   support\n",
      "\n",
      "           0       0.31      0.51      0.38       100\n",
      "           1       0.43      0.38      0.40        56\n",
      "           2       0.56      0.54      0.55       100\n",
      "           3       0.47      0.55      0.51       100\n",
      "           4       0.42      0.47      0.44        81\n",
      "           5       0.40      0.30      0.34       100\n",
      "           6       0.61      0.58      0.59       100\n",
      "           7       0.26      0.12      0.16       100\n",
      "\n",
      "    accuracy                           0.43       737\n",
      "   macro avg       0.43      0.43      0.42       737\n",
      "weighted avg       0.43      0.43      0.42       737\n",
      "\n"
     ]
    }
   ],
   "source": [
    "# Train the model\n",
    "svm.fit(X_train_standard, y_train_standard)\n",
    "\n",
    "# Make predictions on the test set\n",
    "y_pred_SVM = svm.predict(X_test_standard)\n",
    "\n",
    "# Evaluate the model performance\n",
    "print(classification_report(y_test_standard, y_pred_SVM))"
   ]
  },
  {
   "cell_type": "code",
   "execution_count": 126,
   "metadata": {},
   "outputs": [],
   "source": [
    "def offByOne(y_test_standard, y_pred):\n",
    "    #compare y_test_standard with y_pred_list. If y_pred_list is +-1 from y_test_standard, then it change it to be the same as y_test_standard\n",
    "    y_test_standard_list=list(y_test_standard)\n",
    "    y_pred_list = list(y_pred)\n",
    "    for id in range(len(y_test_standard_list)):\n",
    "        if y_test_standard_list[id] != 0 and y_test_standard_list[id] != 7:\n",
    "            if y_pred_list[id] == y_test_standard_list[id] - 1 or y_pred_list[id] == y_test_standard_list[id] + 1:\n",
    "                y_pred_list[id] = y_test_standard_list[id]\n",
    "        elif y_test_standard_list[id] == 0:\n",
    "            if y_pred_list[id] ==  1 or y_pred_list[id] == 7:\n",
    "                y_pred_list[id] = y_test_standard_list[id]\n",
    "        elif y_test_standard_list[id] == 7:\n",
    "            if y_pred_list[id] ==  0 or y_pred_list[id] == 6:\n",
    "                y_pred_list[id] = y_test_standard_list[id]\n",
    "    print(classification_report(y_test_standard_list, y_pred_list))\n",
    "    return"
   ]
  },
  {
   "cell_type": "code",
   "execution_count": 122,
   "metadata": {},
   "outputs": [
    {
     "name": "stdout",
     "output_type": "stream",
     "text": [
      "              precision    recall  f1-score   support\n",
      "\n",
      "           0       0.42      0.60      0.50       100\n",
      "           1       0.70      0.66      0.68        56\n",
      "           2       0.76      0.74      0.75       100\n",
      "           3       0.65      0.71      0.68       100\n",
      "           4       0.61      0.67      0.64        81\n",
      "           5       0.60      0.49      0.54       100\n",
      "           6       0.90      0.79      0.84       100\n",
      "           7       0.78      0.59      0.67       100\n",
      "\n",
      "    accuracy                           0.66       737\n",
      "   macro avg       0.68      0.66      0.66       737\n",
      "weighted avg       0.68      0.66      0.66       737\n",
      "\n"
     ]
    }
   ],
   "source": [
    "offByOne(y_test_standard, y_pred_SVM)"
   ]
  }
 ],
 "metadata": {
  "kernelspec": {
   "display_name": "TextMining",
   "language": "python",
   "name": "python3"
  },
  "language_info": {
   "codemirror_mode": {
    "name": "ipython",
    "version": 3
   },
   "file_extension": ".py",
   "mimetype": "text/x-python",
   "name": "python",
   "nbconvert_exporter": "python",
   "pygments_lexer": "ipython3",
   "version": "3.9.13"
  },
  "orig_nbformat": 4
 },
 "nbformat": 4,
 "nbformat_minor": 2
}
